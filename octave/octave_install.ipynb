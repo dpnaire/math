{
  "nbformat": 4,
  "nbformat_minor": 0,
  "metadata": {
    "colab": {
      "provenance": [],
      "authorship_tag": "ABX9TyNreCaF3zG9fR+/NfLcyv22",
      "include_colab_link": true
    },
    "kernelspec": {
      "name": "python3",
      "display_name": "Python 3"
    },
    "language_info": {
      "name": "python"
    }
  },
  "cells": [
    {
      "cell_type": "markdown",
      "metadata": {
        "id": "view-in-github",
        "colab_type": "text"
      },
      "source": [
        "<a href=\"https://colab.research.google.com/github/financieras/math/blob/main/octave/octave_install.ipynb\" target=\"_parent\"><img src=\"https://colab.research.google.com/assets/colab-badge.svg\" alt=\"Open In Colab\"/></a>"
      ]
    },
    {
      "cell_type": "code",
      "source": [
        "# La instalación puede tardar algo más de un minuto\n",
        "!apt install octave"
      ],
      "metadata": {
        "id": "qWuDoIaqs1ZY"
      },
      "execution_count": null,
      "outputs": []
    },
    {
      "cell_type": "code",
      "source": [
        "# opcionalmene podemos actualizar los paquetes\n",
        "#!apt update"
      ],
      "metadata": {
        "id": "9jxCKEw7vkjZ"
      },
      "execution_count": null,
      "outputs": []
    },
    {
      "cell_type": "code",
      "source": [
        "%%writefile pru.m\n",
        "x = 2\n",
        "y = 3\n",
        "display(x+y)"
      ],
      "metadata": {
        "id": "zAM--dWbtN8J",
        "colab": {
          "base_uri": "https://localhost:8080/"
        },
        "outputId": "ff5b09c1-44f9-4874-f0cb-c2df5b56fa63"
      },
      "execution_count": 4,
      "outputs": [
        {
          "output_type": "stream",
          "name": "stdout",
          "text": [
            "Writing pru.m\n"
          ]
        }
      ]
    },
    {
      "cell_type": "code",
      "source": [
        "!octave pru.m"
      ],
      "metadata": {
        "id": "gY_DNr-hzSXU",
        "colab": {
          "base_uri": "https://localhost:8080/"
        },
        "outputId": "0c18b0f0-5265-4023-fd68-a7a2d4f94f84"
      },
      "execution_count": 5,
      "outputs": [
        {
          "output_type": "stream",
          "name": "stdout",
          "text": [
            "octave: X11 DISPLAY environment variable not set\n",
            "octave: disabling GUI features\n",
            "x =  2\n",
            "y =  3\n",
            " 5\n"
          ]
        }
      ]
    }
  ]
}