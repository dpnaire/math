{
  "nbformat": 4,
  "nbformat_minor": 0,
  "metadata": {
    "colab": {
      "provenance": [],
      "authorship_tag": "ABX9TyOX15Fu3ylcA0AjsjcrrAic",
      "include_colab_link": true
    },
    "kernelspec": {
      "name": "python3",
      "display_name": "Python 3"
    },
    "language_info": {
      "name": "python"
    }
  },
  "cells": [
    {
      "cell_type": "markdown",
      "metadata": {
        "id": "view-in-github",
        "colab_type": "text"
      },
      "source": [
        "<a href=\"https://colab.research.google.com/github/financieras/math/blob/main/octave/octave_install.ipynb\" target=\"_parent\"><img src=\"https://colab.research.google.com/assets/colab-badge.svg\" alt=\"Open In Colab\"/></a>"
      ]
    },
    {
      "cell_type": "code",
      "source": [
        "# La instalación puede tardar algo más de un minuto\n",
        "!apt install octave"
      ],
      "metadata": {
        "id": "qWuDoIaqs1ZY"
      },
      "execution_count": null,
      "outputs": []
    },
    {
      "cell_type": "code",
      "source": [
        "%%writefile pru.m\n",
        "x = 2\n",
        "y = 3\n",
        "display(x+y)"
      ],
      "metadata": {
        "id": "zAM--dWbtN8J"
      },
      "execution_count": null,
      "outputs": []
    },
    {
      "cell_type": "code",
      "source": [
        "!octave -W pru.m"
      ],
      "metadata": {
        "id": "gY_DNr-hzSXU"
      },
      "execution_count": null,
      "outputs": []
    },
    {
      "cell_type": "markdown",
      "source": [
        "# Comandos básicos en Octave"
      ],
      "metadata": {
        "id": "YuHz-NpUiymo"
      }
    },
    {
      "cell_type": "markdown",
      "source": [
        "##  Matriz de números aleatorios\n",
        "* Genera una matriz de números aleatorios de 3×3.\n",
        "* Los aleatorios son uniformes (0,1)"
      ],
      "metadata": {
        "id": "gAGJs4swi62K"
      }
    },
    {
      "cell_type": "code",
      "source": [
        "%%writefile pru.m\n",
        "A = rand(3,3)"
      ],
      "metadata": {
        "id": "JDD7fmjdjDWG",
        "outputId": "4dc712d1-b02a-445b-b5c2-bf8515afab6e",
        "colab": {
          "base_uri": "https://localhost:8080/"
        }
      },
      "execution_count": 8,
      "outputs": [
        {
          "output_type": "stream",
          "name": "stdout",
          "text": [
            "Overwriting pru.m\n"
          ]
        }
      ]
    },
    {
      "cell_type": "code",
      "source": [
        "!octave pru.m"
      ],
      "metadata": {
        "id": "1iyvxA4djsMm",
        "outputId": "6929de37-6b03-4a85-cbd6-f2fa5c526fc3",
        "colab": {
          "base_uri": "https://localhost:8080/"
        }
      },
      "execution_count": 9,
      "outputs": [
        {
          "output_type": "stream",
          "name": "stdout",
          "text": [
            "octave: X11 DISPLAY environment variable not set\n",
            "octave: disabling GUI features\n",
            "A =\n",
            "\n",
            "   0.221284   0.382386   0.979755\n",
            "   0.388385   0.075891   0.180573\n",
            "   0.827247   0.484524   0.416644\n",
            "\n"
          ]
        }
      ]
    },
    {
      "cell_type": "markdown",
      "source": [
        "## Vector fila\n",
        "Genera un vector fila de 10 números que comienza en 100 y finaliza en 109"
      ],
      "metadata": {
        "id": "t84zmViDkCkP"
      }
    },
    {
      "cell_type": "code",
      "source": [
        "%%writefile pru.m\n",
        "f = linspace(100,109,10)"
      ],
      "metadata": {
        "id": "McP4ecdwkJzX",
        "outputId": "f6721785-9dd5-4b79-d7f7-9a34fb483fa6",
        "colab": {
          "base_uri": "https://localhost:8080/"
        }
      },
      "execution_count": 12,
      "outputs": [
        {
          "output_type": "stream",
          "name": "stdout",
          "text": [
            "Overwriting pru.m\n"
          ]
        }
      ]
    },
    {
      "cell_type": "code",
      "source": [
        "!octave pru.m"
      ],
      "metadata": {
        "id": "KMAEMo2xkWrD",
        "outputId": "749f4f7a-4e05-4677-b4c6-b1308eae15f1",
        "colab": {
          "base_uri": "https://localhost:8080/"
        }
      },
      "execution_count": 13,
      "outputs": [
        {
          "output_type": "stream",
          "name": "stdout",
          "text": [
            "octave: X11 DISPLAY environment variable not set\n",
            "octave: disabling GUI features\n",
            "f =\n",
            "\n",
            "   100   101   102   103   104   105   106   107   108   109\n",
            "\n"
          ]
        }
      ]
    },
    {
      "cell_type": "markdown",
      "source": [
        "## Transponer un vector fila\n",
        "Al transponer el vector fila f obtenemos un vector columna c."
      ],
      "metadata": {
        "id": "1dBRa5CokgTN"
      }
    },
    {
      "cell_type": "code",
      "source": [
        "%%writefile pru.m\n",
        "f = linspace(100,109,10)\n",
        "c = transpose(f)"
      ],
      "metadata": {
        "id": "g5HSHkFXko8r",
        "outputId": "bea32d4e-5d24-451a-f1de-c46efdbceb7d",
        "colab": {
          "base_uri": "https://localhost:8080/"
        }
      },
      "execution_count": 16,
      "outputs": [
        {
          "output_type": "stream",
          "name": "stdout",
          "text": [
            "Overwriting pru.m\n"
          ]
        }
      ]
    },
    {
      "cell_type": "code",
      "source": [
        "!octave pru.m"
      ],
      "metadata": {
        "id": "RXoPQc2sk2sj",
        "outputId": "a623cae1-a03b-4280-fbd0-f50512bb003e",
        "colab": {
          "base_uri": "https://localhost:8080/"
        }
      },
      "execution_count": 17,
      "outputs": [
        {
          "output_type": "stream",
          "name": "stdout",
          "text": [
            "octave: X11 DISPLAY environment variable not set\n",
            "octave: disabling GUI features\n",
            "f =\n",
            "\n",
            "   100   101   102   103   104   105   106   107   108   109\n",
            "\n",
            "c =\n",
            "\n",
            "   100\n",
            "   101\n",
            "   102\n",
            "   103\n",
            "   104\n",
            "   105\n",
            "   106\n",
            "   107\n",
            "   108\n",
            "   109\n",
            "\n"
          ]
        }
      ]
    },
    {
      "cell_type": "markdown",
      "source": [
        "## Producto de dos vectores\n",
        "Se multiplica el vector fila f por el vector columna c"
      ],
      "metadata": {
        "id": "6Mas12DzlCu9"
      }
    },
    {
      "cell_type": "code",
      "source": [
        "%%writefile pru.m\n",
        "f = linspace(100,109,10)\n",
        "c = transpose(f)\n",
        "f*c   # dimensiones (1x10) * (10x1)\n",
        "c*f"
      ],
      "metadata": {
        "id": "LXxr19JVlKzJ",
        "outputId": "6d816da6-d910-4452-800c-4dc71445e250",
        "colab": {
          "base_uri": "https://localhost:8080/"
        }
      },
      "execution_count": 28,
      "outputs": [
        {
          "output_type": "stream",
          "name": "stdout",
          "text": [
            "Overwriting pru.m\n"
          ]
        }
      ]
    },
    {
      "cell_type": "code",
      "source": [
        "!octave pru.m"
      ],
      "metadata": {
        "id": "1OjB7hfNlR05",
        "outputId": "f403665d-8b7e-46cc-db74-167ef7285d69",
        "colab": {
          "base_uri": "https://localhost:8080/"
        }
      },
      "execution_count": 29,
      "outputs": [
        {
          "output_type": "stream",
          "name": "stdout",
          "text": [
            "octave: X11 DISPLAY environment variable not set\n",
            "octave: disabling GUI features\n",
            "f =\n",
            "\n",
            "   100   101   102   103   104   105   106   107   108   109\n",
            "\n",
            "c =\n",
            "\n",
            "   100\n",
            "   101\n",
            "   102\n",
            "   103\n",
            "   104\n",
            "   105\n",
            "   106\n",
            "   107\n",
            "   108\n",
            "   109\n",
            "\n",
            "ans =  109285\n",
            "ans =\n",
            "\n",
            "   10000   10100   10200   10300   10400   10500   10600   10700   10800   10900\n",
            "   10100   10201   10302   10403   10504   10605   10706   10807   10908   11009\n",
            "   10200   10302   10404   10506   10608   10710   10812   10914   11016   11118\n",
            "   10300   10403   10506   10609   10712   10815   10918   11021   11124   11227\n",
            "   10400   10504   10608   10712   10816   10920   11024   11128   11232   11336\n",
            "   10500   10605   10710   10815   10920   11025   11130   11235   11340   11445\n",
            "   10600   10706   10812   10918   11024   11130   11236   11342   11448   11554\n",
            "   10700   10807   10914   11021   11128   11235   11342   11449   11556   11663\n",
            "   10800   10908   11016   11124   11232   11340   11448   11556   11664   11772\n",
            "   10900   11009   11118   11227   11336   11445   11554   11663   11772   11881\n",
            "\n"
          ]
        }
      ]
    }
  ]
}