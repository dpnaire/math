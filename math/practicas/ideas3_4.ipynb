{
  "nbformat": 4,
  "nbformat_minor": 0,
  "metadata": {
    "colab": {
      "provenance": [],
      "authorship_tag": "ABX9TyPR0fgUPnK/rjMUgy7fvuib",
      "include_colab_link": true
    },
    "kernelspec": {
      "name": "python3",
      "display_name": "Python 3"
    },
    "language_info": {
      "name": "python"
    }
  },
  "cells": [
    {
      "cell_type": "markdown",
      "metadata": {
        "id": "view-in-github",
        "colab_type": "text"
      },
      "source": [
        "<a href=\"https://colab.research.google.com/github/financieras/math/blob/main/math/practicas/ideas3_4.ipynb\" target=\"_parent\"><img src=\"https://colab.research.google.com/assets/colab-badge.svg\" alt=\"Open In Colab\"/></a>"
      ]
    },
    {
      "cell_type": "markdown",
      "source": [
        "# Ideas para la resolución de la Práctica 3.4"
      ],
      "metadata": {
        "id": "VGb51r4NQ7Ug"
      }
    },
    {
      "cell_type": "markdown",
      "source": [
        "## Aleatorio entre 0 y 1\n",
        "Generar un número aleatorio en Python que se distribuya según la distribución Uniforme [0,1)"
      ],
      "metadata": {
        "id": "r4TLgdOERDFP"
      }
    },
    {
      "cell_type": "markdown",
      "source": [
        "### Método 1"
      ],
      "metadata": {
        "id": "VxN2kuFfR0hh"
      }
    },
    {
      "cell_type": "code",
      "source": [
        "import random\n",
        "random.seed()\n",
        "rnd = random.random()\n",
        "print(\"Número aleatorio entre 0 y 1: \", rnd)"
      ],
      "metadata": {
        "colab": {
          "base_uri": "https://localhost:8080/"
        },
        "id": "w5VAix6BRZNP",
        "outputId": "c334a034-af59-48b2-bea4-3f85ffdcffbe"
      },
      "execution_count": 2,
      "outputs": [
        {
          "output_type": "stream",
          "name": "stdout",
          "text": [
            "Número aleatorio entre 0 y 1:  0.5135725626535593\n"
          ]
        }
      ]
    },
    {
      "cell_type": "markdown",
      "source": [
        "## Método 2"
      ],
      "metadata": {
        "id": "raO3wjxpR3oh"
      }
    },
    {
      "cell_type": "code",
      "source": [
        "from random import random, seed\n",
        "seed()\n",
        "print(\"Número aleatorio entre 0 y 1: \", random())"
      ],
      "metadata": {
        "colab": {
          "base_uri": "https://localhost:8080/"
        },
        "id": "ikj7o_QJR56S",
        "outputId": "d8d7f430-f3a0-4bdd-d233-ab93481de4fc"
      },
      "execution_count": 3,
      "outputs": [
        {
          "output_type": "stream",
          "name": "stdout",
          "text": [
            "Número aleatorio entre 0 y 1:  0.4405908848914649\n"
          ]
        }
      ]
    },
    {
      "cell_type": "markdown",
      "source": [
        "## Aleatorio entre -9 y +9\n",
        "Generar un número aleatorio entre -9 y +9, donde puedan estar ambos incluidos."
      ],
      "metadata": {
        "id": "EmFQOE-rSLI2"
      }
    },
    {
      "cell_type": "markdown",
      "source": [
        "### Método 1"
      ],
      "metadata": {
        "id": "2sHvRLYbSpqJ"
      }
    },
    {
      "cell_type": "code",
      "source": [
        "from random import randint\n",
        "print(randint(-9, 9))"
      ],
      "metadata": {
        "colab": {
          "base_uri": "https://localhost:8080/"
        },
        "id": "cO4ebhN6SZGW",
        "outputId": "2600780a-5cef-4cd4-9128-75593a01bc81"
      },
      "execution_count": 9,
      "outputs": [
        {
          "output_type": "stream",
          "name": "stdout",
          "text": [
            "9\n"
          ]
        }
      ]
    },
    {
      "cell_type": "markdown",
      "source": [
        "### Método 2\n",
        " Usamos la uniforma (0,1) multiplicada por un número (la amplitud del intervalo) y más o menos otro valor, para que se ajuste al rango pedido. Y sobre ello se toma la parte entera con ```int```.  \n",
        "Para comprobar que abarcamos el rango indicado generamos un gran número de valores y calculamos el mínimo y el máximo. De esta forma comprobamos que estamos entre -9 y +9."
      ],
      "metadata": {
        "id": "KwFhlFC0S_G-"
      }
    },
    {
      "cell_type": "code",
      "source": [
        "from random import random, seed\n",
        "seed()\n",
        "lista = []\n",
        "for i in range(100_000):\n",
        "    rnd = int(random()*19)-9\n",
        "    lista.append(rnd)\n",
        "print(min(lista))\n",
        "print(max(lista))"
      ],
      "metadata": {
        "colab": {
          "base_uri": "https://localhost:8080/"
        },
        "id": "7k7d6KOxTBLE",
        "outputId": "84c52180-7c6e-4057-ed21-3b7a720b44fd"
      },
      "execution_count": 21,
      "outputs": [
        {
          "output_type": "stream",
          "name": "stdout",
          "text": [
            "-9\n",
            "9\n"
          ]
        }
      ]
    },
    {
      "cell_type": "markdown",
      "source": [
        "## Elegir aleatoriamente un elemento de una lista"
      ],
      "metadata": {
        "id": "X0yxmsdGXEyj"
      }
    },
    {
      "cell_type": "code",
      "source": [
        "import random\n",
        "random.choice([1,2,3,4])"
      ],
      "metadata": {
        "colab": {
          "base_uri": "https://localhost:8080/"
        },
        "id": "W0dmJtQiXJ68",
        "outputId": "54f94e28-359d-43c4-f27e-368af42eba19"
      },
      "execution_count": 33,
      "outputs": [
        {
          "output_type": "execute_result",
          "data": {
            "text/plain": [
              "3"
            ]
          },
          "metadata": {},
          "execution_count": 33
        }
      ]
    },
    {
      "cell_type": "markdown",
      "source": [
        "## Aleatorio entre -9 y +9, salvo 0"
      ],
      "metadata": {
        "id": "sbN28pPmWlG2"
      }
    },
    {
      "cell_type": "code",
      "source": [
        "#@title\n",
        "from random import randint, choice\n",
        "randint(1,9) * choice([1,-1])"
      ],
      "metadata": {
        "id": "jGbssxe5Wqgq"
      },
      "execution_count": null,
      "outputs": []
    }
  ]
}