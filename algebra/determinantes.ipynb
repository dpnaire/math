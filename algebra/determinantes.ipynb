{
  "nbformat": 4,
  "nbformat_minor": 0,
  "metadata": {
    "colab": {
      "provenance": [],
      "authorship_tag": "ABX9TyNp6APLt78CL0EvFWB1CXFo",
      "include_colab_link": true
    },
    "kernelspec": {
      "name": "python3",
      "display_name": "Python 3"
    },
    "language_info": {
      "name": "python"
    }
  },
  "cells": [
    {
      "cell_type": "markdown",
      "metadata": {
        "id": "view-in-github",
        "colab_type": "text"
      },
      "source": [
        "<a href=\"https://colab.research.google.com/github/financieras/math/blob/main/algebra/determinantes.ipynb\" target=\"_parent\"><img src=\"https://colab.research.google.com/assets/colab-badge.svg\" alt=\"Open In Colab\"/></a>"
      ]
    },
    {
      "cell_type": "markdown",
      "source": [
        "#  Determinantes\n",
        "Cálculo de determinantes con la librería ```numpy```"
      ],
      "metadata": {
        "id": "EetpW_1KjTiS"
      }
    },
    {
      "cell_type": "markdown",
      "source": [
        "## Búsqueda de un determinante cero"
      ],
      "metadata": {
        "id": "pKTnGonNjjOb"
      }
    },
    {
      "cell_type": "code",
      "execution_count": 12,
      "metadata": {
        "colab": {
          "base_uri": "https://localhost:8080/"
        },
        "id": "wJB6D0D_qgYM",
        "outputId": "6a31735b-7a8f-445c-cecd-10b7d18c8849"
      },
      "outputs": [
        {
          "output_type": "stream",
          "name": "stdout",
          "text": [
            "[[-4  5  7  2 -3  5]\n",
            " [-7  2 -7 -7  5  8]\n",
            " [-5 -1  8  9  2  5]\n",
            " [ 8  4  2 -3 -1  7]\n",
            " [-5  6 -5 -3  3 -2]\n",
            " [ 9  1  4  2 -6 -8]]\n",
            "Determinate: 0.0\n",
            "Determinate redondeando: 0.0\n"
          ]
        }
      ],
      "source": [
        "import numpy as np\n",
        "\n",
        "n = 6   # dimensión de la matriz cuadrada n×n\n",
        "while True:\n",
        "    # generación de una matriz de números aleatorios enteros entre -9 y +9\n",
        "    m = np.random.randint(-9,10, size=(n,n))\n",
        "    d = np.linalg.det(m)   # cálculo del determinante\n",
        "    if abs(d) < 1e-6:      # no exigimos que sea exactamente igual a cero ya que existen pequeños errores\n",
        "        print(m)\n",
        "        print(\"Determinate:\", d)\n",
        "        print(\"Determinate redondeando:\", abs(round(d,5)))\n",
        "        break"
      ]
    }
  ]
}