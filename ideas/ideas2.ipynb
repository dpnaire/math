{
  "nbformat": 4,
  "nbformat_minor": 0,
  "metadata": {
    "colab": {
      "provenance": [],
      "authorship_tag": "ABX9TyMmOr0BnFrzR1RnVeceGq22",
      "include_colab_link": true
    },
    "kernelspec": {
      "name": "python3",
      "display_name": "Python 3"
    },
    "language_info": {
      "name": "python"
    }
  },
  "cells": [
    {
      "cell_type": "markdown",
      "metadata": {
        "id": "view-in-github",
        "colab_type": "text"
      },
      "source": [
        "<a href=\"https://colab.research.google.com/github/financieras/math/blob/main/ideas/ideas2.ipynb\" target=\"_parent\"><img src=\"https://colab.research.google.com/assets/colab-badge.svg\" alt=\"Open In Colab\"/></a>"
      ]
    },
    {
      "cell_type": "markdown",
      "source": [
        "# Ideas para la resolución de la Práctica 3.4"
      ],
      "metadata": {
        "id": "VGb51r4NQ7Ug"
      }
    },
    {
      "cell_type": "markdown",
      "source": [
        "## Aleatorio entre 0 y 1\n",
        "Generar un número aleatorio en Python que se distribuya según la distribución Uniforme [0,1)"
      ],
      "metadata": {
        "id": "r4TLgdOERDFP"
      }
    },
    {
      "cell_type": "markdown",
      "source": [
        "### Método 1"
      ],
      "metadata": {
        "id": "VxN2kuFfR0hh"
      }
    },
    {
      "cell_type": "code",
      "source": [
        "import random\n",
        "random.seed()\n",
        "rnd = random.random()\n",
        "print(\"Número aleatorio entre 0 y 1: \", rnd)"
      ],
      "metadata": {
        "colab": {
          "base_uri": "https://localhost:8080/"
        },
        "id": "w5VAix6BRZNP",
        "outputId": "c334a034-af59-48b2-bea4-3f85ffdcffbe"
      },
      "execution_count": null,
      "outputs": [
        {
          "output_type": "stream",
          "name": "stdout",
          "text": [
            "Número aleatorio entre 0 y 1:  0.5135725626535593\n"
          ]
        }
      ]
    },
    {
      "cell_type": "markdown",
      "source": [
        "### Método 2"
      ],
      "metadata": {
        "id": "raO3wjxpR3oh"
      }
    },
    {
      "cell_type": "code",
      "source": [
        "from random import random, seed\n",
        "seed()\n",
        "print(\"Número aleatorio entre 0 y 1: \", random())"
      ],
      "metadata": {
        "colab": {
          "base_uri": "https://localhost:8080/"
        },
        "id": "ikj7o_QJR56S",
        "outputId": "d8d7f430-f3a0-4bdd-d233-ab93481de4fc"
      },
      "execution_count": null,
      "outputs": [
        {
          "output_type": "stream",
          "name": "stdout",
          "text": [
            "Número aleatorio entre 0 y 1:  0.4405908848914649\n"
          ]
        }
      ]
    },
    {
      "cell_type": "markdown",
      "source": [
        "## Aleatorio entre -9 y +9\n",
        "Generar un número aleatorio entre -9 y +9, donde puedan estar ambos incluidos."
      ],
      "metadata": {
        "id": "EmFQOE-rSLI2"
      }
    },
    {
      "cell_type": "markdown",
      "source": [
        "### Método 1"
      ],
      "metadata": {
        "id": "2sHvRLYbSpqJ"
      }
    },
    {
      "cell_type": "code",
      "source": [
        "from random import randint\n",
        "print(randint(-9, 9))"
      ],
      "metadata": {
        "colab": {
          "base_uri": "https://localhost:8080/"
        },
        "id": "cO4ebhN6SZGW",
        "outputId": "2600780a-5cef-4cd4-9128-75593a01bc81"
      },
      "execution_count": null,
      "outputs": [
        {
          "output_type": "stream",
          "name": "stdout",
          "text": [
            "9\n"
          ]
        }
      ]
    },
    {
      "cell_type": "markdown",
      "source": [
        "### Método 2\n",
        " Usamos la uniforma (0,1) multiplicada por un número (la amplitud del intervalo) y más o menos otro valor, para que se ajuste al rango pedido. Y sobre ello se toma la parte entera con ```int```.  \n",
        "Para comprobar que abarcamos el rango indicado generamos un gran número de valores y calculamos el mínimo y el máximo. De esta forma comprobamos que estamos entre -9 y +9."
      ],
      "metadata": {
        "id": "KwFhlFC0S_G-"
      }
    },
    {
      "cell_type": "code",
      "source": [
        "from random import random, seed\n",
        "seed()\n",
        "lista = []\n",
        "for i in range(100_000):\n",
        "    rnd = int(random()*19)-9\n",
        "    lista.append(rnd)\n",
        "print(min(lista))\n",
        "print(max(lista))"
      ],
      "metadata": {
        "colab": {
          "base_uri": "https://localhost:8080/"
        },
        "id": "7k7d6KOxTBLE",
        "outputId": "84c52180-7c6e-4057-ed21-3b7a720b44fd"
      },
      "execution_count": null,
      "outputs": [
        {
          "output_type": "stream",
          "name": "stdout",
          "text": [
            "-9\n",
            "9\n"
          ]
        }
      ]
    },
    {
      "cell_type": "markdown",
      "source": [
        "## Elegir aleatoriamente un elemento de una lista"
      ],
      "metadata": {
        "id": "X0yxmsdGXEyj"
      }
    },
    {
      "cell_type": "code",
      "source": [
        "import random\n",
        "random.choice([1,2,3,4])"
      ],
      "metadata": {
        "colab": {
          "base_uri": "https://localhost:8080/"
        },
        "id": "W0dmJtQiXJ68",
        "outputId": "54f94e28-359d-43c4-f27e-368af42eba19"
      },
      "execution_count": null,
      "outputs": [
        {
          "output_type": "execute_result",
          "data": {
            "text/plain": [
              "3"
            ]
          },
          "metadata": {},
          "execution_count": 33
        }
      ]
    },
    {
      "cell_type": "markdown",
      "source": [
        "## Aleatorio entre -9 y +9, salvo 0"
      ],
      "metadata": {
        "id": "sbN28pPmWlG2"
      }
    },
    {
      "cell_type": "code",
      "source": [
        "#@title\n",
        "from random import randint, choice\n",
        "randint(1,9) * choice([1,-1])"
      ],
      "metadata": {
        "id": "jGbssxe5Wqgq"
      },
      "execution_count": null,
      "outputs": []
    },
    {
      "cell_type": "markdown",
      "source": [
        "## Tiempo que tarda un proceso\n",
        "En segundos."
      ],
      "metadata": {
        "id": "ip8_WMkbqq4s"
      }
    },
    {
      "cell_type": "code",
      "source": [
        "from time import process_time\n",
        "\n",
        "t1 = process_time()\n",
        "\n",
        "for i in range(10_000_000):\n",
        "    cuadrado = i**2\n",
        "\n",
        "t2 = process_time()\n",
        "print(f\"El proceso ha tardado {t2-t1} segundos.\")"
      ],
      "metadata": {
        "id": "mFQ3tNU1qwMO",
        "outputId": "e8b4186f-bd19-492a-c19f-d35f2846762d",
        "colab": {
          "base_uri": "https://localhost:8080/"
        }
      },
      "execution_count": null,
      "outputs": [
        {
          "output_type": "stream",
          "name": "stdout",
          "text": [
            "El proceso ha tardado 3.108162828000001 segundos.\n"
          ]
        }
      ]
    },
    {
      "cell_type": "markdown",
      "source": [
        "## Bucle ```while True```\n",
        "Un bucle que se repite indefinidamente hasta encontrar un ```break```."
      ],
      "metadata": {
        "id": "vlTPsmAEr7sE"
      }
    },
    {
      "cell_type": "code",
      "source": [
        "import random\n",
        "\n",
        "contador = 0\n",
        "valor_deseado = 0\n",
        "\n",
        "while True:\n",
        "    rnd = random.choice(list(range(1000)))\n",
        "    contador += 1\n",
        "    if rnd == valor_deseado:\n",
        "        print(f\"Se han realizado {contador} ciclos en el bucle hasta encontrar el valor deaseado.\")\n",
        "        break\n",
        "\n",
        "print(\"Fin del programa\")"
      ],
      "metadata": {
        "id": "87bLpB1OsPAR",
        "outputId": "a02dade1-1c14-4840-f266-5a70699b62ff",
        "colab": {
          "base_uri": "https://localhost:8080/"
        }
      },
      "execution_count": null,
      "outputs": [
        {
          "output_type": "stream",
          "name": "stdout",
          "text": [
            "Se han realizado 1118 ciclos en el bucle hasta encontrar el valor deaseado.\n",
            "Fin del programa\n"
          ]
        }
      ]
    },
    {
      "cell_type": "markdown",
      "source": [
        "## Inicializar una lista"
      ],
      "metadata": {
        "id": "YjFdMdSpuSyI"
      }
    },
    {
      "cell_type": "markdown",
      "source": [
        "### Método 1"
      ],
      "metadata": {
        "id": "23QS2Xx26-dE"
      }
    },
    {
      "cell_type": "code",
      "source": [
        "l = [0]*5\n",
        "l"
      ],
      "metadata": {
        "id": "RbrHW4P9ubdX",
        "outputId": "f2db23dd-b46a-4356-b58f-082c44471d29",
        "colab": {
          "base_uri": "https://localhost:8080/"
        }
      },
      "execution_count": null,
      "outputs": [
        {
          "output_type": "execute_result",
          "data": {
            "text/plain": [
              "[0, 0, 0, 0, 0]"
            ]
          },
          "metadata": {},
          "execution_count": 15
        }
      ]
    },
    {
      "cell_type": "markdown",
      "source": [
        "### Método 2"
      ],
      "metadata": {
        "id": "jBR6gE3N7C79"
      }
    },
    {
      "cell_type": "code",
      "source": [
        "l = [None]*5\n",
        "l"
      ],
      "metadata": {
        "id": "r-n6wsni7Etn",
        "outputId": "869fd5d1-9670-45d7-9a21-973a42c896ee",
        "colab": {
          "base_uri": "https://localhost:8080/"
        }
      },
      "execution_count": null,
      "outputs": [
        {
          "output_type": "execute_result",
          "data": {
            "text/plain": [
              "[None, None, None, None, None]"
            ]
          },
          "metadata": {},
          "execution_count": 19
        }
      ]
    },
    {
      "cell_type": "markdown",
      "source": [
        "## Copiar una lista"
      ],
      "metadata": {
        "id": "tv_Rtez_7-OP"
      }
    },
    {
      "cell_type": "markdown",
      "source": [
        "### Método incorrecto\n",
        "La lista b no es una copia de a sino que sigue siendo a.  \n",
        "Al cambiar un valor de a tambien cambia en b, no son independientes."
      ],
      "metadata": {
        "id": "jK5njeIm8Pzt"
      }
    },
    {
      "cell_type": "code",
      "source": [
        "a = [1,2,3]\n",
        "b = a\n",
        "a[0] = 10\n",
        "print(b)"
      ],
      "metadata": {
        "id": "idlBO3dV8BIk",
        "outputId": "ab632026-6b10-4afe-f03b-02f7c03e70b6",
        "colab": {
          "base_uri": "https://localhost:8080/"
        }
      },
      "execution_count": null,
      "outputs": [
        {
          "output_type": "stream",
          "name": "stdout",
          "text": [
            "[10, 2, 3]\n"
          ]
        }
      ]
    },
    {
      "cell_type": "markdown",
      "source": [
        "### Método correcto"
      ],
      "metadata": {
        "id": "csHayKpD8ewU"
      }
    },
    {
      "cell_type": "code",
      "source": [
        "a = [1,2,3]\n",
        "b = a[:]\n",
        "c = a.copy()\n",
        "a[0] = 10\n",
        "print(b)\n",
        "print(c)"
      ],
      "metadata": {
        "id": "98qmH-ym8kOl",
        "outputId": "d2f274be-cc5d-46eb-b3df-e226412f6435",
        "colab": {
          "base_uri": "https://localhost:8080/"
        }
      },
      "execution_count": null,
      "outputs": [
        {
          "output_type": "stream",
          "name": "stdout",
          "text": [
            "[1, 2, 3]\n",
            "[1, 2, 3]\n"
          ]
        }
      ]
    },
    {
      "cell_type": "markdown",
      "source": [
        "## List Comprehension"
      ],
      "metadata": {
        "id": "j6iQMqal9VeM"
      }
    },
    {
      "cell_type": "code",
      "source": [
        "cuadrados = [i**2 for i in range(1,11)]\n",
        "cuadrados"
      ],
      "metadata": {
        "id": "FRnTOEUJ9qbW",
        "outputId": "31b05061-58c4-41f7-f8ac-bb8085baf36b",
        "colab": {
          "base_uri": "https://localhost:8080/"
        }
      },
      "execution_count": null,
      "outputs": [
        {
          "output_type": "execute_result",
          "data": {
            "text/plain": [
              "[1, 4, 9, 16, 25, 36, 49, 64, 81, 100]"
            ]
          },
          "metadata": {},
          "execution_count": 23
        }
      ]
    }
  ]
}