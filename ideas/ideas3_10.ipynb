{
  "nbformat": 4,
  "nbformat_minor": 0,
  "metadata": {
    "colab": {
      "provenance": [],
      "authorship_tag": "ABX9TyMnjbJlkInCbI9R9wLtLfnr",
      "include_colab_link": true
    },
    "kernelspec": {
      "name": "python3",
      "display_name": "Python 3"
    },
    "language_info": {
      "name": "python"
    }
  },
  "cells": [
    {
      "cell_type": "markdown",
      "metadata": {
        "id": "view-in-github",
        "colab_type": "text"
      },
      "source": [
        "<a href=\"https://colab.research.google.com/github/financieras/math/blob/main/ideas/ideas3_10.ipynb\" target=\"_parent\"><img src=\"https://colab.research.google.com/assets/colab-badge.svg\" alt=\"Open In Colab\"/></a>"
      ]
    },
    {
      "cell_type": "markdown",
      "source": [
        "## Práctica 3.10\n",
        "**Tendencia del mercado**  \n",
        "Resolver con **Python**.\n",
        "\n",
        "En el mercado de automóviles de gran lujo únicamente se disputan la clientela dos marcas (A y B). Las ventas son $M=100.000$ automóviles anuales, no variando esta cifra con el transcurso de los años. La marca A es líder de mercado en este momento con el 75% de las ventas. Sus directivos desean consolidar su liderazgo e incluso aumentarlo, para lo cual todos los años efectúan una fuerte campaña publicitaria con la que consiguen cada año un 40% de los que fueron clientes de su competidora, aunque la empresa A pierde un 20% de sus clientes que se van a la competencia.\n",
        "* ¿Cuál es la situación a los 3 años?\n",
        "* ¿Y al cabo de mucho tiempo?"
      ],
      "metadata": {
        "id": "xJdaP6uuCNlv"
      }
    },
    {
      "cell_type": "markdown",
      "source": [
        "# Ideas para la resolución de la Práctica 3.10\n",
        "* Mire este vídeo: [Cadenas de Markov](https://youtu.be/hQYXcX3KHVE)\n",
        "* Vea el documento [Diagonalización](https://www.dropbox.com/s/5v7kf1zkbltwf6b/Diagonalizacion.pdf?dl=1)  \n",
        "\n",
        "<img src=\"https://github.com/financieras/math/blob/main/img/grafo_markov10.png?raw=1\" alt=\"grafo\" width=\"300\">\n",
        "\n",
        "\n",
        "* Ventas = 100.000\n",
        "* Vector de estado inicial $\\begin{align*}\n",
        "    X_0 &= \\begin{pmatrix}\n",
        "           0.75 \\\\\n",
        "           0.25\n",
        "         \\end{pmatrix}\n",
        "  \\end{align*}$\n",
        "* Matriz de transición $\\begin{align*}\n",
        "    A &= \\begin{pmatrix}\n",
        "           0.80 & 0.40 \\\\\n",
        "           0.20 & 0.60\n",
        "         \\end{pmatrix}\n",
        "  \\end{align*}$\n",
        "* Estado a los tres años $$X_3 = A^3 X_0 = \\begin{align*}\n",
        "    \\begin{pmatrix}\n",
        "           0.80 & 0.40 \\\\\n",
        "           0.20 & 0.60\n",
        "         \\end{pmatrix}^3\n",
        "    \\begin{pmatrix}\n",
        "           0.75 \\\\\n",
        "           0.25\n",
        "         \\end{pmatrix} = \n",
        "    \\begin{pmatrix}\n",
        "           0.688 & 0.624 \\\\\n",
        "           0.312 & 0.376\n",
        "         \\end{pmatrix}\n",
        "    \\begin{pmatrix}\n",
        "           0.75 \\\\\n",
        "           0.25\n",
        "         \\end{pmatrix} =\n",
        "        \\begin{pmatrix}\n",
        "           0.672 \\\\\n",
        "           0.328\n",
        "         \\end{pmatrix}\n",
        "  \\end{align*}$$\n",
        "\n",
        "* Estado a los veinte años $$X_{20} = A^{20} X_0 = \\begin{align*}\n",
        "    \\begin{pmatrix}\n",
        "           0.80 & 0.40 \\\\\n",
        "           0.20 & 0.60\n",
        "         \\end{pmatrix}^{20}\n",
        "    \\begin{pmatrix}\n",
        "           0.75 \\\\\n",
        "           0.25\n",
        "         \\end{pmatrix} = \n",
        "    \\begin{pmatrix}\n",
        "           ^2/_3 \\\\\n",
        "           ^1/_3\n",
        "         \\end{pmatrix}\n",
        "  \\end{align*}$$"
      ],
      "metadata": {
        "id": "pjMEm2xtCL11"
      }
    },
    {
      "cell_type": "code",
      "source": [
        "import numpy as np\n",
        "\n",
        "X0 = np.array([.75, .25])\n",
        "A = np.array([[.8, .4], [.2 ,.6]])\n",
        "X3 = A@A@A@X0\n",
        "print(\"Situación a los tres años:\", X3)\n",
        "\n",
        "d,P = np.linalg.eig(A)\n",
        "D = np.diag(d)\n",
        "Pinv = np.linalg.inv(P)\n",
        "A10 = P@(D**10)@Pinv\n",
        "X10 = A10@X0\n",
        "print(\"Situación a los diez años:\", X10)\n",
        "print(\"Situación a los veinte años:\", P@(D**20)@Pinv@X0)"
      ],
      "metadata": {
        "colab": {
          "base_uri": "https://localhost:8080/"
        },
        "id": "FUNAf8gX6OqI",
        "outputId": "50db18d1-0086-4fad-84d2-0c2674d041d3"
      },
      "execution_count": 15,
      "outputs": [
        {
          "output_type": "stream",
          "name": "stdout",
          "text": [
            "Situación a los tres años: [0.672 0.328]\n",
            "Situación a los diez años: [0.6666754 0.3333246]\n",
            "Situación a los veinte años: [0.66666667 0.33333333]\n"
          ]
        }
      ]
    },
    {
      "cell_type": "code",
      "source": [
        "# A cubo\n",
        "A@A@A"
      ],
      "metadata": {
        "id": "MJaldBnx-G60",
        "outputId": "741764e2-8431-4c43-e744-c7338621324f",
        "colab": {
          "base_uri": "https://localhost:8080/"
        }
      },
      "execution_count": 16,
      "outputs": [
        {
          "output_type": "execute_result",
          "data": {
            "text/plain": [
              "array([[0.688, 0.624],\n",
              "       [0.312, 0.376]])"
            ]
          },
          "metadata": {},
          "execution_count": 16
        }
      ]
    },
    {
      "cell_type": "code",
      "source": [
        "# comprobación de que esta expresión es igual a A cubo\n",
        "P@(D**3)@Pinv"
      ],
      "metadata": {
        "id": "IR2NZ81v-MfH",
        "outputId": "9639a59d-892d-412f-8888-7a1b121c2b0a",
        "colab": {
          "base_uri": "https://localhost:8080/"
        }
      },
      "execution_count": 17,
      "outputs": [
        {
          "output_type": "execute_result",
          "data": {
            "text/plain": [
              "array([[0.688, 0.624],\n",
              "       [0.312, 0.376]])"
            ]
          },
          "metadata": {},
          "execution_count": 17
        }
      ]
    },
    {
      "cell_type": "code",
      "source": [
        "A@A@A@A@A@A@A@A@A@A"
      ],
      "metadata": {
        "id": "1phV55Tth-cr",
        "outputId": "b66645b1-abda-4b92-d255-afacb74cd4be",
        "colab": {
          "base_uri": "https://localhost:8080/"
        }
      },
      "execution_count": 18,
      "outputs": [
        {
          "output_type": "execute_result",
          "data": {
            "text/plain": [
              "array([[0.66670162, 0.66659676],\n",
              "       [0.33329838, 0.33340324]])"
            ]
          },
          "metadata": {},
          "execution_count": 18
        }
      ]
    },
    {
      "cell_type": "code",
      "source": [
        "P@(D**10)@Pinv"
      ],
      "metadata": {
        "id": "A_UQuNM1iAt3",
        "outputId": "20ef7e19-8290-489d-e248-b92a1b3e9ba4",
        "colab": {
          "base_uri": "https://localhost:8080/"
        }
      },
      "execution_count": 19,
      "outputs": [
        {
          "output_type": "execute_result",
          "data": {
            "text/plain": [
              "array([[0.66670162, 0.66659676],\n",
              "       [0.33329838, 0.33340324]])"
            ]
          },
          "metadata": {},
          "execution_count": 19
        }
      ]
    },
    {
      "cell_type": "code",
      "source": [
        "np.round(A@A@A@A@A@A@A@A@A@A, 12) == np.round(P@(D**10)@Pinv, 12)"
      ],
      "metadata": {
        "id": "P3dAn8FqYyyK",
        "outputId": "c5701c6f-42fc-486f-cf77-aaf3bd5e1b0b",
        "colab": {
          "base_uri": "https://localhost:8080/"
        }
      },
      "execution_count": 20,
      "outputs": [
        {
          "output_type": "execute_result",
          "data": {
            "text/plain": [
              "array([[ True,  True],\n",
              "       [ True,  True]])"
            ]
          },
          "metadata": {},
          "execution_count": 20
        }
      ]
    }
  ]
}