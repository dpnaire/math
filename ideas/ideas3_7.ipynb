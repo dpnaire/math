{
  "nbformat": 4,
  "nbformat_minor": 0,
  "metadata": {
    "colab": {
      "provenance": [],
      "authorship_tag": "ABX9TyPaJZZlGjAlr6S9/Bo9TQEU",
      "include_colab_link": true
    },
    "kernelspec": {
      "name": "python3",
      "display_name": "Python 3"
    },
    "language_info": {
      "name": "python"
    }
  },
  "cells": [
    {
      "cell_type": "markdown",
      "metadata": {
        "id": "view-in-github",
        "colab_type": "text"
      },
      "source": [
        "<a href=\"https://colab.research.google.com/github/financieras/math/blob/main/ideas/ideas3_7.ipynb\" target=\"_parent\"><img src=\"https://colab.research.google.com/assets/colab-badge.svg\" alt=\"Open In Colab\"/></a>"
      ]
    },
    {
      "cell_type": "markdown",
      "source": [
        "# Práctica 3.7\n",
        "**Diagonalización en Python**\n",
        "\n",
        "* Sea la matriz cuadrada $A$ de orden 4x4\n",
        "\n",
        "$$A=\\left(\n",
        "\\begin{array}{rrrr}\n",
        " -1 &-2 &  3 &-1 \\\\\n",
        "  0 & 2 &  0 & 0 \\\\\n",
        "  0 & 0 &  2 & 0 \\\\\n",
        "  0 & 0 &  0 & 1\n",
        "\\end{array}\n",
        "\\right)$$\n",
        "1. Calcula los **autovalores** y **autovectores**\n",
        "2. Calcula y muestra:\n",
        " - la matriz diagonal $D$\n",
        " - la matriz de paso $P$\n",
        " - su inversa $P^{-1}$  \n",
        "3. Comprueba que se cumple que $A^3=PD^3P^{-1}$"
      ],
      "metadata": {
        "id": "pb_O-_jhSzms"
      }
    },
    {
      "cell_type": "markdown",
      "source": [
        "# Ideas para la resolución de la Práctica 3.7"
      ],
      "metadata": {
        "id": "lb0sN94nSud1"
      }
    },
    {
      "cell_type": "markdown",
      "source": [
        "## Dada la matriz $A$ calcular sus autovalores y autovectores\n",
        "* Los autovalores también se llaman eigenvalores o [eigenvalues](https://en.wikipedia.org/wiki/Eigenvalues_and_eigenvectors).\n",
        "* Los autovectores también se llaman [eigenvectores](https://es.wikipedia.org/wiki/Vector,_valor_y_espacio_propios) o eigenvectors."
      ],
      "metadata": {
        "id": "O9FeeBaqS9My"
      }
    },
    {
      "cell_type": "markdown",
      "source": [
        "## Trabajando con Octave"
      ],
      "metadata": {
        "id": "qMt67jc45kAH"
      }
    },
    {
      "cell_type": "code",
      "source": [
        "!apt install octave\n",
        "!apt update"
      ],
      "metadata": {
        "id": "tlLapGSqBJZk"
      },
      "execution_count": null,
      "outputs": []
    },
    {
      "cell_type": "code",
      "source": [
        "%%writefile diagonaliza.m\n",
        "A = [3,0,0; 0,2,1; 0,1,2]\n",
        "[P,D]=eig(A)"
      ],
      "metadata": {
        "id": "yoaUX4StBPg_",
        "outputId": "f607e7d0-0cd9-48d8-f848-5e65e717ea57",
        "colab": {
          "base_uri": "https://localhost:8080/"
        }
      },
      "execution_count": 4,
      "outputs": [
        {
          "output_type": "stream",
          "name": "stdout",
          "text": [
            "Overwriting diagonaliza.m\n"
          ]
        }
      ]
    },
    {
      "cell_type": "code",
      "source": [
        "!octave diagonaliza.m"
      ],
      "metadata": {
        "id": "M39ykkISBinU",
        "outputId": "14e711d3-0916-4809-ea65-f23183591095",
        "colab": {
          "base_uri": "https://localhost:8080/"
        }
      },
      "execution_count": 5,
      "outputs": [
        {
          "output_type": "stream",
          "name": "stdout",
          "text": [
            "octave: X11 DISPLAY environment variable not set\n",
            "octave: disabling GUI features\n",
            "A =\n",
            "\n",
            "   3   0   0\n",
            "   0   2   1\n",
            "   0   1   2\n",
            "\n",
            "P =\n",
            "\n",
            "   0.00000   0.00000   1.00000\n",
            "  -0.70711   0.70711   0.00000\n",
            "   0.70711   0.70711   0.00000\n",
            "\n",
            "D =\n",
            "\n",
            "Diagonal Matrix\n",
            "\n",
            "   1   0   0\n",
            "   0   3   0\n",
            "   0   0   3\n",
            "\n"
          ]
        }
      ]
    },
    {
      "cell_type": "markdown",
      "source": [
        "## con NumPy"
      ],
      "metadata": {
        "id": "8Xx0RIC0-iXJ"
      }
    },
    {
      "cell_type": "code",
      "source": [
        "import numpy as np\n",
        "A = np.array([[3,0,0], [0,2,1], [0,1,2]])\n",
        "d,P = np.linalg.eig(A)\n",
        "print(\"d: \", d)\n",
        "D = np.diag(d)\n",
        "print(\"\\nD:\\n\", D)\n",
        "print(\"\\nP:\\n\", P)"
      ],
      "metadata": {
        "id": "sTabWEvYEBJ4",
        "outputId": "5b00e73d-e729-4803-c08f-3c3d92db34d0",
        "colab": {
          "base_uri": "https://localhost:8080/"
        }
      },
      "execution_count": 7,
      "outputs": [
        {
          "output_type": "stream",
          "name": "stdout",
          "text": [
            "d:  [3. 1. 3.]\n",
            "\n",
            "D:\n",
            " [[3. 0. 0.]\n",
            " [0. 1. 0.]\n",
            " [0. 0. 3.]]\n",
            "\n",
            "P:\n",
            " [[ 0.          0.          1.        ]\n",
            " [ 0.70710678  0.70710678  0.        ]\n",
            " [ 0.70710678 -0.70710678  0.        ]]\n"
          ]
        }
      ]
    },
    {
      "cell_type": "markdown",
      "source": [
        "## con Sympy"
      ],
      "metadata": {
        "id": "Zm5NjzeH_XRZ"
      }
    },
    {
      "cell_type": "code",
      "source": [
        "from sympy import Matrix\n",
        "A = Matrix([[3,0,0], [0,2,1], [0,1,2]])\n",
        "P, D = A.diagonalize()\n",
        "\n",
        "print(f\"Matriz diagonal D:\\n{D}\")\n",
        "print()\n",
        "\n",
        "print(f\"Matriz de paso P:\\n{P}\")"
      ],
      "metadata": {
        "id": "Hno7WkfuGCaI",
        "outputId": "5b3356fa-d395-4b3b-f56a-dd92abc747d3",
        "colab": {
          "base_uri": "https://localhost:8080/"
        }
      },
      "execution_count": 17,
      "outputs": [
        {
          "output_type": "stream",
          "name": "stdout",
          "text": [
            "Matriz diagonal D:\n",
            "Matrix([[1, 0, 0], [0, 3, 0], [0, 0, 3]])\n",
            "\n",
            "Matriz de paso P:\n",
            "Matrix([[0, 1, 0], [-1, 0, 1], [1, 0, 1]])\n"
          ]
        }
      ]
    },
    {
      "cell_type": "markdown",
      "source": [
        "## calculando $A^3$"
      ],
      "metadata": {
        "id": "59_Euw8aCfBy"
      }
    },
    {
      "cell_type": "code",
      "source": [
        "import numpy as np\n",
        "A = np.array([[3,0,0], [0,2,1], [0,1,2]])\n",
        "print(A@A@A)"
      ],
      "metadata": {
        "id": "twQyx7nVGZw1",
        "outputId": "e33c4e43-054a-44a2-fa7f-1e98ba6f40c3",
        "colab": {
          "base_uri": "https://localhost:8080/"
        }
      },
      "execution_count": 9,
      "outputs": [
        {
          "output_type": "stream",
          "name": "stdout",
          "text": [
            "[[27  0  0]\n",
            " [ 0 14 13]\n",
            " [ 0 13 14]]\n"
          ]
        }
      ]
    },
    {
      "cell_type": "markdown",
      "source": [
        "## calculando $PD^3P^{-1}$"
      ],
      "metadata": {
        "id": "U9TLQ5OXCuxv"
      }
    },
    {
      "cell_type": "code",
      "source": [
        "import numpy as np\n",
        "A = np.array([[3,0,0], [0,2,1], [0,1,2]])\n",
        "d,P = np.linalg.eig(A)\n",
        "print(\"d: \", d)\n",
        "D = np.diag(d)\n",
        "print(\"\\nD:\\n\", D)\n",
        "print(\"\\nP:\\n\", P)\n",
        "Dcubo = D @ D @ D\n",
        "print(\"\\nDcubo:\\n\", Dcubo)\n",
        "print(\"\\nSolución:\\n\", P @ Dcubo @ np.linalg.inv(P))"
      ],
      "metadata": {
        "id": "h2AmqhUlGj6L",
        "outputId": "185c2c8a-3236-4cd6-ded7-555557945dff",
        "colab": {
          "base_uri": "https://localhost:8080/"
        }
      },
      "execution_count": 12,
      "outputs": [
        {
          "output_type": "stream",
          "name": "stdout",
          "text": [
            "d:  [3. 1. 3.]\n",
            "\n",
            "D:\n",
            " [[3. 0. 0.]\n",
            " [0. 1. 0.]\n",
            " [0. 0. 3.]]\n",
            "\n",
            "P:\n",
            " [[ 0.          0.          1.        ]\n",
            " [ 0.70710678  0.70710678  0.        ]\n",
            " [ 0.70710678 -0.70710678  0.        ]]\n",
            "\n",
            "Dcubo:\n",
            " [[27.  0.  0.]\n",
            " [ 0.  1.  0.]\n",
            " [ 0.  0. 27.]]\n",
            "\n",
            "Solución:\n",
            " [[27.  0.  0.]\n",
            " [ 0. 14. 13.]\n",
            " [ 0. 13. 14.]]\n"
          ]
        }
      ]
    }
  ]
}