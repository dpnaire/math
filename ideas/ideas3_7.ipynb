{
  "nbformat": 4,
  "nbformat_minor": 0,
  "metadata": {
    "colab": {
      "provenance": [],
      "authorship_tag": "ABX9TyOSXAAcT91wigRoVxQ+eX+y",
      "include_colab_link": true
    },
    "kernelspec": {
      "name": "python3",
      "display_name": "Python 3"
    },
    "language_info": {
      "name": "python"
    }
  },
  "cells": [
    {
      "cell_type": "markdown",
      "metadata": {
        "id": "view-in-github",
        "colab_type": "text"
      },
      "source": [
        "<a href=\"https://colab.research.google.com/github/financieras/math/blob/main/ideas/ideas3_7.ipynb\" target=\"_parent\"><img src=\"https://colab.research.google.com/assets/colab-badge.svg\" alt=\"Open In Colab\"/></a>"
      ]
    },
    {
      "cell_type": "markdown",
      "source": [
        "# Práctica 3.7\n",
        "**Diagonalización en Python**\n",
        "\n",
        "* Sea la matriz cuadrada $A$ de orden 4x4\n",
        "\n",
        "$$A=\\left(\n",
        "\\begin{array}{rrrr}\n",
        " -1 &-2 &  3 &-1 \\\\\n",
        "  0 & 2 &  0 & 0 \\\\\n",
        "  0 & 0 &  2 & 0 \\\\\n",
        "  0 & 0 &  0 & 1\n",
        "\\end{array}\n",
        "\\right)$$\n",
        "1. Calcula los **autovalores** y **autovectores**\n",
        "2. Calcula y muestra:\n",
        " - la matriz diagonal $D$\n",
        " - la matriz de paso $P$\n",
        " - su inversa $P^{-1}$  \n",
        "3. Comprueba que se cumple que $A^3=PD^3P^{-1}$"
      ],
      "metadata": {
        "id": "pb_O-_jhSzms"
      }
    },
    {
      "cell_type": "markdown",
      "source": [
        "# Ideas para la resolución de la Práctica 3.7"
      ],
      "metadata": {
        "id": "lb0sN94nSud1"
      }
    },
    {
      "cell_type": "markdown",
      "source": [
        "## Dada la matriz $A$ calcular sus autovalores y autovectores\n",
        "* Los autovalores también se llaman eigenvalores o [eigenvalues](https://en.wikipedia.org/wiki/Eigenvalues_and_eigenvectors).\n",
        "* Los autovectores también se llaman [eigenvectores](https://es.wikipedia.org/wiki/Vector,_valor_y_espacio_propios) o eigenvectors."
      ],
      "metadata": {
        "id": "O9FeeBaqS9My"
      }
    },
    {
      "cell_type": "code",
      "source": [
        "from numpy.linalg import inv\n",
        "from sympy import Matrix\n",
        "A = Matrix([[-1,-2,3,-1], [0,2,0,0], [0,0,2,0], [0,0,0,1]])\n",
        "P, D = M.diagonalize()\n",
        "\n",
        "print(f\"Matriz diagonal D:\\n{D}\")\n",
        "print()\n",
        "\n",
        "print(f\"Matriz de paso P:\\n{P}\")\n",
        "\n",
        "print(\"A*A*A\\n\", A*A*A)\n",
        "print(\"A @ A @ A\\n\", A@A@A)\n",
        "print()\n",
        "D3 = Matrix([[-2**3, 0, 0, 0], [0, 3**3, 0, 0], [0, 0, 5**3, 0], [0, 0, 0, 5**3]])\n",
        "print(\"D3\\n\", D3)\n",
        "Pinv = P.inv()\n",
        "print(\"inv(P)\", Pinv)\n",
        "print(P@D3@Pinv)"
      ],
      "metadata": {
        "colab": {
          "base_uri": "https://localhost:8080/"
        },
        "id": "A5Ubze4ekRXO",
        "outputId": "98ff8f01-6688-4f11-a52f-d961d642b5d3"
      },
      "execution_count": 26,
      "outputs": [
        {
          "output_type": "stream",
          "name": "stdout",
          "text": [
            "Matriz diagonal D:\n",
            "Matrix([[-2, 0, 0, 0], [0, 3, 0, 0], [0, 0, 5, 0], [0, 0, 0, 5]])\n",
            "\n",
            "Matriz de paso P:\n",
            "Matrix([[0, 1, 1, 0], [1, 1, 1, -1], [1, 1, 1, 0], [1, 1, 0, 1]])\n",
            "A*A*A\n",
            " Matrix([[-1, -6, 9, -1], [0, 8, 0, 0], [0, 0, 8, 0], [0, 0, 0, 1]])\n",
            "A @ A @ A\n",
            " Matrix([[-1, -6, 9, -1], [0, 8, 0, 0], [0, 0, 8, 0], [0, 0, 0, 1]])\n",
            "\n",
            "D3\n",
            " Matrix([[-8, 0, 0, 0], [0, 27, 0, 0], [0, 0, 125, 0], [0, 0, 0, 125]])\n",
            "inv(P) Matrix([[-1, 0, 1, 0], [1, 1, -2, 1], [0, -1, 2, -1], [0, -1, 1, 0]])\n",
            "Matrix([[27, -98, 196, -98], [35, 27, 63, -98], [35, -98, 188, -98], [35, -98, 63, 27]])\n"
          ]
        }
      ]
    },
    {
      "cell_type": "code",
      "source": [
        "import numpy as np\n",
        "A = np.array([[-1,-2,3,-1], [0,2,0,0], [0,0,2,0], [0,0,0,1]])\n",
        "print(A @ A @ A)"
      ],
      "metadata": {
        "colab": {
          "base_uri": "https://localhost:8080/"
        },
        "id": "DqBqZYRXpZ6D",
        "outputId": "13679c11-d7b3-4fb7-a274-c58d40d4aec8"
      },
      "execution_count": 24,
      "outputs": [
        {
          "output_type": "stream",
          "name": "stdout",
          "text": [
            "[[-1 -6  9 -1]\n",
            " [ 0  8  0  0]\n",
            " [ 0  0  8  0]\n",
            " [ 0  0  0  1]]\n"
          ]
        }
      ]
    },
    {
      "cell_type": "code",
      "source": [
        "import numpy as np\n",
        "A = [[3, 2, -1], [2, 3, 1], [0, 0, 5]]\n",
        "\n",
        "np.linalg.eig(A)\n",
        "w,v = np.linalg.eig(A)\n",
        "print('E-value:', w)\n",
        "print('E-vector\\n', v)"
      ],
      "metadata": {
        "colab": {
          "base_uri": "https://localhost:8080/"
        },
        "id": "xieQwZriVeC3",
        "outputId": "f77be94c-385b-4022-9c8d-4c422e0a3c79"
      },
      "execution_count": 2,
      "outputs": [
        {
          "output_type": "stream",
          "name": "stdout",
          "text": [
            "E-value: [5. 1. 5.]\n",
            "E-vector\n",
            " [[ 0.70710678 -0.70710678 -0.10059617]\n",
            " [ 0.70710678  0.70710678  0.36264488]\n",
            " [ 0.          0.          0.92648211]]\n"
          ]
        }
      ]
    },
    {
      "cell_type": "code",
      "source": [
        "from sympy import * \n",
        "M = Matrix([[3, 2, -1], [2, 3, 1], [0, 0, 5]])\n",
        "\n",
        "print(f\"Matriz:\\n{M}\")\n",
        "print()\n",
        "\n",
        "# Use sympy.diagonalize() method\n",
        "P, D = M.diagonalize()\n",
        "\n",
        "print(f\"Matriz diagonal D:\\n{D}\")\n",
        "print()\n",
        "\n",
        "print(f\"Matriz de paso P:\\n{P}\")"
      ],
      "metadata": {
        "colab": {
          "base_uri": "https://localhost:8080/"
        },
        "id": "qonoIBebWPJl",
        "outputId": "358841ca-c9f4-4551-96a7-fbc5074b03cd"
      },
      "execution_count": 11,
      "outputs": [
        {
          "output_type": "stream",
          "name": "stdout",
          "text": [
            "Matriz:\n",
            "Matrix([[3, 2, -1], [2, 3, 1], [0, 0, 5]])\n",
            "\n",
            "Matriz diagonal D:\n",
            "Matrix([[1, 0, 0], [0, 5, 0], [0, 0, 5]])\n",
            "\n",
            "Matriz de paso P:\n",
            "Matrix([[-1, 1, -1], [1, 1, 0], [0, 0, 2]])\n"
          ]
        }
      ]
    },
    {
      "cell_type": "code",
      "source": [
        "#   https://pythonnumericalmethods.berkeley.edu/notebooks/chapter15.04-Eigenvalues-and-Eigenvectors-in-Python.html\n",
        "#   https://www.geeksforgeeks.org/python-sympy-matrix-diagonalize-method/\n",
        "from sympy import * \n",
        "M = Matrix([[3, -2, 4, -2],\n",
        "\t\t\t[5, 3, -3, -2],\n",
        "\t\t\t[5, -2, 2, -2],\n",
        "\t\t\t[5, -2, -3, 3]])\n",
        "\n",
        "print(f\"Matriz:\\n{M}\")\n",
        "print()\n",
        "\n",
        "# Use sympy.diagonalize() method\n",
        "P, D = M.diagonalize()\n",
        "\t\n",
        "print(f\"Matriz diagonal D:\\n{D}\")"
      ],
      "metadata": {
        "id": "XncKk4BdWOEf"
      },
      "execution_count": null,
      "outputs": []
    },
    {
      "cell_type": "code",
      "source": [
        "import numpy as np\n",
        "from sympy import * \n",
        "A = [[5, 4, -10], [3, 4, -8],[ 3, 3, -7]]\n",
        "np.linalg.eig(A)\n",
        "w,v = np.linalg.eig(A)\n",
        "print('E-value:', w)\n",
        "print('E-vector\\n', v)\n",
        "print()\n",
        "\n",
        "M = Matrix(A)\n",
        "P, D = M.diagonalize()\n",
        "\n",
        "print(f\"Matriz diagonal D:\\n{D}\")\n",
        "print()\n",
        "\n",
        "print(f\"Matriz de paso P:\\n{P}\")\n"
      ],
      "metadata": {
        "colab": {
          "base_uri": "https://localhost:8080/"
        },
        "id": "SwYLuIf1gdg9",
        "outputId": "8a501595-3036-409d-fabf-1e0ef72beb62"
      },
      "execution_count": 16,
      "outputs": [
        {
          "output_type": "stream",
          "name": "stdout",
          "text": [
            "E-value: [-1.  2.  1.]\n",
            "E-vector\n",
            " [[ 5.77350269e-01  8.16496581e-01  7.07106781e-01]\n",
            " [ 5.77350269e-01  4.08248290e-01 -7.07106781e-01]\n",
            " [ 5.77350269e-01  4.08248290e-01  2.77555756e-16]]\n",
            "\n",
            "Matriz diagonal D:\n",
            "Matrix([[-1, 0, 0], [0, 1, 0], [0, 0, 2]])\n",
            "\n",
            "Matriz de paso P:\n",
            "Matrix([[1, -1, 2], [1, 1, 1], [1, 0, 1]])\n"
          ]
        }
      ]
    }
  ]
}