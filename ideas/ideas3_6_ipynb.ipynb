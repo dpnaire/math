{
  "nbformat": 4,
  "nbformat_minor": 0,
  "metadata": {
    "colab": {
      "provenance": [],
      "authorship_tag": "ABX9TyMhbmhgQYyVwZ1pyWK1vNA7",
      "include_colab_link": true
    },
    "kernelspec": {
      "name": "python3",
      "display_name": "Python 3"
    },
    "language_info": {
      "name": "python"
    }
  },
  "cells": [
    {
      "cell_type": "markdown",
      "metadata": {
        "id": "view-in-github",
        "colab_type": "text"
      },
      "source": [
        "<a href=\"https://colab.research.google.com/github/financieras/math/blob/main/ideas/ideas3_6_ipynb.ipynb\" target=\"_parent\"><img src=\"https://colab.research.google.com/assets/colab-badge.svg\" alt=\"Open In Colab\"/></a>"
      ]
    },
    {
      "cell_type": "markdown",
      "source": [
        "# Práctica 3.6\n",
        "**Resolución de sistemas lineales con Octave**\n",
        "\n",
        "1. Tome el mismo sistema 4x4 con solución única del ejercicio anterior.\n",
        "2. Muestra el sistema usando $\\LaTeX$\n",
        "3. Resuélvelo con Octave por dos métodos\n",
        "4. ¿Ambos métodos dan el mismo resultado?"
      ],
      "metadata": {
        "id": "GcGnfT9tVcD3"
      }
    },
    {
      "cell_type": "markdown",
      "source": [
        "# Ideas para la resolución de la Práctica 3.6"
      ],
      "metadata": {
        "id": "sQ98DQV4VeE1"
      }
    },
    {
      "cell_type": "markdown",
      "source": [
        "## Escribir con $\\LaTeX$\n",
        "Sistema lineal de cuatro ecuaciones con cuatro incógnitas.\n",
        "$$\n",
        "\\left.\n",
        "\\begin{array}{rcl}\n",
        "  2x-y+2z   = 2 \\\\\n",
        " -4x+y-5z   = 1 \\\\\n",
        "   4x+4y+z = 1\n",
        "\\end{array}\n",
        "\\right\\}$$\n",
        "\n",
        "* El sistema en forma matricial:  \n",
        "\n",
        "$$Ax = b$$\n",
        "* Desarrollando las matrices\n",
        "$$\\begin{pmatrix}\n",
        "     2 & -1 & 2 \\\\\n",
        "    -4 & 1 & -5 \\\\\n",
        "     4 & 4 & 1\n",
        "  \\end{pmatrix} \\begin{pmatrix}\n",
        "  x \\\\\n",
        "  y \\\\\n",
        "  z\n",
        "\\end{pmatrix} = \\begin{pmatrix}\n",
        "  2 \\\\\n",
        "  1 \\\\\n",
        "  1\n",
        "\\end{pmatrix}$$\n",
        "\n"
      ],
      "metadata": {
        "id": "8D0qDcykVrd5"
      }
    }
  ]
}