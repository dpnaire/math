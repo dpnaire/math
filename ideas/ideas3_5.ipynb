{
  "nbformat": 4,
  "nbformat_minor": 0,
  "metadata": {
    "colab": {
      "provenance": [],
      "authorship_tag": "ABX9TyNQvDbWzevt2wPJJk7DhOAI",
      "include_colab_link": true
    },
    "kernelspec": {
      "name": "python3",
      "display_name": "Python 3"
    },
    "language_info": {
      "name": "python"
    }
  },
  "cells": [
    {
      "cell_type": "markdown",
      "metadata": {
        "id": "view-in-github",
        "colab_type": "text"
      },
      "source": [
        "<a href=\"https://colab.research.google.com/github/financieras/math/blob/main/ideas/ideas3_5.ipynb\" target=\"_parent\"><img src=\"https://colab.research.google.com/assets/colab-badge.svg\" alt=\"Open In Colab\"/></a>"
      ]
    },
    {
      "cell_type": "markdown",
      "source": [
        "# Práctica 3.5\n",
        "**Resolución de sistemas lineales en Python**  \n",
        "\n",
        "1. Cree un sistema de 4 ecuaciones con 4 incógnitas con **solución única**.\n",
        "2. La solución del sistema es:  \n",
        "$\\qquad \\begin{pmatrix}\n",
        "  x_1 \\\\\n",
        "  x_2 \\\\\n",
        "  x_3 \\\\\n",
        "  x_4\n",
        "\\end{pmatrix} =\n",
        "\\begin{pmatrix}\n",
        "  3 \\\\\n",
        "  4 \\\\\n",
        "  5 \\\\\n",
        "  2\n",
        "\\end{pmatrix}$  \n",
        "3. Una de las ecuaciones del sistema es:  $\\enspace x_1+3x_2-x_3-2x_4=6$  \n",
        "4. El vector $b$ de términos independientes es $\\enspace b=\\begin{pmatrix}\n",
        "  6 \\\\\n",
        "  3 \\\\\n",
        "  5 \\\\\n",
        "  7\n",
        "\\end{pmatrix}$  \n",
        "5. Elija los coeficientes que faltan de la matriz $A$ del sistema de ecuaciones.  \n",
        "Los coeficientes deben ser números enteros entre -5 y +5, excluido el cero.  \n",
        "Imprima la matriz $A$.  \n",
        "6. Calcule e imprima la matriz inversa $A^{-1}$  \n",
        "7. Resuelva el sistema lineal de ecuaciones con este método:\n",
        "$$Ax=b \\quad \\Longrightarrow \\quad x=A^{-1}b$$  \n",
        "8. Compruebe que el resultado obtenido es la solución del sistema de ecuaciones."
      ],
      "metadata": {
        "id": "JNI68l6B36lz"
      }
    },
    {
      "cell_type": "markdown",
      "source": [
        "# Ideas para la resolución de la Práctica 3.5"
      ],
      "metadata": {
        "id": "r7xhYnCVO1jV"
      }
    },
    {
      "cell_type": "markdown",
      "source": [
        "## Elegir aleatoriamente un número de una lista\n",
        "* Elegimos 3 números de una lista\n",
        "* Los números elegidos se pueden repetir"
      ],
      "metadata": {
        "id": "Bokg3XzrPJVs"
      }
    },
    {
      "cell_type": "markdown",
      "source": [
        "### Método 1"
      ],
      "metadata": {
        "id": "OpyNfxsfQkPo"
      }
    },
    {
      "cell_type": "code",
      "source": [
        "import numpy as np\n",
        "np.random.choice([0,1,2,3,4,5,6,7,8,9], 3)"
      ],
      "metadata": {
        "colab": {
          "base_uri": "https://localhost:8080/"
        },
        "id": "MFrongkCPjdW",
        "outputId": "53c742b4-77ec-4545-f791-3dc4e03c3b9b"
      },
      "execution_count": null,
      "outputs": [
        {
          "output_type": "execute_result",
          "data": {
            "text/plain": [
              "array([6, 3, 4])"
            ]
          },
          "metadata": {},
          "execution_count": 8
        }
      ]
    },
    {
      "cell_type": "markdown",
      "source": [
        "### Método 2"
      ],
      "metadata": {
        "id": "NPdV-uA2QoGy"
      }
    },
    {
      "cell_type": "code",
      "source": [
        "import numpy as np\n",
        "np.random.choice(range(10), 3)"
      ],
      "metadata": {
        "colab": {
          "base_uri": "https://localhost:8080/"
        },
        "id": "k_-iIfU8QQ8B",
        "outputId": "707b4d28-3bdf-425b-9dea-40e98a90923b"
      },
      "execution_count": null,
      "outputs": [
        {
          "output_type": "execute_result",
          "data": {
            "text/plain": [
              "array([5, 8, 2])"
            ]
          },
          "metadata": {},
          "execution_count": 17
        }
      ]
    },
    {
      "cell_type": "markdown",
      "source": [
        "## Concatenar dos listas\n",
        "Los números del -9 al 9 salvo el 0."
      ],
      "metadata": {
        "id": "wgEt1fCrQwB6"
      }
    },
    {
      "cell_type": "code",
      "source": [
        "list(range(-9,0)) + list(range(1,10))"
      ],
      "metadata": {
        "colab": {
          "base_uri": "https://localhost:8080/"
        },
        "id": "dHvPSt0_Q2ej",
        "outputId": "6201bb13-84ff-46e9-fc4d-40b9850438c0"
      },
      "execution_count": null,
      "outputs": [
        {
          "output_type": "execute_result",
          "data": {
            "text/plain": [
              "[-9, -8, -7, -6, -5, -4, -3, -2, -1, 1, 2, 3, 4, 5, 6, 7, 8, 9]"
            ]
          },
          "metadata": {},
          "execution_count": 18
        }
      ]
    },
    {
      "cell_type": "markdown",
      "source": [
        "## Buscar vector\n",
        "Buscar un vector $w$ que al multiplicarlo por otro vector conocido $v$ nos de cierto número $b$ también conocido.\n",
        "\n",
        "* Vamos a crear una función en Python que busque ese vector $w$.\n",
        "* La función usa $b$ como parámetro.\n",
        "* El parámetro $b$ es el número buscado que es igual al producto de los dos vectores.\n",
        "* Uno de los vectores es conocido $v=(1,2,4,3)$\n",
        "* El otro vector es $w$ y es el que queremos buscar.\n",
        "* La función retornará el vector $w$ cuando lo encuentre.\n",
        "* Existen muchísimas soluciones para $w$ por lo que vamos a restringirlo para que los elementos que componen el vector sean números enteros no muy grandes, por ejemplo entre -5 y +5 excluido el cero.\n",
        "* Los elementos de $w$ se eligen aleatoriamente hasta encontrar uno que cumpla los requisitos que le hemos impuesto.\n"
      ],
      "metadata": {
        "id": "RMgBTQC_RmAM"
      }
    },
    {
      "cell_type": "code",
      "source": [
        "import numpy as np\n",
        "\n",
        "v = np.array([1,2,4,3])   # vector conocido, supongamos que es la solución de sistema lineal\n",
        "\n",
        "def busca(b):\n",
        "    while True:\n",
        "        w = np.random.choice(list(range(-5,0))+list(range(1,6)), 4)\n",
        "        if np.matmul(v, w) == b:   # el producto de los dos vectores debe ser igual a número b\n",
        "            break\n",
        "    return w\n",
        "\n",
        "b = 5; print(f\"{busca(b)} x {v} = {b}\")\n",
        "b = -3; print(f\"{busca(b)} x {v} = {b}\")\n",
        "b = -1; print(f\"{busca(b)} x {v} = {b}\")\n",
        "b = -2; print(f\"{busca(b)} x {v} = {b}\")\n",
        "# Multiplicando a mano el primer vector sería un vector fila y\n",
        "# el segundo un vector columna\n",
        "# Al usar NumPy no nos preocupamos de la congruendia de vectores"
      ],
      "metadata": {
        "colab": {
          "base_uri": "https://localhost:8080/"
        },
        "id": "4JtH1rjsRwJH",
        "outputId": "824412c0-0ff9-4efc-84a9-0fcbd828a2c6"
      },
      "execution_count": null,
      "outputs": [
        {
          "output_type": "stream",
          "name": "stdout",
          "text": [
            "[-4  2  2 -1] x [1 2 4 3] = 5\n",
            "[ 4 -3 -4  5] x [1 2 4 3] = -3\n",
            "[ 4 -2  2 -3] x [1 2 4 3] = -1\n",
            "[-5 -2  4 -3] x [1 2 4 3] = -2\n"
          ]
        }
      ]
    },
    {
      "cell_type": "markdown",
      "source": [
        "## Construir una matriz conocidas sus filas\n"
      ],
      "metadata": {
        "id": "YhfK6ImtmzXc"
      }
    },
    {
      "cell_type": "code",
      "source": [
        "import numpy as np\n",
        "\n",
        "f1 = [-4, -2, 4,  2]\n",
        "f2 = [-5,  2,  4, -5]\n",
        "f3 = [-5, 5, -3,  4]\n",
        "f4 = [2,  2, -1, -5]\n",
        "matriz = [f1, f2, f3, f4]\n",
        "print(matriz)\n",
        "print()\n",
        "\n",
        "# m es un ndarray (n dimensional array)\n",
        "m = np.array(matriz)\n",
        "m"
      ],
      "metadata": {
        "id": "q0H3kPRXm7SX",
        "outputId": "51a8ff80-987f-4416-a760-266b58bc6bf6",
        "colab": {
          "base_uri": "https://localhost:8080/"
        }
      },
      "execution_count": null,
      "outputs": [
        {
          "output_type": "stream",
          "name": "stdout",
          "text": [
            "[[-4, -2, 4, 2], [-5, 2, 4, -5], [-5, 5, -3, 4], [2, 2, -1, -5]]\n",
            "\n"
          ]
        },
        {
          "output_type": "execute_result",
          "data": {
            "text/plain": [
              "array([[-4, -2,  4,  2],\n",
              "       [-5,  2,  4, -5],\n",
              "       [-5,  5, -3,  4],\n",
              "       [ 2,  2, -1, -5]])"
            ]
          },
          "metadata": {},
          "execution_count": 10
        }
      ]
    }
  ]
}