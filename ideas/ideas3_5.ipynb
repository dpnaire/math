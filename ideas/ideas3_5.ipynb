{
  "nbformat": 4,
  "nbformat_minor": 0,
  "metadata": {
    "colab": {
      "provenance": [],
      "authorship_tag": "ABX9TyNR8et1hFzh7rshg9BYcvSu",
      "include_colab_link": true
    },
    "kernelspec": {
      "name": "python3",
      "display_name": "Python 3"
    },
    "language_info": {
      "name": "python"
    }
  },
  "cells": [
    {
      "cell_type": "markdown",
      "metadata": {
        "id": "view-in-github",
        "colab_type": "text"
      },
      "source": [
        "<a href=\"https://colab.research.google.com/github/financieras/math/blob/main/ideas/ideas3_5.ipynb\" target=\"_parent\"><img src=\"https://colab.research.google.com/assets/colab-badge.svg\" alt=\"Open In Colab\"/></a>"
      ]
    },
    {
      "cell_type": "markdown",
      "source": [
        "# Ideas para la resolución de la Práctica 3.5"
      ],
      "metadata": {
        "id": "r7xhYnCVO1jV"
      }
    },
    {
      "cell_type": "markdown",
      "source": [
        "## Elegir aleatoriamente un número de una lista\n",
        "* Elegimos 3 números de una lista\n",
        "* Los números elegidos se pueden repetir"
      ],
      "metadata": {
        "id": "Bokg3XzrPJVs"
      }
    },
    {
      "cell_type": "markdown",
      "source": [
        "### Método 1"
      ],
      "metadata": {
        "id": "OpyNfxsfQkPo"
      }
    },
    {
      "cell_type": "code",
      "source": [
        "import numpy as np\n",
        "np.random.choice([0,1,2,3,4,5,6,7,8,9], 3)"
      ],
      "metadata": {
        "colab": {
          "base_uri": "https://localhost:8080/"
        },
        "id": "MFrongkCPjdW",
        "outputId": "53c742b4-77ec-4545-f791-3dc4e03c3b9b"
      },
      "execution_count": 8,
      "outputs": [
        {
          "output_type": "execute_result",
          "data": {
            "text/plain": [
              "array([6, 3, 4])"
            ]
          },
          "metadata": {},
          "execution_count": 8
        }
      ]
    },
    {
      "cell_type": "markdown",
      "source": [
        "### Método 2"
      ],
      "metadata": {
        "id": "NPdV-uA2QoGy"
      }
    },
    {
      "cell_type": "code",
      "source": [
        "import numpy as np\n",
        "np.random.choice(range(10), 3)"
      ],
      "metadata": {
        "colab": {
          "base_uri": "https://localhost:8080/"
        },
        "id": "k_-iIfU8QQ8B",
        "outputId": "707b4d28-3bdf-425b-9dea-40e98a90923b"
      },
      "execution_count": 17,
      "outputs": [
        {
          "output_type": "execute_result",
          "data": {
            "text/plain": [
              "array([5, 8, 2])"
            ]
          },
          "metadata": {},
          "execution_count": 17
        }
      ]
    },
    {
      "cell_type": "markdown",
      "source": [
        "## Concatenar dos listas\n",
        "Los números del -9 al 9 salvo el 0."
      ],
      "metadata": {
        "id": "wgEt1fCrQwB6"
      }
    },
    {
      "cell_type": "code",
      "source": [
        "list(range(-9,0)) + list(range(1,10))"
      ],
      "metadata": {
        "colab": {
          "base_uri": "https://localhost:8080/"
        },
        "id": "dHvPSt0_Q2ej",
        "outputId": "6201bb13-84ff-46e9-fc4d-40b9850438c0"
      },
      "execution_count": 18,
      "outputs": [
        {
          "output_type": "execute_result",
          "data": {
            "text/plain": [
              "[-9, -8, -7, -6, -5, -4, -3, -2, -1, 1, 2, 3, 4, 5, 6, 7, 8, 9]"
            ]
          },
          "metadata": {},
          "execution_count": 18
        }
      ]
    },
    {
      "cell_type": "markdown",
      "source": [
        "## Buscar vector\n",
        "Buscar un vector que al multiplicarse por otro nos de ciero número."
      ],
      "metadata": {
        "id": "RMgBTQC_RmAM"
      }
    },
    {
      "cell_type": "code",
      "source": [
        "import numpy as np\n",
        "\n",
        "a = np.array([3,4,5,2])\n",
        "\n",
        "\n",
        "def busca(b):\n",
        "    while True:\n",
        "        fila = np.random.choice(list(range(-5,0))+list(range(1,6)), 4)\n",
        "        if np.matmul(a, fila) == b:\n",
        "            break\n",
        "    return fila\n",
        "\n",
        "print(busca(6))\n",
        "print(busca(8))\n",
        "print(busca(10))"
      ],
      "metadata": {
        "colab": {
          "base_uri": "https://localhost:8080/"
        },
        "id": "4JtH1rjsRwJH",
        "outputId": "32d4c1e4-39a9-4500-f0af-45e9e5b06ce9"
      },
      "execution_count": 20,
      "outputs": [
        {
          "output_type": "stream",
          "name": "stdout",
          "text": [
            "[-5  5  1 -2]\n",
            "[-1 -4  5  1]\n",
            "[ 3 -4  3  1]\n"
          ]
        }
      ]
    }
  ]
}