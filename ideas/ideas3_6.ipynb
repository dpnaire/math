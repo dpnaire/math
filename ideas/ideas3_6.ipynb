{
  "nbformat": 4,
  "nbformat_minor": 0,
  "metadata": {
    "colab": {
      "provenance": [],
      "authorship_tag": "ABX9TyPNpg0edwn0E1EwQw1i0Rxi",
      "include_colab_link": true
    },
    "kernelspec": {
      "name": "python3",
      "display_name": "Python 3"
    },
    "language_info": {
      "name": "python"
    }
  },
  "cells": [
    {
      "cell_type": "markdown",
      "metadata": {
        "id": "view-in-github",
        "colab_type": "text"
      },
      "source": [
        "<a href=\"https://colab.research.google.com/github/financieras/math/blob/main/ideas/ideas3_6.ipynb\" target=\"_parent\"><img src=\"https://colab.research.google.com/assets/colab-badge.svg\" alt=\"Open In Colab\"/></a>"
      ]
    },
    {
      "cell_type": "markdown",
      "source": [
        "# Práctica 3.6\n",
        "**Resolución de sistemas lineales con Octave**\n",
        "\n",
        "1. Tome el mismo sistema 4x4 con solución única del ejercicio anterior.\n",
        "2. Muestra el sistema usando $\\LaTeX$\n",
        "3. Resuélvelo con Octave por dos métodos\n",
        "4. ¿Ambos métodos dan el mismo resultado?"
      ],
      "metadata": {
        "id": "GcGnfT9tVcD3"
      }
    },
    {
      "cell_type": "markdown",
      "source": [
        "# Ideas para la resolución de la Práctica 3.6"
      ],
      "metadata": {
        "id": "sQ98DQV4VeE1"
      }
    },
    {
      "cell_type": "markdown",
      "source": [
        "## Escribir con $\\LaTeX$\n",
        "Sistema lineal de cuatro ecuaciones con cuatro incógnitas.\n",
        "$$\n",
        "\\left.\n",
        "\\begin{array}{rrrcr}\n",
        "  2x &-4y &+5z &- t &= &5 \\\\\n",
        "  3x &-4y &+4z &-2t &= &1 \\\\\n",
        "  -x &+5y &-5z &+ t &= &-2 \\\\\n",
        "  4x &-3y &-3z &+2t &= &-3\n",
        "\\end{array}\n",
        "\\right\\}$$\n",
        "\n",
        "* El sistema en forma matricial:  \n",
        "\n",
        "$$Ax = b$$\n",
        "* Desarrollando las matrices\n",
        "$$\\left( \\begin{array}{rrrr}\n",
        "     2 & -4 & 5 & -1 \\\\\n",
        "     3 & -4 & 4 & -2 \\\\\n",
        "    -1 & 5 & -5 &  1 \\\\\n",
        "     4 &-3 & -3 & 2\n",
        "  \\end{array}\\right) \\begin{pmatrix}\n",
        "  x \\\\\n",
        "  y \\\\\n",
        "  z \\\\\n",
        "  t\n",
        "\\end{pmatrix} = \\begin{pmatrix}\n",
        "  5 \\\\\n",
        "  -1 \\\\\n",
        "  -2 \\\\\n",
        "  -3\n",
        "\\end{pmatrix}$$\n",
        "\n",
        "La solución es\n",
        "\n",
        "$$\\begin{pmatrix}\n",
        "  x \\\\\n",
        "  y \\\\\n",
        "  z \\\\\n",
        "  t\n",
        "\\end{pmatrix} = \\begin{pmatrix}\n",
        "  1 \\\\\n",
        "  2 \\\\\n",
        "  3 \\\\\n",
        "  4\n",
        "\\end{pmatrix}$$\n",
        "\n"
      ],
      "metadata": {
        "id": "8D0qDcykVrd5"
      }
    },
    {
      "cell_type": "markdown",
      "source": [
        "## Trabajar con Octave\n",
        "Podemos disponer de Octave de varias formas:\n",
        "1. Descargando e instalando el programa [Octave](https://octave.org). Se encuentra disponible para Win, Mac, Linux\n",
        "2. Usando [Octave online](https://octave-online.net)\n",
        "3. Usando el bloc de notas de Jupyter Notebook mediante Google Colab. Esta será la opción que utilizaremos para resolver la práctica."
      ],
      "metadata": {
        "id": "pIjkGIoskhV7"
      }
    },
    {
      "cell_type": "markdown",
      "source": [
        "## Aprendiendo Octave\n",
        "Disponemos de estos enlaces entre otros muchos que podemos buscar.\n",
        "* [Octave: instalación y primeros pasos con matrices](https://matesempresariales.blogspot.com/search/label/Octave#:~:text=Octave%3A%20instalaci%C3%B3n%20y%20primeros%20pasos%20con%20matrices)\n",
        "* [Comandos básicos en Octave](https://matesempresariales.blogspot.com/2017/08/comandos-basicos-en-octave.html)\n",
        "* [Octave: resolución de sistemas lineales](https://matesempresariales.blogspot.com/2016/09/octave-resolucion-de-sistemas-lineales.html)\n",
        "* [Octave: Raices de un polinomio](https://matesempresariales.blogspot.com/search/label/Octave#:~:text=Octave%3A%20Raices%20de%20un%20polinomio)\n",
        "* [Octave: autovalores, autovectores y diagonalización](https://matesempresariales.blogspot.com/search/label/Octave#:~:text=Octave%3A%20autovalores%2C%20autovectores%20y%20diagonalizaci%C3%B3n)\n",
        "* [Rango de una matriz con Octave](https://matesempresariales.blogspot.com/2016/11/rango-de-una-matriz-con-octave.html)"
      ],
      "metadata": {
        "id": "Pw5kBSSTmGb_"
      }
    },
    {
      "cell_type": "markdown",
      "source": [
        "## Usando Octave en Colab"
      ],
      "metadata": {
        "id": "crk_m1aqnzQ8"
      }
    }
  ]
}