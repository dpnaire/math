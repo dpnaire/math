{
  "nbformat": 4,
  "nbformat_minor": 0,
  "metadata": {
    "colab": {
      "provenance": [],
      "authorship_tag": "ABX9TyMgrP7p/NEG6QIvgXxR9Y8c",
      "include_colab_link": true
    },
    "kernelspec": {
      "name": "python3",
      "display_name": "Python 3"
    },
    "language_info": {
      "name": "python"
    }
  },
  "cells": [
    {
      "cell_type": "markdown",
      "metadata": {
        "id": "view-in-github",
        "colab_type": "text"
      },
      "source": [
        "<a href=\"https://colab.research.google.com/github/financieras/math/blob/main/ideas/ideas3_07.ipynb\" target=\"_parent\"><img src=\"https://colab.research.google.com/assets/colab-badge.svg\" alt=\"Open In Colab\"/></a>"
      ]
    },
    {
      "cell_type": "markdown",
      "source": [
        "# Práctica 3.7\n",
        "**Diagonalización en Python**\n",
        "\n",
        "* Sea la matriz cuadrada $A$ de orden 4x4\n",
        "\n",
        "$$A=\\left(\n",
        "\\begin{array}{rrrr}\n",
        " -1 &-2 &  3 &-1 \\\\\n",
        "  0 & 2 &  0 & 0 \\\\\n",
        "  0 & 0 &  2 & 0 \\\\\n",
        "  0 & 0 &  0 & 1\n",
        "\\end{array}\n",
        "\\right)$$\n",
        "1. Calcula los **autovalores** y **autovectores**\n",
        "2. Calcula y muestra:\n",
        " - la matriz diagonal $D$\n",
        " - la matriz de paso $P$\n",
        " - su inversa $P^{-1}$  \n",
        "3. Comprueba que se cumple que $A^3=PD^3P^{-1}$"
      ],
      "metadata": {
        "id": "pb_O-_jhSzms"
      }
    },
    {
      "cell_type": "markdown",
      "source": [
        "# Ideas para la resolución de la Práctica 3.7"
      ],
      "metadata": {
        "id": "lb0sN94nSud1"
      }
    },
    {
      "cell_type": "markdown",
      "source": [
        "## Dada la matriz $A$ calcular sus autovalores y autovectores\n",
        "* Los autovalores también se llaman eigenvalores o [eigenvalues](https://en.wikipedia.org/wiki/Eigenvalues_and_eigenvectors).\n",
        "* Los autovectores también se llaman [eigenvectores](https://es.wikipedia.org/wiki/Vector,_valor_y_espacio_propios) o eigenvectors.\n",
        "\n",
        "\n",
        "Para nuestro ejemplo vamos a utilizar la siguiente matriz $A$:\n",
        "\n",
        "$$A=\\left(\n",
        "\\begin{array}{rrrr}\n",
        " -3 & 2 & 0 &  0 \\\\\n",
        " -3 & 4 & 0 &  0 \\\\\n",
        "  0 & 0 &-5 & -4 \\\\\n",
        "  0 & 0 &-2 &  2\n",
        "\\end{array}\n",
        "\\right)$$\n",
        "\n",
        "Cálculo manual de los autovalores: [Encuentre los valores propios de una matriz 4x4](https://youtu.be/iJU78zgRpJ0)"
      ],
      "metadata": {
        "id": "O9FeeBaqS9My"
      }
    },
    {
      "cell_type": "markdown",
      "source": [
        "## Trabajando con la librería ```NumPy```"
      ],
      "metadata": {
        "id": "8Xx0RIC0-iXJ"
      }
    },
    {
      "cell_type": "code",
      "source": [
        "import numpy as np\n",
        "A = np.array([[-3,2,0,0], [-3,4,0,0], [0,0,-5,-4], [0,0,-2,2]])\n",
        "d,P = np.linalg.eig(A)\n",
        "print(\"d: \", d)\n",
        "D = np.diag(d)\n",
        "print(\"\\nD:\\n\", D)\n",
        "print(\"\\nP:\\n\", P)"
      ],
      "metadata": {
        "id": "sTabWEvYEBJ4",
        "outputId": "fb2980bf-e9f5-4ed3-fbba-d8c9eebc3f38",
        "colab": {
          "base_uri": "https://localhost:8080/"
        }
      },
      "execution_count": null,
      "outputs": [
        {
          "output_type": "stream",
          "name": "stdout",
          "text": [
            "d:  [-2.  3. -6.  3.]\n",
            "\n",
            "D:\n",
            " [[-2.  0.  0.  0.]\n",
            " [ 0.  3.  0.  0.]\n",
            " [ 0.  0. -6.  0.]\n",
            " [ 0.  0.  0.  3.]]\n",
            "\n",
            "P:\n",
            " [[-0.89442719 -0.31622777  0.          0.        ]\n",
            " [-0.4472136  -0.9486833   0.          0.        ]\n",
            " [ 0.          0.         -0.9701425   0.4472136 ]\n",
            " [ 0.          0.         -0.24253563 -0.89442719]]\n"
          ]
        }
      ]
    },
    {
      "cell_type": "markdown",
      "source": [
        "## Trabajando con la librería ```Sympy```"
      ],
      "metadata": {
        "id": "Zm5NjzeH_XRZ"
      }
    },
    {
      "cell_type": "code",
      "source": [
        "`from sympy import Matrix\n",
        "A = Matrix([[-3,2,0,0], [-3,4,0,0], [0,0,-5,-4], [0,0,-2,2]])\n",
        "P, D = A.diagonalize()\n",
        "D"
      ],
      "metadata": {
        "id": "Hno7WkfuGCaI",
        "outputId": "159bd98a-56d4-4337-c476-c8d8daf252ac",
        "colab": {
          "base_uri": "https://localhost:8080/",
          "height": 99
        }
      },
      "execution_count": null,
      "outputs": [
        {
          "output_type": "execute_result",
          "data": {
            "text/plain": [
              "Matrix([\n",
              "[-6,  0, 0, 0],\n",
              "[ 0, -2, 0, 0],\n",
              "[ 0,  0, 3, 0],\n",
              "[ 0,  0, 0, 3]])"
            ],
            "text/latex": "$\\displaystyle \\left[\\begin{matrix}-6 & 0 & 0 & 0\\\\0 & -2 & 0 & 0\\\\0 & 0 & 3 & 0\\\\0 & 0 & 0 & 3\\end{matrix}\\right]$"
          },
          "metadata": {},
          "execution_count": 12
        }
      ]
    },
    {
      "cell_type": "code",
      "source": [
        "P"
      ],
      "metadata": {
        "id": "OhlNOjA4ZDBg",
        "outputId": "8148c599-84e1-4ba2-a933-08535bce6445",
        "colab": {
          "base_uri": "https://localhost:8080/",
          "height": 99
        }
      },
      "execution_count": null,
      "outputs": [
        {
          "output_type": "execute_result",
          "data": {
            "text/plain": [
              "Matrix([\n",
              "[0, 2, 1,  0],\n",
              "[0, 1, 3,  0],\n",
              "[4, 0, 0, -1],\n",
              "[1, 0, 0,  2]])"
            ],
            "text/latex": "$\\displaystyle \\left[\\begin{matrix}0 & 2 & 1 & 0\\\\0 & 1 & 3 & 0\\\\4 & 0 & 0 & -1\\\\1 & 0 & 0 & 2\\end{matrix}\\right]$"
          },
          "metadata": {},
          "execution_count": 13
        }
      ]
    },
    {
      "cell_type": "markdown",
      "source": [
        "## Calculando $A^3$"
      ],
      "metadata": {
        "id": "59_Euw8aCfBy"
      }
    },
    {
      "cell_type": "code",
      "source": [
        "import numpy as np\n",
        "A = np.array([[-3,2,0,0], [-3,4,0,0], [0,0,-5,-4], [0,0,-2,2]])\n",
        "print(A@A@A)"
      ],
      "metadata": {
        "id": "twQyx7nVGZw1",
        "outputId": "b66a9f28-eb1b-48c7-e209-d0e54d5617f5",
        "colab": {
          "base_uri": "https://localhost:8080/"
        }
      },
      "execution_count": null,
      "outputs": [
        {
          "output_type": "stream",
          "name": "stdout",
          "text": [
            "[[ -15   14    0    0]\n",
            " [ -21   34    0    0]\n",
            " [   0    0 -189 -108]\n",
            " [   0    0  -54    0]]\n"
          ]
        }
      ]
    },
    {
      "cell_type": "markdown",
      "source": [
        "## Calculando $PD^3P^{-1}$"
      ],
      "metadata": {
        "id": "U9TLQ5OXCuxv"
      }
    },
    {
      "cell_type": "code",
      "source": [
        "import numpy as np\n",
        "A = np.array([[-3,2,0,0], [-3,4,0,0], [0,0,-5,-4], [0,0,-2,2]])\n",
        "d,P = np.linalg.eig(A)\n",
        "print(\"d: \", d)\n",
        "D = np.diag(d)\n",
        "print(\"\\nD:\\n\", D)\n",
        "print(\"\\nP:\\n\", P)\n",
        "Dcubo = D @ D @ D\n",
        "print(\"\\nDcubo:\\n\", Dcubo)\n",
        "print(\"\\nSolución:\\n\", P @ Dcubo @ np.linalg.inv(P))"
      ],
      "metadata": {
        "id": "h2AmqhUlGj6L",
        "outputId": "62ffb9cf-9285-4471-a5eb-1498c9b0a0d7",
        "colab": {
          "base_uri": "https://localhost:8080/"
        }
      },
      "execution_count": null,
      "outputs": [
        {
          "output_type": "stream",
          "name": "stdout",
          "text": [
            "d:  [-2.  3. -6.  3.]\n",
            "\n",
            "D:\n",
            " [[-2.  0.  0.  0.]\n",
            " [ 0.  3.  0.  0.]\n",
            " [ 0.  0. -6.  0.]\n",
            " [ 0.  0.  0.  3.]]\n",
            "\n",
            "P:\n",
            " [[-0.89442719 -0.31622777  0.          0.        ]\n",
            " [-0.4472136  -0.9486833   0.          0.        ]\n",
            " [ 0.          0.         -0.9701425   0.4472136 ]\n",
            " [ 0.          0.         -0.24253563 -0.89442719]]\n",
            "\n",
            "Dcubo:\n",
            " [[  -8.    0.    0.    0.]\n",
            " [   0.   27.    0.    0.]\n",
            " [   0.    0. -216.    0.]\n",
            " [   0.    0.    0.   27.]]\n",
            "\n",
            "Solución:\n",
            " [[-1.50000000e+01  1.40000000e+01  0.00000000e+00  0.00000000e+00]\n",
            " [-2.10000000e+01  3.40000000e+01  0.00000000e+00  0.00000000e+00]\n",
            " [ 0.00000000e+00  0.00000000e+00 -1.89000000e+02 -1.08000000e+02]\n",
            " [ 0.00000000e+00  0.00000000e+00 -5.40000000e+01 -2.74319149e-15]]\n"
          ]
        }
      ]
    }
  ]
}