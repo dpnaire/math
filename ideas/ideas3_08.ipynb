{
  "nbformat": 4,
  "nbformat_minor": 0,
  "metadata": {
    "colab": {
      "provenance": [],
      "authorship_tag": "ABX9TyP5jFfuLra3xSX5BswsDedD",
      "include_colab_link": true
    },
    "kernelspec": {
      "name": "python3",
      "display_name": "Python 3"
    },
    "language_info": {
      "name": "python"
    }
  },
  "cells": [
    {
      "cell_type": "markdown",
      "metadata": {
        "id": "view-in-github",
        "colab_type": "text"
      },
      "source": [
        "<a href=\"https://colab.research.google.com/github/financieras/math/blob/main/ideas/ideas3_08.ipynb\" target=\"_parent\"><img src=\"https://colab.research.google.com/assets/colab-badge.svg\" alt=\"Open In Colab\"/></a>"
      ]
    },
    {
      "cell_type": "markdown",
      "source": [
        "# Práctica 3.8\n",
        "**Diagonalización con Octave**\n",
        "\n",
        "Resuelva el ejercicio anterior, pero en esta ocasión utilizando Octave."
      ],
      "metadata": {
        "id": "enUGxIUw-hNn"
      }
    },
    {
      "cell_type": "markdown",
      "source": [
        "# Ideas para la resolución de la Práctica 3.8\n",
        "\n",
        "Mire el siguiente video: [Diagonalización con Octave](https://youtu.be/BPbwprSQMMw)\n",
        "\n",
        "Para nuestro ejemplo vamos a utilizar la siguiente matriz $A$:\n",
        "\n",
        "$$A=\\left(\n",
        "\\begin{array}{rrrr}\n",
        " -3 & 2 & 0 &  0 \\\\\n",
        " -3 & 4 & 0 &  0 \\\\\n",
        "  0 & 0 &-5 & -4 \\\\\n",
        "  0 & 0 &-2 &  2\n",
        "\\end{array}\n",
        "\\right)$$"
      ],
      "metadata": {
        "id": "-yWkZGg3-kR2"
      }
    },
    {
      "cell_type": "markdown",
      "source": [
        "## Trabajando con Octave"
      ],
      "metadata": {
        "id": "FwJzA6Xx_Me9"
      }
    },
    {
      "cell_type": "code",
      "source": [
        "!apt install octave\n",
        "!apt update"
      ],
      "metadata": {
        "id": "ZNmjQ_kL_QZi"
      },
      "execution_count": null,
      "outputs": []
    },
    {
      "cell_type": "code",
      "source": [
        "%%writefile diagonaliza.m\n",
        "A = [-3,2,0,0; -3,4,0,0; 0,0,-5,-4; 0,0,-2,2]\n",
        "[P,D]=eig(A)\n",
        "Dcubo = D^3\n",
        "Acubo = A^3\n",
        "PxDcuboXPinv = P*Dcubo*P^-1"
      ],
      "metadata": {
        "colab": {
          "base_uri": "https://localhost:8080/"
        },
        "id": "-KHNWRrQ_ZU0",
        "outputId": "3f0d3797-a2f9-4237-97ce-f7197ac9e63e"
      },
      "execution_count": null,
      "outputs": [
        {
          "output_type": "stream",
          "name": "stdout",
          "text": [
            "Writing diagonaliza.m\n"
          ]
        }
      ]
    },
    {
      "cell_type": "code",
      "source": [
        "!octave diagonaliza.m"
      ],
      "metadata": {
        "colab": {
          "base_uri": "https://localhost:8080/"
        },
        "id": "CSOGwjVT_cnT",
        "outputId": "6037b519-cdc5-4a30-8de5-c13564d95c40"
      },
      "execution_count": null,
      "outputs": [
        {
          "output_type": "stream",
          "name": "stdout",
          "text": [
            "octave: X11 DISPLAY environment variable not set\n",
            "octave: disabling GUI features\n",
            "A =\n",
            "\n",
            "  -3   2   0   0\n",
            "  -3   4   0   0\n",
            "   0   0  -5  -4\n",
            "   0   0  -2   2\n",
            "\n",
            "P =\n",
            "\n",
            "  -0.89443  -0.31623   0.00000   0.00000\n",
            "  -0.44721  -0.94868   0.00000   0.00000\n",
            "   0.00000   0.00000  -0.97014   0.44721\n",
            "   0.00000   0.00000  -0.24254  -0.89443\n",
            "\n",
            "D =\n",
            "\n",
            "Diagonal Matrix\n",
            "\n",
            "  -2   0   0   0\n",
            "   0   3   0   0\n",
            "   0   0  -6   0\n",
            "   0   0   0   3\n",
            "\n",
            "Dcubo =\n",
            "\n",
            "Diagonal Matrix\n",
            "\n",
            "    -8     0     0     0\n",
            "     0    27     0     0\n",
            "     0     0  -216     0\n",
            "     0     0     0    27\n",
            "\n",
            "Acubo =\n",
            "\n",
            "   -15    14     0     0\n",
            "   -21    34     0     0\n",
            "     0     0  -189  -108\n",
            "     0     0   -54     0\n",
            "\n",
            "PxDcuboXPinv =\n",
            "\n",
            "   -15.00000    14.00000     0.00000     0.00000\n",
            "   -21.00000    34.00000     0.00000     0.00000\n",
            "     0.00000     0.00000  -189.00000  -108.00000\n",
            "     0.00000     0.00000   -54.00000    -0.00000\n",
            "\n"
          ]
        }
      ]
    }
  ]
}