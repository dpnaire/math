{
  "nbformat": 4,
  "nbformat_minor": 0,
  "metadata": {
    "colab": {
      "provenance": [],
      "authorship_tag": "ABX9TyMgskIkgTQVt2Io8BvES3Xe",
      "include_colab_link": true
    },
    "kernelspec": {
      "name": "python3",
      "display_name": "Python 3"
    },
    "language_info": {
      "name": "python"
    }
  },
  "cells": [
    {
      "cell_type": "markdown",
      "metadata": {
        "id": "view-in-github",
        "colab_type": "text"
      },
      "source": [
        "<a href=\"https://colab.research.google.com/github/financieras/math/blob/main/ideas/ideas3_09.ipynb\" target=\"_parent\"><img src=\"https://colab.research.google.com/assets/colab-badge.svg\" alt=\"Open In Colab\"/></a>"
      ]
    },
    {
      "cell_type": "markdown",
      "source": [
        "## Práctica 3.9\n",
        "**Libertad para elegir el lugar de trabajo**  \n",
        "Resolver con **Octave**.\n",
        "\n",
        "Una empresa de 1.000 empleados permite que sus trabajadores cada día acudan a trabajar a la oficina o que realicen su trabajo desde su casa. Inicialmente el 90% de la plantilla trabajaba en la oficina y solo el 10% lo hacían en casa. Se ha observado que los que un día trabajan en casa tienen una probabilidad del 70% de realizarlo también desde casa al día siguiente, pero que en el restante 30% de los casos acuden a la oficina al día siguiente. Por el contrario, se ha observado que los que un día trabajaron en la oficina al día siguiente vuelven\n",
        "a la oficina en el 60% de los casos y en el 40% restante van a su casa al día siguiente.\n",
        "* Determinar qué número de empleados se quedan en casa transcurridos dos días.\n",
        "* ¿Y a largo plazo cuantos se quedan en casa?"
      ],
      "metadata": {
        "id": "5YjXdXHDxr2f"
      }
    },
    {
      "cell_type": "markdown",
      "source": [
        "# Ideas para la resolución de la Práctica 3.9\n",
        "Vea el documento [Diagonalización](https://www.dropbox.com/s/5v7kf1zkbltwf6b/Diagonalizacion.pdf?dl=1)\n",
        "\n",
        "<img src=\"https://github.com/financieras/math/blob/main/img/grafo_markov09.png?raw=1\" alt=\"autosABC\" width=\"300\">"
      ],
      "metadata": {
        "id": "UQggNCF8xr2f"
      }
    },
    {
      "cell_type": "code",
      "source": [
        "!apt install octave\n",
        "!apt update"
      ],
      "metadata": {
        "id": "KTSEltv2xr2f"
      },
      "execution_count": null,
      "outputs": []
    },
    {
      "cell_type": "code",
      "source": [
        "%%writefile proceso.m\n",
        "empleados = 1000\n",
        "% state vector\n",
        "inicial = [.9; .1]\n",
        "% transition probability matrix\n",
        "A = [.6, .3; .4, .7]\n",
        "[P,D]=eig(A)\n",
        "Dcuadrado = D^2\n",
        "Acuadrado = A^2\n",
        "PxDcuadradoXPinv = P*Dcuadrado*P^-1\n",
        "dia2 = Acuadrado * inicial\n",
        "disp(\"Nº de empleados que se quedan en casa el segundo día: \"), disp(dia2(2)*empleados)\n",
        "D10 = D^10\n",
        "A10 = P*D10*P^-1\n",
        "dia10 = A10 * inicial\n",
        "disp(\"Nº de empleados que se quedan en casa a largo plazo son: \"), disp(dia10(2)*empleados)"
      ],
      "metadata": {
        "colab": {
          "base_uri": "https://localhost:8080/"
        },
        "outputId": "92f1ecd6-f0c0-4460-d9bb-fed45a2ee49f",
        "id": "0we1q5ZHxr2f"
      },
      "execution_count": null,
      "outputs": [
        {
          "output_type": "stream",
          "name": "stdout",
          "text": [
            "Overwriting proceso.m\n"
          ]
        }
      ]
    },
    {
      "cell_type": "code",
      "source": [
        "!octave proceso.m"
      ],
      "metadata": {
        "colab": {
          "base_uri": "https://localhost:8080/"
        },
        "outputId": "791b71f3-9265-48f9-a174-e8f698389ef3",
        "id": "UnU7im5_xr2g"
      },
      "execution_count": null,
      "outputs": [
        {
          "output_type": "stream",
          "name": "stdout",
          "text": [
            "octave: X11 DISPLAY environment variable not set\n",
            "octave: disabling GUI features\n",
            "empleados =  1000\n",
            "inicial =\n",
            "\n",
            "   0.90000\n",
            "   0.10000\n",
            "\n",
            "A =\n",
            "\n",
            "   0.60000   0.30000\n",
            "   0.40000   0.70000\n",
            "\n",
            "P =\n",
            "\n",
            "  -0.70711  -0.60000\n",
            "   0.70711  -0.80000\n",
            "\n",
            "D =\n",
            "\n",
            "Diagonal Matrix\n",
            "\n",
            "   0.30000         0\n",
            "         0   1.00000\n",
            "\n",
            "Dcuadrado =\n",
            "\n",
            "Diagonal Matrix\n",
            "\n",
            "   0.090000          0\n",
            "          0   1.000000\n",
            "\n",
            "Acuadrado =\n",
            "\n",
            "   0.48000   0.39000\n",
            "   0.52000   0.61000\n",
            "\n",
            "PxDcuadradoXPinv =\n",
            "\n",
            "   0.48000   0.39000\n",
            "   0.52000   0.61000\n",
            "\n",
            "dia2 =\n",
            "\n",
            "   0.47100\n",
            "   0.52900\n",
            "\n",
            "Nº de empleados que se quedan en casa el segundo día: \n",
            " 529\n",
            "D10 =\n",
            "\n",
            "Diagonal Matrix\n",
            "\n",
            "   5.9049e-06            0\n",
            "            0   1.0000e+00\n",
            "\n",
            "A10 =\n",
            "\n",
            "   0.42857   0.42857\n",
            "   0.57143   0.57143\n",
            "\n",
            "dia10 =\n",
            "\n",
            "   0.42857\n",
            "   0.57143\n",
            "\n",
            "Nº de empleados que se quedan en casa a largo plazo son: \n",
            " 571.43\n"
          ]
        }
      ]
    },
    {
      "cell_type": "markdown",
      "source": [
        "<img src=\"https://github.com/financieras/math/blob/main/img/empleados.png?raw=1\" alt=\"autosABC\" width=\"400\">"
      ],
      "metadata": {
        "id": "AWF12Xp2P1pr"
      }
    }
  ]
}