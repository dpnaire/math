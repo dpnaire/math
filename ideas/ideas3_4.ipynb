{
  "nbformat": 4,
  "nbformat_minor": 0,
  "metadata": {
    "colab": {
      "provenance": [],
      "authorship_tag": "ABX9TyNJp2lcBXj//grHngZkje38",
      "include_colab_link": true
    },
    "kernelspec": {
      "name": "python3",
      "display_name": "Python 3"
    },
    "language_info": {
      "name": "python"
    }
  },
  "cells": [
    {
      "cell_type": "markdown",
      "metadata": {
        "id": "view-in-github",
        "colab_type": "text"
      },
      "source": [
        "<a href=\"https://colab.research.google.com/github/financieras/math/blob/main/ideas/ideas3_4.ipynb\" target=\"_parent\"><img src=\"https://colab.research.google.com/assets/colab-badge.svg\" alt=\"Open In Colab\"/></a>"
      ]
    },
    {
      "cell_type": "markdown",
      "source": [
        "# Ideas para la resolución de la Práctica 3.4"
      ],
      "metadata": {
        "id": "VGb51r4NQ7Ug"
      }
    },
    {
      "cell_type": "markdown",
      "source": [
        "## Aleatorio entre 0 y 1\n",
        "Generar un número aleatorio en Python que se distribuya según la distribución Uniforme [0,1)"
      ],
      "metadata": {
        "id": "r4TLgdOERDFP"
      }
    },
    {
      "cell_type": "markdown",
      "source": [
        "### Método 1"
      ],
      "metadata": {
        "id": "VxN2kuFfR0hh"
      }
    },
    {
      "cell_type": "code",
      "source": [
        "import random\n",
        "random.seed()\n",
        "rnd = random.random()\n",
        "print(\"Número aleatorio entre 0 y 1: \", rnd)"
      ],
      "metadata": {
        "colab": {
          "base_uri": "https://localhost:8080/"
        },
        "id": "w5VAix6BRZNP",
        "outputId": "c334a034-af59-48b2-bea4-3f85ffdcffbe"
      },
      "execution_count": null,
      "outputs": [
        {
          "output_type": "stream",
          "name": "stdout",
          "text": [
            "Número aleatorio entre 0 y 1:  0.5135725626535593\n"
          ]
        }
      ]
    },
    {
      "cell_type": "markdown",
      "source": [
        "### Método 2"
      ],
      "metadata": {
        "id": "raO3wjxpR3oh"
      }
    },
    {
      "cell_type": "code",
      "source": [
        "from random import random, seed\n",
        "seed()\n",
        "print(\"Número aleatorio entre 0 y 1: \", random())"
      ],
      "metadata": {
        "colab": {
          "base_uri": "https://localhost:8080/"
        },
        "id": "ikj7o_QJR56S",
        "outputId": "d8d7f430-f3a0-4bdd-d233-ab93481de4fc"
      },
      "execution_count": null,
      "outputs": [
        {
          "output_type": "stream",
          "name": "stdout",
          "text": [
            "Número aleatorio entre 0 y 1:  0.4405908848914649\n"
          ]
        }
      ]
    },
    {
      "cell_type": "markdown",
      "source": [
        "## Aleatorio entre -9 y +9\n",
        "Generar un número aleatorio entre -9 y +9, donde puedan estar ambos incluidos."
      ],
      "metadata": {
        "id": "EmFQOE-rSLI2"
      }
    },
    {
      "cell_type": "markdown",
      "source": [
        "### Método 1"
      ],
      "metadata": {
        "id": "2sHvRLYbSpqJ"
      }
    },
    {
      "cell_type": "code",
      "source": [
        "from random import randint\n",
        "print(randint(-9, 9))"
      ],
      "metadata": {
        "colab": {
          "base_uri": "https://localhost:8080/"
        },
        "id": "cO4ebhN6SZGW",
        "outputId": "2600780a-5cef-4cd4-9128-75593a01bc81"
      },
      "execution_count": null,
      "outputs": [
        {
          "output_type": "stream",
          "name": "stdout",
          "text": [
            "9\n"
          ]
        }
      ]
    },
    {
      "cell_type": "markdown",
      "source": [
        "### Método 2\n",
        " Usamos la uniforma (0,1) multiplicada por un número (la amplitud del intervalo) y más o menos otro valor, para que se ajuste al rango pedido. Y sobre ello se toma la parte entera con ```int```.  \n",
        "Para comprobar que abarcamos el rango indicado generamos un gran número de valores y calculamos el mínimo y el máximo. De esta forma comprobamos que estamos entre -9 y +9."
      ],
      "metadata": {
        "id": "KwFhlFC0S_G-"
      }
    },
    {
      "cell_type": "code",
      "source": [
        "from random import random, seed\n",
        "seed()\n",
        "lista = []\n",
        "for i in range(100_000):\n",
        "    rnd = int(random()*19)-9\n",
        "    lista.append(rnd)\n",
        "print(min(lista))\n",
        "print(max(lista))"
      ],
      "metadata": {
        "colab": {
          "base_uri": "https://localhost:8080/"
        },
        "id": "7k7d6KOxTBLE",
        "outputId": "84c52180-7c6e-4057-ed21-3b7a720b44fd"
      },
      "execution_count": null,
      "outputs": [
        {
          "output_type": "stream",
          "name": "stdout",
          "text": [
            "-9\n",
            "9\n"
          ]
        }
      ]
    },
    {
      "cell_type": "markdown",
      "source": [
        "## Elegir aleatoriamente un elemento de una lista"
      ],
      "metadata": {
        "id": "X0yxmsdGXEyj"
      }
    },
    {
      "cell_type": "code",
      "source": [
        "import random\n",
        "random.choice([1,2,3,4])"
      ],
      "metadata": {
        "colab": {
          "base_uri": "https://localhost:8080/"
        },
        "id": "W0dmJtQiXJ68",
        "outputId": "54f94e28-359d-43c4-f27e-368af42eba19"
      },
      "execution_count": null,
      "outputs": [
        {
          "output_type": "execute_result",
          "data": {
            "text/plain": [
              "3"
            ]
          },
          "metadata": {},
          "execution_count": 33
        }
      ]
    },
    {
      "cell_type": "markdown",
      "source": [
        "## Aleatorio entre -9 y +9, salvo 0"
      ],
      "metadata": {
        "id": "sbN28pPmWlG2"
      }
    },
    {
      "cell_type": "code",
      "source": [
        "#@title\n",
        "from random import randint, choice\n",
        "randint(1,9) * choice([1,-1])"
      ],
      "metadata": {
        "id": "jGbssxe5Wqgq"
      },
      "execution_count": null,
      "outputs": []
    },
    {
      "cell_type": "markdown",
      "source": [
        "## Tiempo que tarda un proceso\n",
        "En segundos."
      ],
      "metadata": {
        "id": "ip8_WMkbqq4s"
      }
    },
    {
      "cell_type": "code",
      "source": [
        "from time import process_time\n",
        "\n",
        "t1 = process_time()\n",
        "\n",
        "for i in range(10_000_000):\n",
        "    cuadrado = i**2\n",
        "\n",
        "t2 = process_time()\n",
        "print(f\"El proceso ha tardado {t2-t1} segundos.\")"
      ],
      "metadata": {
        "id": "mFQ3tNU1qwMO",
        "outputId": "e8b4186f-bd19-492a-c19f-d35f2846762d",
        "colab": {
          "base_uri": "https://localhost:8080/"
        }
      },
      "execution_count": null,
      "outputs": [
        {
          "output_type": "stream",
          "name": "stdout",
          "text": [
            "El proceso ha tardado 3.108162828000001 segundos.\n"
          ]
        }
      ]
    },
    {
      "cell_type": "markdown",
      "source": [
        "## Bucle ```while True```\n",
        "Un bucle que se repite indefinidamente hasta encontrar un ```break```."
      ],
      "metadata": {
        "id": "vlTPsmAEr7sE"
      }
    },
    {
      "cell_type": "code",
      "source": [
        "import random\n",
        "\n",
        "contador = 0\n",
        "valor_deseado = 0\n",
        "\n",
        "while True:\n",
        "    rnd = random.choice(list(range(1000)))\n",
        "    contador += 1\n",
        "    if rnd == valor_deseado:\n",
        "        print(f\"Se han realizado {contador} ciclos en el bucle hasta encontrar el valor deaseado.\")\n",
        "        break\n",
        "\n",
        "print(\"Fin del programa\")"
      ],
      "metadata": {
        "id": "87bLpB1OsPAR",
        "outputId": "a02dade1-1c14-4840-f266-5a70699b62ff",
        "colab": {
          "base_uri": "https://localhost:8080/"
        }
      },
      "execution_count": null,
      "outputs": [
        {
          "output_type": "stream",
          "name": "stdout",
          "text": [
            "Se han realizado 1118 ciclos en el bucle hasta encontrar el valor deaseado.\n",
            "Fin del programa\n"
          ]
        }
      ]
    },
    {
      "cell_type": "markdown",
      "source": [
        "## Inicializar una lista"
      ],
      "metadata": {
        "id": "YjFdMdSpuSyI"
      }
    },
    {
      "cell_type": "markdown",
      "source": [
        "### Método 1"
      ],
      "metadata": {
        "id": "23QS2Xx26-dE"
      }
    },
    {
      "cell_type": "code",
      "source": [
        "l = [0]*5\n",
        "l"
      ],
      "metadata": {
        "id": "RbrHW4P9ubdX",
        "outputId": "f2db23dd-b46a-4356-b58f-082c44471d29",
        "colab": {
          "base_uri": "https://localhost:8080/"
        }
      },
      "execution_count": null,
      "outputs": [
        {
          "output_type": "execute_result",
          "data": {
            "text/plain": [
              "[0, 0, 0, 0, 0]"
            ]
          },
          "metadata": {},
          "execution_count": 15
        }
      ]
    },
    {
      "cell_type": "markdown",
      "source": [
        "### Método 2"
      ],
      "metadata": {
        "id": "jBR6gE3N7C79"
      }
    },
    {
      "cell_type": "code",
      "source": [
        "l = [None]*5\n",
        "l"
      ],
      "metadata": {
        "id": "r-n6wsni7Etn",
        "outputId": "869fd5d1-9670-45d7-9a21-973a42c896ee",
        "colab": {
          "base_uri": "https://localhost:8080/"
        }
      },
      "execution_count": null,
      "outputs": [
        {
          "output_type": "execute_result",
          "data": {
            "text/plain": [
              "[None, None, None, None, None]"
            ]
          },
          "metadata": {},
          "execution_count": 19
        }
      ]
    },
    {
      "cell_type": "markdown",
      "source": [
        "## Copiar una lista"
      ],
      "metadata": {
        "id": "tv_Rtez_7-OP"
      }
    },
    {
      "cell_type": "markdown",
      "source": [
        "### Método incorrecto\n",
        "La lista b no es una copia de a sino que sigue siendo a.  \n",
        "Al cambiar un valor de a tambien cambia en b, no son independientes."
      ],
      "metadata": {
        "id": "jK5njeIm8Pzt"
      }
    },
    {
      "cell_type": "code",
      "source": [
        "a = [1,2,3]\n",
        "b = a\n",
        "a[0] = 10\n",
        "print(b)"
      ],
      "metadata": {
        "id": "idlBO3dV8BIk",
        "outputId": "ab632026-6b10-4afe-f03b-02f7c03e70b6",
        "colab": {
          "base_uri": "https://localhost:8080/"
        }
      },
      "execution_count": null,
      "outputs": [
        {
          "output_type": "stream",
          "name": "stdout",
          "text": [
            "[10, 2, 3]\n"
          ]
        }
      ]
    },
    {
      "cell_type": "markdown",
      "source": [
        "### Método correcto"
      ],
      "metadata": {
        "id": "csHayKpD8ewU"
      }
    },
    {
      "cell_type": "code",
      "source": [
        "a = [1,2,3]\n",
        "b = a[:]\n",
        "c = a.copy()\n",
        "a[0] = 10\n",
        "print(b)\n",
        "print(c)"
      ],
      "metadata": {
        "id": "98qmH-ym8kOl",
        "outputId": "d2f274be-cc5d-46eb-b3df-e226412f6435",
        "colab": {
          "base_uri": "https://localhost:8080/"
        }
      },
      "execution_count": null,
      "outputs": [
        {
          "output_type": "stream",
          "name": "stdout",
          "text": [
            "[1, 2, 3]\n",
            "[1, 2, 3]\n"
          ]
        }
      ]
    },
    {
      "cell_type": "markdown",
      "source": [
        "## List Comprehension"
      ],
      "metadata": {
        "id": "j6iQMqal9VeM"
      }
    },
    {
      "cell_type": "code",
      "source": [
        "cuadrados = [i**2 for i in range(1,11)]\n",
        "cuadrados"
      ],
      "metadata": {
        "id": "FRnTOEUJ9qbW",
        "outputId": "31b05061-58c4-41f7-f8ac-bb8085baf36b",
        "colab": {
          "base_uri": "https://localhost:8080/"
        }
      },
      "execution_count": null,
      "outputs": [
        {
          "output_type": "execute_result",
          "data": {
            "text/plain": [
              "[1, 4, 9, 16, 25, 36, 49, 64, 81, 100]"
            ]
          },
          "metadata": {},
          "execution_count": 23
        }
      ]
    },
    {
      "cell_type": "code",
      "source": [
        "ciudades = ['Madrid', 'Oviedo', 'Sevilla', 'Lugo']\n",
        "[c for c in ciudades if 'a' in c]"
      ],
      "metadata": {
        "id": "96mCK8KuKwvl",
        "outputId": "afcb47b5-2faa-45c4-c558-34473b723930",
        "colab": {
          "base_uri": "https://localhost:8080/"
        }
      },
      "execution_count": 1,
      "outputs": [
        {
          "output_type": "execute_result",
          "data": {
            "text/plain": [
              "['Madrid', 'Sevilla']"
            ]
          },
          "metadata": {},
          "execution_count": 1
        }
      ]
    },
    {
      "cell_type": "markdown",
      "source": [
        "## Matriz de números aleatorios"
      ],
      "metadata": {
        "id": "gnAmMzejP1WL"
      }
    },
    {
      "cell_type": "markdown",
      "source": [
        "### Método 1"
      ],
      "metadata": {
        "id": "CpHAKXR3P6yE"
      }
    },
    {
      "cell_type": "code",
      "source": [
        "from random import randint, seed\n",
        "seed()\n",
        "m = []\n",
        "for i in range(5):\n",
        "    fila = []\n",
        "    for j in range(5):\n",
        "        fila.append(randint(0,9))\n",
        "    m.append(fila)\n",
        "\n",
        "m \n"
      ],
      "metadata": {
        "id": "MyA1Zn4fP93Y",
        "outputId": "1bc30d25-d9da-4aa7-c628-ae62f51f738c",
        "colab": {
          "base_uri": "https://localhost:8080/"
        }
      },
      "execution_count": 5,
      "outputs": [
        {
          "output_type": "execute_result",
          "data": {
            "text/plain": [
              "[[8, 3, 1, 3, 5],\n",
              " [0, 0, 5, 3, 7],\n",
              " [2, 6, 1, 8, 6],\n",
              " [4, 7, 1, 2, 9],\n",
              " [4, 3, 8, 6, 8]]"
            ]
          },
          "metadata": {},
          "execution_count": 5
        }
      ]
    },
    {
      "cell_type": "markdown",
      "source": [
        "### Método 2"
      ],
      "metadata": {
        "id": "PO_xNHHwRSkI"
      }
    },
    {
      "cell_type": "code",
      "source": [
        "[[randint(0,9) for j in range(5)] for i in range(5)]"
      ],
      "metadata": {
        "id": "ax2JgIPcRVE3",
        "outputId": "b8050615-ad8d-4256-a2b7-73b59c401c5c",
        "colab": {
          "base_uri": "https://localhost:8080/"
        }
      },
      "execution_count": 7,
      "outputs": [
        {
          "output_type": "execute_result",
          "data": {
            "text/plain": [
              "[[7, 4, 7, 6, 1],\n",
              " [6, 9, 4, 6, 5],\n",
              " [4, 9, 9, 8, 8],\n",
              " [4, 5, 9, 4, 6],\n",
              " [5, 5, 2, 4, 7]]"
            ]
          },
          "metadata": {},
          "execution_count": 7
        }
      ]
    },
    {
      "cell_type": "markdown",
      "source": [
        "## Convertir una lista en un ndarray usando ```Numpy```"
      ],
      "metadata": {
        "id": "C6jU6RoqStnv"
      }
    },
    {
      "cell_type": "code",
      "source": [
        "import numpy as np\n",
        "\n",
        "lista = [1,2,3,4]\n",
        "vector = np.array(lista)   # convertimos la matriz en un ndarray\n",
        "vector"
      ],
      "metadata": {
        "id": "xcxp-bqfS6_T",
        "outputId": "7b8078ba-38cf-4f59-e600-871b4272c8bd",
        "colab": {
          "base_uri": "https://localhost:8080/"
        }
      },
      "execution_count": 11,
      "outputs": [
        {
          "output_type": "execute_result",
          "data": {
            "text/plain": [
              "array([1, 2, 3, 4])"
            ]
          },
          "metadata": {},
          "execution_count": 11
        }
      ]
    },
    {
      "cell_type": "markdown",
      "source": [
        "## Ventajas de un ndarray frente a una lista\n",
        "La gran ventaja es que con los ndarray se puede operar como si estuviérasmos tratando con vectores de álgebra.  \n",
        "* Se pueden sumar vectores. Si fueran dos listas no se suman, se añaden elementos.\n",
        "* Se pueden multipicar matrices"
      ],
      "metadata": {
        "id": "-lzilw1hTdMG"
      }
    },
    {
      "cell_type": "code",
      "source": [
        "lista1 = [1,2,3]\n",
        "lista2 = [4,5,6]\n",
        "vector1 = np.array(lista1)\n",
        "vector2 = np.array(lista2)\n",
        "print(\"Suma de listas\", lista1 + lista2)\n",
        "print(\"Suma de vectores\", vector1 + vector2)"
      ],
      "metadata": {
        "id": "3A0mTjI0T3SD",
        "outputId": "2be43c24-35c2-47ff-cc56-739c1b98161a",
        "colab": {
          "base_uri": "https://localhost:8080/"
        }
      },
      "execution_count": 12,
      "outputs": [
        {
          "output_type": "stream",
          "name": "stdout",
          "text": [
            "Suma de listas [1, 2, 3, 4, 5, 6]\n",
            "Suma de vectores [5 7 9]\n"
          ]
        }
      ]
    },
    {
      "cell_type": "code",
      "source": [
        "import numpy as np\n",
        "m = [[1,2,3], [4,5,6], [7,8,9]]\n",
        "b = [1,-2,2]\n",
        "#print(\"El producto con listas da error\", m*b )\n",
        "m = np.array(m)\n",
        "b = np.array(b)\n",
        "print(\"Producto con nd arrays\\n\", np.dot(m,b))"
      ],
      "metadata": {
        "id": "3GrdoZOhUmX3",
        "outputId": "215fc35a-59c1-4d44-90de-da67dd69b728",
        "colab": {
          "base_uri": "https://localhost:8080/"
        }
      },
      "execution_count": 66,
      "outputs": [
        {
          "output_type": "stream",
          "name": "stdout",
          "text": [
            "Producto con nd arrays\n",
            " [3 6 9]\n"
          ]
        }
      ]
    },
    {
      "cell_type": "markdown",
      "source": [
        "## Determinante con ```Numpy```"
      ],
      "metadata": {
        "id": "FjdjjNq3bjdj"
      }
    },
    {
      "cell_type": "code",
      "source": [
        "import numpy as np\n",
        "m = [[1,-2,3], [4,5,6], [7,8,0]]\n",
        "np.linalg.det(m)"
      ],
      "metadata": {
        "id": "DA-FtSBNbrBh",
        "outputId": "9ac7201a-e053-4856-9a02-f88081843f0b",
        "colab": {
          "base_uri": "https://localhost:8080/"
        }
      },
      "execution_count": 17,
      "outputs": [
        {
          "output_type": "execute_result",
          "data": {
            "text/plain": [
              "-141.00000000000003"
            ]
          },
          "metadata": {},
          "execution_count": 17
        }
      ]
    },
    {
      "cell_type": "markdown",
      "source": [
        "## Típio error de redondeo al operar con números ```float```"
      ],
      "metadata": {
        "id": "yip1-vkdcNkt"
      }
    },
    {
      "cell_type": "code",
      "source": [
        "print(0.1 + 0.1 + 0.1)"
      ],
      "metadata": {
        "id": "1oQeT7e-cE1J",
        "outputId": "253b0313-060b-41aa-e237-da066cad2750",
        "colab": {
          "base_uri": "https://localhost:8080/"
        }
      },
      "execution_count": 18,
      "outputs": [
        {
          "output_type": "stream",
          "name": "stdout",
          "text": [
            "0.30000000000000004\n"
          ]
        }
      ]
    },
    {
      "cell_type": "markdown",
      "source": [
        "## Redondear"
      ],
      "metadata": {
        "id": "M3gZK3PLifn9"
      }
    },
    {
      "cell_type": "code",
      "source": [
        "import math\n",
        "print(\"pi: \", math.pi)\n",
        "print(f\"Redondeando: {round(math.pi, 4)}\")"
      ],
      "metadata": {
        "id": "B4lmifYcijml",
        "outputId": "5907d9cc-cac8-46eb-c341-a411f4445a88",
        "colab": {
          "base_uri": "https://localhost:8080/"
        }
      },
      "execution_count": 55,
      "outputs": [
        {
          "output_type": "stream",
          "name": "stdout",
          "text": [
            "pi:  3.141592653589793\n",
            "Redondeando: 3.1416\n"
          ]
        }
      ]
    },
    {
      "cell_type": "markdown",
      "source": [
        "## Matriz de números aleatorios con determinante nulo"
      ],
      "metadata": {
        "id": "gc08DyH7cw3J"
      }
    },
    {
      "cell_type": "code",
      "source": [
        "import numpy as np\n",
        "\n",
        "n = 5   # orden nxn de la matriz cuadrada\n",
        "\n",
        "while True:\n",
        "    m = np.random.randint(-9,10, size=(n, n))   # aleatorios enteros entre -9 y +9\n",
        "    if np.linalg.det(m) == 0:\n",
        "        print(m)\n",
        "        break"
      ],
      "metadata": {
        "id": "Wr3XXvpHc3qQ",
        "outputId": "7d18f7b5-4174-4ef2-d93b-555a7a4ab855",
        "colab": {
          "base_uri": "https://localhost:8080/"
        }
      },
      "execution_count": 46,
      "outputs": [
        {
          "output_type": "stream",
          "name": "stdout",
          "text": [
            "[[ 3  6  4  3  7]\n",
            " [-1 -4  0 -3  7]\n",
            " [ 3  6  4  3  7]\n",
            " [-8 -1 -1 -1 -9]\n",
            " [ 8 -1  4  8 -5]]\n"
          ]
        }
      ]
    },
    {
      "cell_type": "markdown",
      "source": [
        "## Transponer una matriz con ```NumPy```"
      ],
      "metadata": {
        "id": "rM9eZtGIjrdu"
      }
    },
    {
      "cell_type": "code",
      "source": [
        "import numpy as np\n",
        "m = np.array([[1,2,3],[4,5,6],[7,8,9]])\n",
        "print(\"Matriz:\")\n",
        "print(m)\n",
        "print(\"\\nTasnpuesta:\")\n",
        "print(np.transpose(m))"
      ],
      "metadata": {
        "id": "C5lK5xumj0W0",
        "outputId": "2d7eef20-eb17-433e-c572-f3fb0df30890",
        "colab": {
          "base_uri": "https://localhost:8080/"
        }
      },
      "execution_count": 59,
      "outputs": [
        {
          "output_type": "stream",
          "name": "stdout",
          "text": [
            "Matriz:\n",
            "[[1 2 3]\n",
            " [4 5 6]\n",
            " [7 8 9]]\n",
            "\n",
            "Tasnpuesta:\n",
            "[[1 4 7]\n",
            " [2 5 8]\n",
            " [3 6 9]]\n"
          ]
        }
      ]
    },
    {
      "cell_type": "markdown",
      "source": [
        "## Inversa de una mariz con ```NumPy```"
      ],
      "metadata": {
        "id": "a-_NOsl8k3un"
      }
    },
    {
      "cell_type": "code",
      "source": [
        "import numpy as np\n",
        "m = np.array([[1,-7, -8], [ 1,-4,-4], [-1,3,3]])\n",
        "print(\"Matriz:\")\n",
        "print(m)\n",
        "print()\n",
        "print(\"Inversa:\")\n",
        "minv = np.linalg.inv(m)\n",
        "print(minv)\n",
        "print()\n",
        "print(\"Matriz Identidad:\")\n",
        "print(np.dot(m, minv))"
      ],
      "metadata": {
        "id": "pvhdVYV1lArO",
        "outputId": "5f90584b-edbb-4b4f-d905-9da49ae685d9",
        "colab": {
          "base_uri": "https://localhost:8080/"
        }
      },
      "execution_count": 65,
      "outputs": [
        {
          "output_type": "stream",
          "name": "stdout",
          "text": [
            "Matriz:\n",
            "[[ 1 -7 -8]\n",
            " [ 1 -4 -4]\n",
            " [-1  3  3]]\n",
            "\n",
            "Inversa:\n",
            "[[ 0. -3. -4.]\n",
            " [ 1. -5. -4.]\n",
            " [-1.  4.  3.]]\n",
            "\n",
            "Matriz Identidad:\n",
            "[[1. 0. 0.]\n",
            " [0. 1. 0.]\n",
            " [0. 0. 1.]]\n"
          ]
        }
      ]
    }
  ]
}