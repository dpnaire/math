{
  "nbformat": 4,
  "nbformat_minor": 0,
  "metadata": {
    "colab": {
      "provenance": [],
      "authorship_tag": "ABX9TyNpNyjU0V5OzL4kQn1WuiNg",
      "include_colab_link": true
    },
    "kernelspec": {
      "name": "python3",
      "display_name": "Python 3"
    },
    "language_info": {
      "name": "python"
    }
  },
  "cells": [
    {
      "cell_type": "markdown",
      "metadata": {
        "id": "view-in-github",
        "colab_type": "text"
      },
      "source": [
        "<a href=\"https://colab.research.google.com/github/financieras/math/blob/main/ideas/ideas3_4.ipynb\" target=\"_parent\"><img src=\"https://colab.research.google.com/assets/colab-badge.svg\" alt=\"Open In Colab\"/></a>"
      ]
    },
    {
      "cell_type": "markdown",
      "source": [
        "# Práctica 3.4\n",
        "**Matriz inversa en Python**  \n",
        "\n",
        "Desarrolla un código en Python que al ejecutarse consiga los siguientes apartados.  \n",
        "1. Crea una matriz cuadrada de dimensiones 3×3 usando números aleatorios enteros entre -9 y +9, excepto cero\n",
        "2. Buscar un caso donde el determinante sea igual a 1\n",
        "3. Si el determinante es 1 imprime la matriz y su determinante\n",
        "4. Calcula e imprime su transpuesta\n",
        "5. Calcula e imprime su matriz inversa\n",
        "6. Multiplica la matriz creada por su inversa y comprueba que el producto es la matriz identidad.\n",
        "7. Calcula cuantos segundos ha tardado en realizarse el proceso."
      ],
      "metadata": {
        "id": "TwImZNwqkIpm"
      }
    },
    {
      "cell_type": "markdown",
      "source": [
        "# Ideas para la resolución de la Práctica 3.4"
      ],
      "metadata": {
        "id": "VGb51r4NQ7Ug"
      }
    },
    {
      "cell_type": "markdown",
      "source": [
        "## Aleatorio entre 0 y 1\n",
        "Generar un número aleatorio en Python que se distribuya según la distribución Uniforme [0,1)"
      ],
      "metadata": {
        "id": "r4TLgdOERDFP"
      }
    },
    {
      "cell_type": "markdown",
      "source": [
        "### Método 1"
      ],
      "metadata": {
        "id": "VxN2kuFfR0hh"
      }
    },
    {
      "cell_type": "code",
      "source": [
        "import random\n",
        "random.seed()\n",
        "rnd = random.random()\n",
        "print(\"Número aleatorio entre 0 y 1: \", rnd)"
      ],
      "metadata": {
        "id": "w5VAix6BRZNP"
      },
      "execution_count": null,
      "outputs": []
    },
    {
      "cell_type": "markdown",
      "source": [
        "### Método 2"
      ],
      "metadata": {
        "id": "raO3wjxpR3oh"
      }
    },
    {
      "cell_type": "code",
      "source": [
        "from random import random, seed\n",
        "seed()\n",
        "print(\"Número aleatorio entre 0 y 1: \", random())"
      ],
      "metadata": {
        "id": "ikj7o_QJR56S"
      },
      "execution_count": null,
      "outputs": []
    },
    {
      "cell_type": "markdown",
      "source": [
        "## Aleatorio entre -9 y +9\n",
        "Generar un número aleatorio entre -9 y +9, donde puedan estar ambos incluidos."
      ],
      "metadata": {
        "id": "EmFQOE-rSLI2"
      }
    },
    {
      "cell_type": "markdown",
      "source": [
        "### Método 1"
      ],
      "metadata": {
        "id": "2sHvRLYbSpqJ"
      }
    },
    {
      "cell_type": "code",
      "source": [
        "from random import randint\n",
        "print(randint(-9, 9))"
      ],
      "metadata": {
        "id": "cO4ebhN6SZGW"
      },
      "execution_count": null,
      "outputs": []
    },
    {
      "cell_type": "markdown",
      "source": [
        "### Método 2\n",
        " Usamos la uniforma (0,1) multiplicada por un número (la amplitud del intervalo) y más o menos otro valor, para que se ajuste al rango pedido. Y sobre ello se toma la parte entera con ```int```.  \n",
        "Para comprobar que abarcamos el rango indicado generamos un gran número de valores y calculamos el mínimo y el máximo. De esta forma comprobamos que estamos entre -9 y +9."
      ],
      "metadata": {
        "id": "KwFhlFC0S_G-"
      }
    },
    {
      "cell_type": "code",
      "source": [
        "from random import random, seed\n",
        "seed()\n",
        "lista = []   # inicializamos una lista (array)\n",
        "\n",
        "for i in range(100_000):\n",
        "    rnd = int(random()*19)-9\n",
        "    lista.append(rnd)\n",
        "print(min(lista))\n",
        "print(max(lista))"
      ],
      "metadata": {
        "id": "7k7d6KOxTBLE"
      },
      "execution_count": null,
      "outputs": []
    },
    {
      "cell_type": "markdown",
      "source": [
        "## Elegir aleatoriamente un elemento de una lista"
      ],
      "metadata": {
        "id": "X0yxmsdGXEyj"
      }
    },
    {
      "cell_type": "code",
      "source": [
        "import random\n",
        "random.choice([1,2,3,4])"
      ],
      "metadata": {
        "id": "W0dmJtQiXJ68"
      },
      "execution_count": null,
      "outputs": []
    },
    {
      "cell_type": "markdown",
      "source": [
        "## Aleatorio entre -9 y +9, salvo 0"
      ],
      "metadata": {
        "id": "sbN28pPmWlG2"
      }
    },
    {
      "cell_type": "code",
      "source": [
        "#@title\n",
        "from random import randint, choice\n",
        "randint(1,9) * choice([1,-1])"
      ],
      "metadata": {
        "id": "jGbssxe5Wqgq"
      },
      "execution_count": null,
      "outputs": []
    },
    {
      "cell_type": "markdown",
      "source": [
        "## Tiempo que tarda un proceso\n",
        "En segundos."
      ],
      "metadata": {
        "id": "ip8_WMkbqq4s"
      }
    },
    {
      "cell_type": "code",
      "source": [
        "from time import process_time\n",
        "\n",
        "t1 = process_time()\n",
        "\n",
        "for i in range(10_000_000):\n",
        "    cuadrado = i**2\n",
        "\n",
        "t2 = process_time()\n",
        "print(f\"El proceso ha tardado {t2-t1} segundos.\")"
      ],
      "metadata": {
        "id": "mFQ3tNU1qwMO"
      },
      "execution_count": null,
      "outputs": []
    },
    {
      "cell_type": "markdown",
      "source": [
        "## Bucle ```while True```\n",
        "Un bucle que se repite indefinidamente hasta encontrar un ```break```."
      ],
      "metadata": {
        "id": "vlTPsmAEr7sE"
      }
    },
    {
      "cell_type": "code",
      "source": [
        "import random\n",
        "\n",
        "contador = 0\n",
        "valor_deseado = 42\n",
        "\n",
        "while True:\n",
        "    rnd = random.choice(list(range(1000)))\n",
        "    contador += 1   # contador = contador + 1\n",
        "    if rnd == valor_deseado:\n",
        "        print(f\"Se han realizado {contador} ciclos en el bucle hasta encontrar el valor deaseado.\")\n",
        "        break\n",
        "\n",
        "print(\"Fin del programa\")"
      ],
      "metadata": {
        "id": "87bLpB1OsPAR"
      },
      "execution_count": null,
      "outputs": []
    },
    {
      "cell_type": "markdown",
      "source": [
        "## Inicializar una lista"
      ],
      "metadata": {
        "id": "YjFdMdSpuSyI"
      }
    },
    {
      "cell_type": "markdown",
      "source": [
        "### Método 1"
      ],
      "metadata": {
        "id": "23QS2Xx26-dE"
      }
    },
    {
      "cell_type": "code",
      "source": [
        "l = [0]*5\n",
        "l"
      ],
      "metadata": {
        "id": "RbrHW4P9ubdX"
      },
      "execution_count": null,
      "outputs": []
    },
    {
      "cell_type": "markdown",
      "source": [
        "### Método 2"
      ],
      "metadata": {
        "id": "jBR6gE3N7C79"
      }
    },
    {
      "cell_type": "code",
      "source": [
        "l = [None]*5\n",
        "l"
      ],
      "metadata": {
        "id": "r-n6wsni7Etn"
      },
      "execution_count": null,
      "outputs": []
    },
    {
      "cell_type": "markdown",
      "source": [
        "## Copiar una lista"
      ],
      "metadata": {
        "id": "tv_Rtez_7-OP"
      }
    },
    {
      "cell_type": "markdown",
      "source": [
        "### Método incorrecto\n",
        "La lista b no es una copia de a sino que sigue siendo a.  \n",
        "Al cambiar un valor de a tambien cambia en b, no son independientes."
      ],
      "metadata": {
        "id": "jK5njeIm8Pzt"
      }
    },
    {
      "cell_type": "code",
      "source": [
        "a = [1,2,3]\n",
        "b = a\n",
        "a[0] = 10\n",
        "print(b)"
      ],
      "metadata": {
        "id": "idlBO3dV8BIk"
      },
      "execution_count": null,
      "outputs": []
    },
    {
      "cell_type": "markdown",
      "source": [
        "### Método correcto"
      ],
      "metadata": {
        "id": "csHayKpD8ewU"
      }
    },
    {
      "cell_type": "code",
      "source": [
        "a = [1,2,3]\n",
        "b = a[:]\n",
        "c = a.copy()\n",
        "a[0] = 10\n",
        "print(\"a: \", a)\n",
        "print(\"b: \", b)\n",
        "print(\"c: \", c)"
      ],
      "metadata": {
        "id": "98qmH-ym8kOl"
      },
      "execution_count": null,
      "outputs": []
    },
    {
      "cell_type": "markdown",
      "source": [
        "## List Comprehension"
      ],
      "metadata": {
        "id": "j6iQMqal9VeM"
      }
    },
    {
      "cell_type": "code",
      "source": [
        "# elevar al cuadrado\n",
        "lista = []\n",
        "\n",
        "for i in range(1, 11):\n",
        "    lista.append(i**2)\n",
        "\n",
        "print(lista)"
      ],
      "metadata": {
        "id": "cYjD7XsLAvGb"
      },
      "execution_count": null,
      "outputs": []
    },
    {
      "cell_type": "code",
      "source": [
        "[i**2 for i in range(1,11)]"
      ],
      "metadata": {
        "id": "FRnTOEUJ9qbW"
      },
      "execution_count": null,
      "outputs": []
    },
    {
      "cell_type": "code",
      "source": [
        "ciudades = ['Madrid', 'Oviedo', 'Sevilla', 'Lugo']\n",
        "[c for c in ciudades if 'a' in c]"
      ],
      "metadata": {
        "id": "96mCK8KuKwvl"
      },
      "execution_count": null,
      "outputs": []
    },
    {
      "cell_type": "markdown",
      "source": [
        "## Matriz de números aleatorios"
      ],
      "metadata": {
        "id": "gnAmMzejP1WL"
      }
    },
    {
      "cell_type": "markdown",
      "source": [
        "### Método 1"
      ],
      "metadata": {
        "id": "CpHAKXR3P6yE"
      }
    },
    {
      "cell_type": "code",
      "source": [
        "from random import randint, seed\n",
        "seed()\n",
        "m = []\n",
        "for i in range(5):\n",
        "    fila = []\n",
        "    for j in range(5):\n",
        "        fila.append(randint(0,9))\n",
        "    m.append(fila)\n",
        "\n",
        "m "
      ],
      "metadata": {
        "id": "MyA1Zn4fP93Y"
      },
      "execution_count": null,
      "outputs": []
    },
    {
      "cell_type": "markdown",
      "source": [
        "### Método 2"
      ],
      "metadata": {
        "id": "PO_xNHHwRSkI"
      }
    },
    {
      "cell_type": "code",
      "source": [
        "[[randint(0,9) for j in range(5)] for i in range(5)]"
      ],
      "metadata": {
        "id": "ax2JgIPcRVE3"
      },
      "execution_count": null,
      "outputs": []
    },
    {
      "cell_type": "markdown",
      "source": [
        "## Convertir una lista en un ndarray usando ```Numpy```"
      ],
      "metadata": {
        "id": "C6jU6RoqStnv"
      }
    },
    {
      "cell_type": "code",
      "source": [
        "import numpy as np\n",
        "\n",
        "lista = [1,2,3,4]\n",
        "vector = np.array(lista)   # convertimos la matriz en un ndarray\n",
        "print(vector)\n",
        "print(lista)"
      ],
      "metadata": {
        "id": "xcxp-bqfS6_T"
      },
      "execution_count": null,
      "outputs": []
    },
    {
      "cell_type": "markdown",
      "source": [
        "## Ventajas de un ndarray frente a una lista\n",
        "La gran ventaja es que con los ndarray se puede operar como si estuviérasmos tratando con vectores de álgebra.  \n",
        "* Se pueden sumar vectores. Si fueran dos listas no se suman, se añaden elementos.\n",
        "* Se pueden multipicar matrices"
      ],
      "metadata": {
        "id": "-lzilw1hTdMG"
      }
    },
    {
      "cell_type": "code",
      "source": [
        "lista1 = [1,2,3]\n",
        "lista2 = [4,5,6]\n",
        "vector1 = np.array(lista1)\n",
        "vector2 = np.array(lista2)\n",
        "print(\"Suma de listas\", lista1 + lista2)\n",
        "print(\"Suma de vectores\", vector1 + vector2)"
      ],
      "metadata": {
        "id": "3A0mTjI0T3SD"
      },
      "execution_count": null,
      "outputs": []
    },
    {
      "cell_type": "code",
      "source": [
        "import numpy as np\n",
        "m = [[1,2,3], [4,5,6], [7,8,9]]\n",
        "b = [1,-2,2]\n",
        "#print(\"El producto con listas da error\", m*b )\n",
        "m = np.array(m)\n",
        "b = np.array(b)\n",
        "print(\"Producto con nd arrays\\n\", np.dot(m,b))   # multiplicación de matrices"
      ],
      "metadata": {
        "id": "3GrdoZOhUmX3"
      },
      "execution_count": null,
      "outputs": []
    },
    {
      "cell_type": "markdown",
      "source": [
        "## Determinante con ```Numpy```"
      ],
      "metadata": {
        "id": "FjdjjNq3bjdj"
      }
    },
    {
      "cell_type": "code",
      "source": [
        "import numpy as np\n",
        "m = [[1,-2,3], [4,5,6], [7,8,0]]\n",
        "np.linalg.det(m)"
      ],
      "metadata": {
        "id": "DA-FtSBNbrBh"
      },
      "execution_count": null,
      "outputs": []
    },
    {
      "cell_type": "markdown",
      "source": [
        "## Típio error de redondeo al operar con números ```float```"
      ],
      "metadata": {
        "id": "yip1-vkdcNkt"
      }
    },
    {
      "cell_type": "code",
      "source": [
        "print(0.1 + 0.1 + 0.1)"
      ],
      "metadata": {
        "id": "1oQeT7e-cE1J"
      },
      "execution_count": null,
      "outputs": []
    },
    {
      "cell_type": "markdown",
      "source": [
        "## Redondear"
      ],
      "metadata": {
        "id": "M3gZK3PLifn9"
      }
    },
    {
      "cell_type": "code",
      "source": [
        "import math\n",
        "print(\"pi: \", math.pi)\n",
        "print(f\"Redondeando: {round(math.pi, 4)}\")"
      ],
      "metadata": {
        "id": "B4lmifYcijml"
      },
      "execution_count": null,
      "outputs": []
    },
    {
      "cell_type": "markdown",
      "source": [
        "## Matriz de números aleatorios con determinante nulo"
      ],
      "metadata": {
        "id": "gc08DyH7cw3J"
      }
    },
    {
      "cell_type": "code",
      "source": [
        "import numpy as np\n",
        "\n",
        "n = 5   # orden nxn de la matriz cuadrada\n",
        "\n",
        "while True:\n",
        "    m = np.random.randint(-9,10, size=(n, n))   # aleatorios enteros entre -9 y +9\n",
        "    determ = np.linalg.det(m)\n",
        "    if determ == 0:\n",
        "        print(m)\n",
        "        break\n",
        "\n",
        "print(f\"El determinante de la matriz es {determ}\")"
      ],
      "metadata": {
        "id": "Wr3XXvpHc3qQ"
      },
      "execution_count": null,
      "outputs": []
    },
    {
      "cell_type": "markdown",
      "source": [
        "## Transponer una matriz con ```NumPy```"
      ],
      "metadata": {
        "id": "rM9eZtGIjrdu"
      }
    },
    {
      "cell_type": "code",
      "source": [
        "import numpy as np\n",
        "m = np.array([[1,2,3],[4,5,6],[7,8,9]])\n",
        "print(\"Matriz:\")\n",
        "print(m)\n",
        "print(\"\\nTasnpuesta:\")\n",
        "print(np.transpose(m))"
      ],
      "metadata": {
        "id": "C5lK5xumj0W0"
      },
      "execution_count": null,
      "outputs": []
    },
    {
      "cell_type": "markdown",
      "source": [
        "## Inversa de una matriz con ```NumPy```"
      ],
      "metadata": {
        "id": "a-_NOsl8k3un"
      }
    },
    {
      "cell_type": "markdown",
      "source": [
        "### Un caso con números bastante redondos"
      ],
      "metadata": {
        "id": "q6P3fyuKpe6t"
      }
    },
    {
      "cell_type": "code",
      "source": [
        "import numpy as np\n",
        "\n",
        "m = np.array([[1,-7, -8], [ 1,-4,-4], [-1,3,3]])\n",
        "print(\"Matriz:\")\n",
        "print(m)\n",
        "print()\n",
        "\n",
        "print(\"Inversa:\")\n",
        "minv = np.linalg.inv(m)\n",
        "print(minv)\n",
        "print()\n",
        "\n",
        "print(\"Matriz Identidad:\")\n",
        "identidad = np.dot(m, minv)   # multiplicación de matrices\n",
        "print(identidad)\n",
        "print()\n",
        "\n",
        "print(\"Matriz Identidad con valores enteros:\")\n",
        "print(identidad.astype(int))   # así forzamos a valores enteros"
      ],
      "metadata": {
        "id": "pvhdVYV1lArO"
      },
      "execution_count": null,
      "outputs": []
    },
    {
      "cell_type": "markdown",
      "source": [
        "### Otro caso con números que arrastran errores de redondeo"
      ],
      "metadata": {
        "id": "zBhms5nEp48K"
      }
    },
    {
      "cell_type": "code",
      "source": [
        "import numpy as np\n",
        "\n",
        "m = np.array([[-5,3,1], [ 2,-2,-1], [ 3,-4,-2]])\n",
        "print(\"Matriz:\")\n",
        "print(m)\n",
        "print()\n",
        "\n",
        "print(\"Inversa:\")\n",
        "minv = np.linalg.inv(m)\n",
        "print(minv)\n",
        "print()\n",
        "\n",
        "print(\"Matriz Identidad:\")\n",
        "identidad = np.dot(m, minv)   #multiplicación de matrices\n",
        "print(identidad)\n",
        "print()\n",
        "\n",
        "print(\"Matriz Identidad con valores enteros:\")\n",
        "identidad = np.around(identidad, 6)\n",
        "print()\n",
        "print(identidad)\n",
        "print(identidad.astype(int))"
      ],
      "metadata": {
        "id": "O0PfbmWAp-P_"
      },
      "execution_count": null,
      "outputs": []
    },
    {
      "cell_type": "markdown",
      "source": [
        "## Multiplicaicón de matrices"
      ],
      "metadata": {
        "id": "JjqN-HyM70z6"
      }
    },
    {
      "cell_type": "code",
      "source": [
        "import numpy as np\n",
        "\n",
        "a = np.random.randint(0, 6, size=(3,3))\n",
        "b = np.random.randint(0, 6, size=(3,3))\n",
        "\n",
        "print(a)\n",
        "print()\n",
        "\n",
        "print(b)\n",
        "print()\n",
        "\n",
        "print(np.dot(a, b))    # Método 1 para multiplicar matrices\n",
        "print()\n",
        "\n",
        "print(np.matmul(a,b))  # Método 2 para multiplicar matrices\n",
        "print()\n",
        "\n",
        "print(a @ b)           # Método 3 para multiplicar matrices\n",
        "print()\n",
        "\n",
        "print(a*b)             # Cuidado!!! esto no es el producto matricial"
      ],
      "metadata": {
        "id": "0NIiU8Wj78Xl"
      },
      "execution_count": null,
      "outputs": []
    }
  ]
}