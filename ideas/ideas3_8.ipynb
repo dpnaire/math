{
  "nbformat": 4,
  "nbformat_minor": 0,
  "metadata": {
    "colab": {
      "provenance": [],
      "authorship_tag": "ABX9TyOWr/yiC9i9Ju6+zIP+qTTx",
      "include_colab_link": true
    },
    "kernelspec": {
      "name": "python3",
      "display_name": "Python 3"
    },
    "language_info": {
      "name": "python"
    }
  },
  "cells": [
    {
      "cell_type": "markdown",
      "metadata": {
        "id": "view-in-github",
        "colab_type": "text"
      },
      "source": [
        "<a href=\"https://colab.research.google.com/github/financieras/math/blob/main/ideas/ideas3_8.ipynb\" target=\"_parent\"><img src=\"https://colab.research.google.com/assets/colab-badge.svg\" alt=\"Open In Colab\"/></a>"
      ]
    },
    {
      "cell_type": "markdown",
      "source": [
        "# Práctica 3.8\n",
        "**Diagonalización con Octave**\n",
        "\n",
        "Resuelva el ejercicio anterior, pero en esta ocasión utilizando Octave."
      ],
      "metadata": {
        "id": "enUGxIUw-hNn"
      }
    },
    {
      "cell_type": "markdown",
      "source": [
        "# Ideas para la resolución de la Práctica 3.8"
      ],
      "metadata": {
        "id": "-yWkZGg3-kR2"
      }
    },
    {
      "cell_type": "markdown",
      "source": [
        "## Trabajando con Octave"
      ],
      "metadata": {
        "id": "FwJzA6Xx_Me9"
      }
    },
    {
      "cell_type": "code",
      "source": [
        "!apt install octave\n",
        "!apt update"
      ],
      "metadata": {
        "id": "ZNmjQ_kL_QZi"
      },
      "execution_count": null,
      "outputs": []
    },
    {
      "cell_type": "code",
      "source": [
        "%%writefile diagonaliza.m\n",
        "A = [3,0,0; 0,2,1; 0,1,2]\n",
        "[P,D]=eig(A)\n",
        "Dcubo = D^3\n",
        "Acubo = A^3\n",
        "PxDcuboXPinv = P*Dcubo*P^-1"
      ],
      "metadata": {
        "colab": {
          "base_uri": "https://localhost:8080/"
        },
        "id": "-KHNWRrQ_ZU0",
        "outputId": "d34567b7-ab5a-4d72-e712-afa80efd23bf"
      },
      "execution_count": 12,
      "outputs": [
        {
          "output_type": "stream",
          "name": "stdout",
          "text": [
            "Overwriting diagonaliza.m\n"
          ]
        }
      ]
    },
    {
      "cell_type": "code",
      "source": [
        "!octave diagonaliza.m"
      ],
      "metadata": {
        "colab": {
          "base_uri": "https://localhost:8080/"
        },
        "id": "CSOGwjVT_cnT",
        "outputId": "792d5285-81d3-487e-eee7-f027940429e6"
      },
      "execution_count": 13,
      "outputs": [
        {
          "output_type": "stream",
          "name": "stdout",
          "text": [
            "octave: X11 DISPLAY environment variable not set\n",
            "octave: disabling GUI features\n",
            "A =\n",
            "\n",
            "   3   0   0\n",
            "   0   2   1\n",
            "   0   1   2\n",
            "\n",
            "P =\n",
            "\n",
            "   0.00000   0.00000   1.00000\n",
            "  -0.70711   0.70711   0.00000\n",
            "   0.70711   0.70711   0.00000\n",
            "\n",
            "D =\n",
            "\n",
            "Diagonal Matrix\n",
            "\n",
            "   1   0   0\n",
            "   0   3   0\n",
            "   0   0   3\n",
            "\n",
            "Dcubo =\n",
            "\n",
            "Diagonal Matrix\n",
            "\n",
            "    1    0    0\n",
            "    0   27    0\n",
            "    0    0   27\n",
            "\n",
            "Acubo =\n",
            "\n",
            "   27    0    0\n",
            "    0   14   13\n",
            "    0   13   14\n",
            "\n",
            "PxDcuboXPinv =\n",
            "\n",
            "   27    0    0\n",
            "    0   14   13\n",
            "    0   13   14\n",
            "\n"
          ]
        }
      ]
    }
  ]
}