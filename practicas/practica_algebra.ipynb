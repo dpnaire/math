{
  "nbformat": 4,
  "nbformat_minor": 0,
  "metadata": {
    "colab": {
      "provenance": [],
      "include_colab_link": true
    },
    "kernelspec": {
      "name": "python3",
      "display_name": "Python 3"
    },
    "language_info": {
      "name": "python"
    }
  },
  "cells": [
    {
      "cell_type": "markdown",
      "metadata": {
        "id": "view-in-github",
        "colab_type": "text"
      },
      "source": [
        "<a href=\"https://colab.research.google.com/github/dpnaire/math/blob/main/practicas/practica_algebra.ipynb\" target=\"_parent\"><img src=\"https://colab.research.google.com/assets/colab-badge.svg\" alt=\"Open In Colab\"/></a>"
      ]
    },
    {
      "cell_type": "markdown",
      "source": [
        "# Práctica 3. Álgebra\n",
        "* Para aprender sobre Python vea la playlist [Python para Matemáticas](https://www.youtube.com/playlist?list=PL8gpDXwO-9l4HkDJ9QhB4H-cOiT0BYGau)\n",
        "* Para obtener ideas y vídeos para la resolución de la práctica vea los archivos siguientes: [Ideas](https://github.com/financieras/math/tree/main/ideas)"
      ],
      "metadata": {
        "id": "b13aYMDxmd7v"
      }
    },
    {
      "cell_type": "markdown",
      "source": [
        "## Práctica 3.4\n",
        "**Matriz inversa en Python**  \n",
        "\n",
        "Desarrolla un código en Python que al ejecutarse consiga los siguientes apartados.  \n",
        "1. Crea una matriz cuadrada de dimensiones 3×3 usando números aleatorios enteros entre -9 y +9, excepto cero\n",
        "2. Buscar un caso donde el determinante sea igual a 1\n",
        "3. Si el determinante es 1 imprime la matriz y su determinante\n",
        "4. Calcula e imprime su transpuesta\n",
        "5. Calcula e imprime su matriz inversa\n",
        "6. Multiplica la matriz creada por su inversa y comprueba que el producto es la matriz identidad.\n",
        "7. Calcula cuantos segundos ha tardado en realizarse el proceso."
      ],
      "metadata": {
        "id": "EMlUZC6Lqzfs"
      }
    },
    {
      "cell_type": "markdown",
      "source": [
        "## Práctica 3.5\n",
        "**Resolución de sistemas lineales en Python**  \n",
        "\n",
        "1. Cree un sistema de 4 ecuaciones con 4 incógnitas con **solución única**.\n",
        "2. La solución del sistema es: $\\; \\begin{pmatrix}x_1, x_2, x_3, x_4\\end{pmatrix} = \\begin{pmatrix} 3, 4, 5, 2\\end{pmatrix}$  \n",
        "3. Una de las ecuaciones del sistema es: $\\enspace x_1+3x_2-x_3-2x_4=6$  \n",
        "4. El vector $b$ de términos independientes es: $\\enspace b=\\begin{pmatrix}6, 3, 5, 7\\end{pmatrix}$  \n",
        "5. Usando números aleatorios elija los coeficientes que faltan de la matriz $A$ del sistema de ecuaciones.\n",
        "  - Los coeficientes deben ser números enteros entre -5 y +5, excluido el cero.\n",
        "  - Imprima la matriz $A$.  \n",
        "6. Calcule e imprima el determinante de $A$.\n",
        "7. Calcule e imprima la matriz inversa $A^{-1}$  \n",
        "8. Resuelva el sistema lineal de ecuaciones con este método: $$Ax=b \\quad \\Longrightarrow \\quad x=A^{-1}b$$\n",
        "9. Compruebe que el resultado obtenido es la solución del sistema de ecuaciones.  \n",
        "10. Resuelva nuevamente el sistema de ecuaciones usando ```np.linalg.solve```."
      ],
      "metadata": {
        "id": "tQQS7GPXIdjH"
      }
    },
    {
      "cell_type": "markdown",
      "source": [
        "## Práctica 3.6\n",
        "**Resolución de sistemas lineales con Octave**  \n",
        "\n",
        "1. Tome el mismo sistema 4x4 con solución única del ejercicio anterior.\n",
        "\n",
        "2. Muestra el sistema usando $\\LaTeX$\n",
        "3. Resuélvelo con Octave por dos métodos\n",
        "4. ¿Ambos métodos dan el mismo resultado?"
      ],
      "metadata": {
        "id": "M39ufifh_Jr8"
      }
    },
    {
      "cell_type": "markdown",
      "source": [
        "## Solución 3.6"
      ],
      "metadata": {
        "id": "57KCqQU9cXhv"
      }
    },
    {
      "cell_type": "markdown",
      "source": [
        "$$\\left.\n",
        "\\begin{align*}\n",
        "2x - 4y +5z -t &= 5 \\\\\n",
        "3x - 4y +4z -2t &= 1 \\\\\n",
        "-x + 5y -5z +t &= -2 \\\\\n",
        "4x - 3y -3z +2t &= -3\n",
        "\\end{align*}\n",
        "\\right\\}$$"
      ],
      "metadata": {
        "id": "pwqHIDY_cU7Z"
      }
    },
    {
      "cell_type": "code",
      "source": [
        "!apt install octave"
      ],
      "metadata": {
        "id": "elsqFOI3dJcm"
      },
      "execution_count": null,
      "outputs": []
    },
    {
      "cell_type": "code",
      "source": [
        "!apt update"
      ],
      "metadata": {
        "id": "8IxhfOT1dcUR"
      },
      "execution_count": null,
      "outputs": []
    },
    {
      "cell_type": "markdown",
      "source": [
        "**MÉTODO 1**"
      ],
      "metadata": {
        "id": "IKdag--7eHrm"
      }
    },
    {
      "cell_type": "code",
      "source": [
        "%%writefile primero.m\n",
        "A = [2 -4 5 -1; 3 -4 4 -2; -1 5 -5 1; 4 -3 -3 2]\n",
        "b = [5; -1; -2; -3]\n",
        "x= inv(A)*b\n",
        "% solución 1, rats expresa los número como fracciones o enteros\n",
        "s1 =rats(x)"
      ],
      "metadata": {
        "id": "XpfWg8zYdy36"
      },
      "execution_count": null,
      "outputs": []
    },
    {
      "cell_type": "code",
      "source": [
        "!octave primero.m"
      ],
      "metadata": {
        "id": "8rzO-C-4eAP5"
      },
      "execution_count": null,
      "outputs": []
    },
    {
      "cell_type": "markdown",
      "source": [
        "**MÉTODO 2**  "
      ],
      "metadata": {
        "id": "9Cgct8sseNNw"
      }
    },
    {
      "cell_type": "code",
      "source": [
        "%%writefile segundo.m\n",
        "A = [2 -4 5 -1; 3 -4 4 -2; -1 5 -5 1; 4 -3 -3 2]\n",
        "b = [5; -1; -2; -3]\n",
        "x = A\\b\n",
        "% solución 3 \n",
        "s3 = rats(x)"
      ],
      "metadata": {
        "id": "Yjk1un5YeSLL"
      },
      "execution_count": null,
      "outputs": []
    },
    {
      "cell_type": "code",
      "source": [
        "!octave segundo.m"
      ],
      "metadata": {
        "id": "6guub74QecQy"
      },
      "execution_count": null,
      "outputs": []
    },
    {
      "cell_type": "markdown",
      "source": [
        "***AMBOS MÉTODOS DAN EL MISMO RESULTADO***"
      ],
      "metadata": {
        "id": "9qYki-20ejum"
      }
    },
    {
      "cell_type": "markdown",
      "source": [
        "## Práctica 3.7\n",
        "**Diagonalización en Python**\n",
        "\n",
        "* Sea la matriz cuadrada $A$ de orden 4x4\n",
        "\n",
        "$$A=\\left(\n",
        "\\begin{array}{rrrr}\n",
        " -1 &-2 &  3 &-1 \\\\\n",
        "  0 & 2 &  0 & 0 \\\\\n",
        "  0 & 0 &  2 & 0 \\\\\n",
        "  0 & 0 &  0 & 1\n",
        "\\end{array}\n",
        "\\right)$$\n",
        "1. Calcula los **autovalores** y **autovectores**\n",
        "2. Calcula y muestra:\n",
        " - la matriz diagonal $D$\n",
        " - la matriz de paso $P$\n",
        " - su inversa $P^{-1}$  \n",
        "3. Comprueba que se cumple que $A^3=PD^3P^{-1}$"
      ],
      "metadata": {
        "id": "KOhR4DdkL7kg"
      }
    },
    {
      "cell_type": "markdown",
      "source": [
        "## Solución 3.7"
      ],
      "metadata": {
        "id": "DYyDYlibfUsu"
      }
    },
    {
      "cell_type": "markdown",
      "source": [
        "**1./2.** Calcula los **autovalores**, **autovectores**, la matriz diagonal $D$, la matriz de paso $P$ y su inversa $P^{-1}$"
      ],
      "metadata": {
        "id": "m0PiKOJvfQeF"
      }
    },
    {
      "cell_type": "code",
      "source": [
        "import numpy as np\n",
        "A = np.array([[-1,-2,3,-1], [0,2,0,0], [0,0,2,0], [0,0,0,1]])\n",
        "d,P = np.linalg.eig(A)\n",
        "print(\"d: \", d)\n",
        "D = np.diag(d)\n",
        "print(\"\\nD:\\n\", D)\n",
        "print(\"\\nP:\\n\", P)"
      ],
      "metadata": {
        "id": "WQZnC5JMfdn_",
        "outputId": "3d19eeed-76a2-42d2-bb9a-41f8b7e144a1",
        "colab": {
          "base_uri": "https://localhost:8080/"
        }
      },
      "execution_count": 62,
      "outputs": [
        {
          "output_type": "stream",
          "name": "stdout",
          "text": [
            "d:  [-1.  2.  2.  1.]\n",
            "\n",
            "D:\n",
            " [[-1.  0.  0.  0.]\n",
            " [ 0.  2.  0.  0.]\n",
            " [ 0.  0.  2.  0.]\n",
            " [ 0.  0.  0.  1.]]\n",
            "\n",
            "P:\n",
            " [[ 1.         -0.5547002   0.70710678 -0.4472136 ]\n",
            " [ 0.          0.83205029  0.          0.        ]\n",
            " [ 0.          0.          0.70710678  0.        ]\n",
            " [ 0.          0.          0.          0.89442719]]\n"
          ]
        }
      ]
    },
    {
      "cell_type": "markdown",
      "source": [
        "$A^3=PD^3P^{-1}$"
      ],
      "metadata": {
        "id": "2hpVdZMriJBB"
      }
    },
    {
      "cell_type": "code",
      "source": [
        "import numpy as np\n",
        "A = np.array([[-1,-2,3,-1], [0,2,0,0], [0,0,2,0], [0,0,0,1]])\n",
        "print(A@A@A)"
      ],
      "metadata": {
        "id": "IiBT-gcdiDPV",
        "outputId": "6fc709ee-cf5e-4b1c-f15e-4bd96751d57e",
        "colab": {
          "base_uri": "https://localhost:8080/"
        }
      },
      "execution_count": 63,
      "outputs": [
        {
          "output_type": "stream",
          "name": "stdout",
          "text": [
            "[[-1 -6  9 -1]\n",
            " [ 0  8  0  0]\n",
            " [ 0  0  8  0]\n",
            " [ 0  0  0  1]]\n"
          ]
        }
      ]
    },
    {
      "cell_type": "code",
      "source": [
        "import numpy as np\n",
        "A = np.array([[-1,-2,3,-1], [0,2,0,0], [0,0,2,0], [0,0,0,1]])\n",
        "d,P = np.linalg.eig(A)\n",
        "print(\"d: \", d)\n",
        "D = np.diag(d)\n",
        "print(\"\\nD:\\n\", D)\n",
        "print(\"\\nP:\\n\", P)\n",
        "Dcubo = D @ D @ D\n",
        "print(\"\\nDcubo:\\n\", Dcubo)\n",
        "print(\"\\nSolución:\\n\", P @ Dcubo @ np.linalg.inv(P))"
      ],
      "metadata": {
        "id": "QNPL-f81iuEp"
      },
      "execution_count": null,
      "outputs": []
    },
    {
      "cell_type": "markdown",
      "source": [
        "***SON COINCIDENTES***"
      ],
      "metadata": {
        "id": "pmNXobMei5cn"
      }
    },
    {
      "cell_type": "markdown",
      "source": [
        "## Práctica 3.8\n",
        "**Diagonalización con Octave**\n",
        "\n",
        "Resuelva el ejercicio anterior, pero en esta ocasión utilizando Octave."
      ],
      "metadata": {
        "id": "tqHIq-of_N_v"
      }
    },
    {
      "cell_type": "markdown",
      "source": [
        "## Solución 3.8"
      ],
      "metadata": {
        "id": "6ArKr9qqjR9h"
      }
    },
    {
      "cell_type": "code",
      "source": [
        "!apt install octave"
      ],
      "metadata": {
        "id": "rTVKUUSGjcu9"
      },
      "execution_count": null,
      "outputs": []
    },
    {
      "cell_type": "code",
      "source": [
        "!apt update"
      ],
      "metadata": {
        "id": "k2aiEqIrjVP4"
      },
      "execution_count": null,
      "outputs": []
    },
    {
      "cell_type": "markdown",
      "source": [
        "1./2. Calcula los autovalores, autovectores, la matriz diagonal  D , la matriz de paso  P  y su inversa  P−1"
      ],
      "metadata": {
        "id": "HXcJd1W3kLOM"
      }
    },
    {
      "cell_type": "code",
      "source": [
        "%%writefile diagonaliza.m\n",
        "A = [-1,-2,3,-1; 0,2,0,0; 0,0,2,0; 0,0,0,1]\n",
        "[P,D]=eig(A)\n",
        "Pinv = P^-1"
      ],
      "metadata": {
        "id": "zYjEjb2PjkXZ",
        "outputId": "26480ee9-5a72-4596-801e-6ece15973fb0",
        "colab": {
          "base_uri": "https://localhost:8080/"
        }
      },
      "execution_count": 71,
      "outputs": [
        {
          "output_type": "stream",
          "name": "stdout",
          "text": [
            "Overwriting diagonaliza.m\n"
          ]
        }
      ]
    },
    {
      "cell_type": "code",
      "source": [
        "!octave diagonaliza.m"
      ],
      "metadata": {
        "id": "O3REd4Ulj5uf"
      },
      "execution_count": null,
      "outputs": []
    },
    {
      "cell_type": "markdown",
      "source": [
        "$A^3=PD^3P^{-1}$"
      ],
      "metadata": {
        "id": "bp7557fUkbCy"
      }
    },
    {
      "cell_type": "code",
      "source": [
        "%%writefile diagonaliza.m\n",
        "A = [-3,2,0,0; -3,4,0,0; 0,0,-5,-4; 0,0,-2,2]\n",
        "[P,D]=eig(A)\n",
        "Dcubo = D^3\n",
        "Acubo = A^3\n",
        "PxDcuboXPinv = P*Dcubo*P^-1"
      ],
      "metadata": {
        "id": "qFe9nGL-kecE",
        "outputId": "1922d79c-ad5e-48f2-df0f-65ad60583bc4",
        "colab": {
          "base_uri": "https://localhost:8080/"
        }
      },
      "execution_count": 77,
      "outputs": [
        {
          "output_type": "stream",
          "name": "stdout",
          "text": [
            "Overwriting diagonaliza.m\n"
          ]
        }
      ]
    },
    {
      "cell_type": "code",
      "source": [
        "!octave diagonaliza.m"
      ],
      "metadata": {
        "id": "FGPlINFKkjpu"
      },
      "execution_count": null,
      "outputs": []
    },
    {
      "cell_type": "markdown",
      "source": [
        "***SON COINCIDENTES***"
      ],
      "metadata": {
        "id": "6myVURsDk0QF"
      }
    },
    {
      "cell_type": "markdown",
      "source": [
        "## Práctica 3.9\n",
        "**Libertad para elegir el lugar de trabajo**  \n",
        "Resolver con **Octave**.\n",
        "\n",
        "Una empresa de 1.000 empleados permite que sus trabajadores cada día acudan a trabajar a la oficina o que realicen su trabajo desde su casa. Inicialmente el 90% de la plantilla trabajaba en la oficina y solo el 10% lo hacían en casa. Se ha observado que los que un día trabajan en casa tienen una probabilidad del 70% de realizarlo también desde casa al día siguiente, pero que en el restante 30% de los casos acuden a la oficina al día siguiente. Por el contrario, se ha observado que los que un día trabajaron en la oficina al día siguiente vuelven\n",
        "a la oficina en el 60% de los casos y en el 40% restante van a su casa al día siguiente.\n",
        "* Determinar qué número de empleados se quedan en casa transcurridos dos días.\n",
        "* ¿Y a largo plazo cuantos se quedan en casa?"
      ],
      "metadata": {
        "id": "Aw283nkjdtcQ"
      }
    },
    {
      "cell_type": "markdown",
      "source": [
        "## Solución 3.9"
      ],
      "metadata": {
        "id": "zoTpe0XjlMPO"
      }
    },
    {
      "cell_type": "code",
      "source": [
        "!apt install octave"
      ],
      "metadata": {
        "id": "z5kuhZXslPju"
      },
      "execution_count": null,
      "outputs": []
    },
    {
      "cell_type": "code",
      "source": [
        "!apt update"
      ],
      "metadata": {
        "id": "jaIanQMylVG_"
      },
      "execution_count": null,
      "outputs": []
    },
    {
      "cell_type": "markdown",
      "source": [
        "* Determinar qué número de empleados se quedan en casa transcurridos dos días."
      ],
      "metadata": {
        "id": "4_Y_3_LqlWBK"
      }
    },
    {
      "cell_type": "code",
      "source": [
        "%%writefile proceso.m\n",
        "empleados = 1000\n",
        "% state vector\n",
        "inicial = [.9; .1]\n",
        "% transition probability matrix\n",
        "A = [.6, .3; .4, .7]\n",
        "[P,D]=eig(A)\n",
        "Dcuadrado = D^2\n",
        "Acuadrado = A^2\n",
        "PxDcuadradoXPinv = P*Dcuadrado*P^-1\n",
        "dia2 = Acuadrado * inicial\n",
        "disp(\"Nº de empleados que se quedan en casa el segundo día: \"), disp(dia2(2)*empleados)"
      ],
      "metadata": {
        "id": "Vw_pEI7PlfS9",
        "outputId": "0ecc86ce-b6a9-4a3c-fd5a-7c539f57e067",
        "colab": {
          "base_uri": "https://localhost:8080/"
        }
      },
      "execution_count": 81,
      "outputs": [
        {
          "output_type": "stream",
          "name": "stdout",
          "text": [
            "Overwriting proceso.m\n"
          ]
        }
      ]
    },
    {
      "cell_type": "code",
      "source": [
        "!octave proceso.m"
      ],
      "metadata": {
        "id": "_HfIuenNlinR"
      },
      "execution_count": null,
      "outputs": []
    },
    {
      "cell_type": "markdown",
      "source": [
        "* ¿Y a largo plazo cuantos se quedan en casa?"
      ],
      "metadata": {
        "id": "vYpShopxlYzY"
      }
    },
    {
      "cell_type": "code",
      "source": [
        "%%writefile proceso.m\n",
        "empleados = 1000\n",
        "% state vector\n",
        "inicial = [.9; .1]\n",
        "% transition probability matrix\n",
        "A = [.6, .3; .4, .7]\n",
        "[P,D]=eig(A)\n",
        "D10 = D^10\n",
        "A10 = P*D10*P^-1\n",
        "dia10 = A10 * inicial\n",
        "disp(\"Nº de empleados que se quedan en casa a largo plazo son: \"), disp(dia10(2)*empleados)"
      ],
      "metadata": {
        "id": "z6XgsB2klzS4",
        "outputId": "030efe9a-a0c0-419f-8ce2-388fbbab4818",
        "colab": {
          "base_uri": "https://localhost:8080/"
        }
      },
      "execution_count": 83,
      "outputs": [
        {
          "output_type": "stream",
          "name": "stdout",
          "text": [
            "Overwriting proceso.m\n"
          ]
        }
      ]
    },
    {
      "cell_type": "code",
      "source": [
        "!octave proceso.m"
      ],
      "metadata": {
        "id": "mElo4LiYmICc",
        "outputId": "be9253b7-b036-49a0-942c-a85b4964a41e",
        "colab": {
          "base_uri": "https://localhost:8080/"
        }
      },
      "execution_count": 84,
      "outputs": [
        {
          "output_type": "stream",
          "name": "stdout",
          "text": [
            "octave: X11 DISPLAY environment variable not set\n",
            "octave: disabling GUI features\n",
            "empleados =  1000\n",
            "inicial =\n",
            "\n",
            "   0.90000\n",
            "   0.10000\n",
            "\n",
            "A =\n",
            "\n",
            "   0.60000   0.30000\n",
            "   0.40000   0.70000\n",
            "\n",
            "P =\n",
            "\n",
            "  -0.70711  -0.60000\n",
            "   0.70711  -0.80000\n",
            "\n",
            "D =\n",
            "\n",
            "Diagonal Matrix\n",
            "\n",
            "   0.30000         0\n",
            "         0   1.00000\n",
            "\n",
            "D10 =\n",
            "\n",
            "Diagonal Matrix\n",
            "\n",
            "   5.9049e-06            0\n",
            "            0   1.0000e+00\n",
            "\n",
            "A10 =\n",
            "\n",
            "   0.42857   0.42857\n",
            "   0.57143   0.57143\n",
            "\n",
            "dia10 =\n",
            "\n",
            "   0.42857\n",
            "   0.57143\n",
            "\n",
            "Nº de empleados que se quedan en casa a largo plazo son: \n",
            " 571.43\n"
          ]
        }
      ]
    },
    {
      "cell_type": "markdown",
      "source": [
        "## Práctica 3.10\n",
        "**Tendencia del mercado**  \n",
        "Resolver con **Python**.\n",
        "\n",
        "En el mercado de automóviles de gran lujo únicamente se disputan la clientela dos marcas (A y B). Las ventas son $M=100.000$ automóviles anuales, no variando esta cifra con el transcurso de los años. La marca A es líder de mercado en este momento con el 75% de las ventas. Sus directivos desean consolidar su liderazgo e incluso aumentarlo, para lo cual todos los años efectúan una fuerte campaña publicitaria con la que consiguen cada año un 40% de los que fueron clientes de su competidora, aunque la empresa A pierde un 20% de sus clientes que se van a la competencia.\n",
        "* ¿Cuál es la situación a los 3 años?\n",
        "* ¿Y al cabo de mucho tiempo?"
      ],
      "metadata": {
        "id": "lllngWn__QP0"
      }
    },
    {
      "cell_type": "markdown",
      "source": [
        "## Solución 3.10"
      ],
      "metadata": {
        "id": "smL61NM9mm2U"
      }
    },
    {
      "cell_type": "markdown",
      "source": [
        "* ¿Cuál es la situación a los 3 años?"
      ],
      "metadata": {
        "id": "OLLFy8oxmitS"
      }
    },
    {
      "cell_type": "code",
      "source": [
        "import numpy as np\n",
        "\n",
        "X0 = np.array([.75, .25])\n",
        "A = np.array([[.8, .4], [.2 ,.6]])\n",
        "X3 = A@A@A@X0\n",
        "print(\"Situación a los tres años:\", X3)"
      ],
      "metadata": {
        "id": "hYJt_noVmxIR",
        "outputId": "06133a4e-d296-454a-da74-cfb90e7a8384",
        "colab": {
          "base_uri": "https://localhost:8080/"
        }
      },
      "execution_count": 88,
      "outputs": [
        {
          "output_type": "stream",
          "name": "stdout",
          "text": [
            "Situación a los tres años: [0.672 0.328]\n"
          ]
        }
      ]
    },
    {
      "cell_type": "markdown",
      "source": [
        "* ¿Y al cabo de mucho tiempo?"
      ],
      "metadata": {
        "id": "-vomOyxumjoV"
      }
    },
    {
      "cell_type": "code",
      "source": [
        "import numpy as np\n",
        "\n",
        "X0 = np.array([.75, .25])\n",
        "A = np.array([[.8, .4], [.2 ,.6]])\n",
        "\n",
        "d,P = np.linalg.eig(A)\n",
        "D = np.diag(d)\n",
        "Pinv = np.linalg.inv(P)\n",
        "A10 = P@(D**10)@Pinv\n",
        "X10 = A10@X0\n",
        "print(\"Situación a los diez años:\", X10)\n",
        "print(\"Situación a los veinte años:\", P@(D**20)@Pinv@X0)"
      ],
      "metadata": {
        "id": "l5tEDK9nm41r",
        "outputId": "52a53727-016d-48dc-d9ca-23ace5e76f69",
        "colab": {
          "base_uri": "https://localhost:8080/"
        }
      },
      "execution_count": 97,
      "outputs": [
        {
          "output_type": "stream",
          "name": "stdout",
          "text": [
            "Situación a los diez años: [0.6666754 0.3333246]\n",
            "Situación a los veinte años: [0.66666667 0.33333333]\n"
          ]
        }
      ]
    }
  ]
}