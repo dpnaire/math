{
  "nbformat": 4,
  "nbformat_minor": 0,
  "metadata": {
    "colab": {
      "provenance": [],
      "include_colab_link": true
    },
    "kernelspec": {
      "name": "python3",
      "display_name": "Python 3"
    },
    "language_info": {
      "name": "python"
    }
  },
  "cells": [
    {
      "cell_type": "markdown",
      "metadata": {
        "id": "view-in-github",
        "colab_type": "text"
      },
      "source": [
        "<a href=\"https://colab.research.google.com/github/financieras/math/blob/main/matematicas/combinatoria/CARMEN_CARRASCO_SARDINERO.ipynb\" target=\"_parent\"><img src=\"https://colab.research.google.com/assets/colab-badge.svg\" alt=\"Open In Colab\"/></a>"
      ]
    },
    {
      "cell_type": "markdown",
      "source": [
        "# Práctica 1. Combinatoria\n",
        "Resuelva los siguientes apartados de la práctica.  \n",
        "La práctica 1.1 se proporciona solucionada para que pueda servir como ejemplo.\n"
      ],
      "metadata": {
        "id": "VP-PLgSCPtPC"
      }
    },
    {
      "cell_type": "markdown",
      "source": [
        "## Práctica 1.1\n",
        "Cuatro amigos:\n",
        "* Antonio (A)\n",
        "* Begoña (B)\n",
        "* Cesar (C)\n",
        "* Diana (D)\n",
        "\n",
        "constituyen una asociación y tienen que asignar los siguientes cargos:\n",
        "* Presiente (1)\n",
        "* Vicepresidente (2)\n",
        "* Secretario (3)\n",
        "* Tesorero (4)\n",
        "\n",
        "Se pide:\n",
        "1. Escribiendo la solución en una celda de Markdown analice el caso indicando si se trata de variaciones, permutaciones o combinaciones, con o sin repetición o el caso que sea, y el motivo para clasificar el caso de esta forma.\n",
        "2. Utilizando fórmulas de $\\LaTeX$ calcule cuántos casos existen.\n",
        "3. Cree un programa en Python para calcule cuántos casos existen.\n",
        "4. Cree un programa en Python para imprimir todas las posibilidades y numérelas. Por ejemplo:\n",
        "    - 1 ABCD\n",
        "    - 2 ABDC\n",
        "    - 3 ACBD\n",
        "    - ... ... ..."
      ],
      "metadata": {
        "id": "6oyoxqfbQJDC"
      }
    },
    {
      "cell_type": "markdown",
      "source": [
        "### Solución 1.1\n",
        "* Estamos ante un caso de **permutaciones sin repetición** ya que:\n",
        " - El orden importa, no es lo mismo estar el nº1 que significa ser presidente que el nº 4 que corresponde al tesorero.\n",
        " - Intervienen todos. Son 4 amigos para 4 cargos, todos tienen cargo, lo que cambiar es el orden, esto es, el cargo que obtengan.\n",
        " - No se repiten elementos. Una persona no puede tener dos cargos simultaneamente.\n",
        "* Los casos que se obtienen con las permutaciones sin repetición son $P_{n}=n!$ que para este ejemplo son:\n",
        "\n",
        "$$P_{4}=4!=4 \\cdot 3 \\cdot 2 \\cdot 1 = 24$$"
      ],
      "metadata": {
        "id": "t5unIqR7jdZR"
      }
    },
    {
      "cell_type": "code",
      "source": [
        "import math\n",
        "p = math.factorial(4)\n",
        "print(\"Los casos son: \", p)\n",
        "print(\"Comprobación:  \", 4*3*2*1)"
      ],
      "metadata": {
        "id": "va3_l_-hmFS-",
        "outputId": "cf719ed1-1588-42ba-cab5-85977012ab0d",
        "colab": {
          "base_uri": "https://localhost:8080/"
        }
      },
      "execution_count": null,
      "outputs": [
        {
          "output_type": "stream",
          "name": "stdout",
          "text": [
            "Los casos son:  24\n",
            "Comprobación:   24\n"
          ]
        }
      ]
    },
    {
      "cell_type": "markdown",
      "source": [
        "#### Método 1\n",
        "Sin usar librería."
      ],
      "metadata": {
        "id": "kOM3pEAGnh8v"
      }
    },
    {
      "cell_type": "code",
      "source": [
        "lista = ['A', 'B', 'C', 'D']\n",
        "contador = 1\n",
        "\n",
        "for i in lista:\n",
        "    for j in lista:\n",
        "        for k in lista:\n",
        "            for l in lista:\n",
        "                if i != j and i != k and i != l and j != k and j != l and k != l:\n",
        "                    print(f\"{contador:2d} →  {i+j+k+l}\")\n",
        "                    contador += 1"
      ],
      "metadata": {
        "id": "5--ZpSoJncj3",
        "colab": {
          "base_uri": "https://localhost:8080/"
        },
        "outputId": "4213df38-5c37-4d1c-bd3d-8140bc598563"
      },
      "execution_count": null,
      "outputs": [
        {
          "output_type": "stream",
          "name": "stdout",
          "text": [
            " 1 →  ABCD\n",
            " 2 →  ABDC\n",
            " 3 →  ACBD\n",
            " 4 →  ACDB\n",
            " 5 →  ADBC\n",
            " 6 →  ADCB\n",
            " 7 →  BACD\n",
            " 8 →  BADC\n",
            " 9 →  BCAD\n",
            "10 →  BCDA\n",
            "11 →  BDAC\n",
            "12 →  BDCA\n",
            "13 →  CABD\n",
            "14 →  CADB\n",
            "15 →  CBAD\n",
            "16 →  CBDA\n",
            "17 →  CDAB\n",
            "18 →  CDBA\n",
            "19 →  DABC\n",
            "20 →  DACB\n",
            "21 →  DBAC\n",
            "22 →  DBCA\n",
            "23 →  DCAB\n",
            "24 →  DCBA\n"
          ]
        }
      ]
    },
    {
      "cell_type": "markdown",
      "source": [
        "#### Método 2\n",
        "* Usamos la función `permutations` de la librería `intertools`.\n",
        "* Imprimimos todas las permutaciones de los elementos de una lista."
      ],
      "metadata": {
        "id": "2PoCD5GlnwS1"
      }
    },
    {
      "cell_type": "code",
      "source": [
        "from itertools import permutations\n",
        "\n",
        "perm = permutations(['A','B','C','D'])   # obtenemos todas las permutaciones de la lista \n",
        "\n",
        "for i in list(perm):                     # imprimimos todas las permutaciones \n",
        "    print (*i)                           # con el asterisco se muestran las listas sin corchetes ni comas"
      ],
      "metadata": {
        "id": "eKkB1gQnn6_P",
        "outputId": "7e3f2450-c81f-4df6-95c4-d64ac9513cd1",
        "colab": {
          "base_uri": "https://localhost:8080/"
        }
      },
      "execution_count": null,
      "outputs": [
        {
          "output_type": "stream",
          "name": "stdout",
          "text": [
            "A B C D\n",
            "A B D C\n",
            "A C B D\n",
            "A C D B\n",
            "A D B C\n",
            "A D C B\n",
            "B A C D\n",
            "B A D C\n",
            "B C A D\n",
            "B C D A\n",
            "B D A C\n",
            "B D C A\n",
            "C A B D\n",
            "C A D B\n",
            "C B A D\n",
            "C B D A\n",
            "C D A B\n",
            "C D B A\n",
            "D A B C\n",
            "D A C B\n",
            "D B A C\n",
            "D B C A\n",
            "D C A B\n",
            "D C B A\n"
          ]
        }
      ]
    },
    {
      "cell_type": "markdown",
      "source": [
        "## Práctica 1.2\n",
        "Cuatro amigos:\n",
        "* Antonio (A)\n",
        "* Begoña (B)\n",
        "* Cesar (C)\n",
        "* Diana (D)\n",
        "\n",
        "constituyen una asociación y tienen que asignar los siguientes cargos:\n",
        "* Presiente (1)\n",
        "* Secretario (3)\n",
        "* Tesorero (4)\n",
        "\n",
        "Se pide:\n",
        "1. Escribiendo la solución en una celda de Markdown analice el caso indicando si se trata de variaciones, permutaciones o combinaciones, con o sin repetición o el caso que sea, y el motivo para clasificar el caso de esta forma.\n",
        "2. Utilizando fórmulas de $\\LaTeX$ calcule cuántos casos existen.\n",
        "3. Cree un programa en Python para calcule cuántos casos existen.\n",
        "4. Cree un programa en Python para imprimir todas las posibilidades y numérelas. Por ejemplo:\n",
        "    - 1 ABC\n",
        "    - 2 ABD\n",
        "    - 3 ACB\n",
        "    - ... ... ..."
      ],
      "metadata": {
        "id": "sxSuCpAFSBPJ"
      }
    },
    {
      "cell_type": "markdown",
      "source": [
        "### Solución 1.2"
      ],
      "metadata": {
        "id": "xx9qsw_ej9Pd"
      }
    },
    {
      "cell_type": "markdown",
      "source": [
        "Estamos ante un caso de **variaciones sin repetición**, porque:\n",
        "* Importa el orden, el cargo será diferente en función del puesto en el que estén.\n",
        "* No intervienen todos los amigos, son 4 y hay 3 cargos.\n",
        "* No hay repetición, una persona no puede desempeñar dos cargos.\n",
        "El número de casos que existen en una variación sin repetición es:\n",
        "$$V = n \\cdot (n-1) \\cdot (n-2) \\cdot\\cdot\\cdot (n-k-1) =  n!/(n-k)!$$\n"
      ],
      "metadata": {
        "id": "5guqFDwM7OOa"
      }
    },
    {
      "cell_type": "code",
      "source": [
        "import math\n",
        "n = 4\n",
        "k = 3\n",
        "v = math.factorial(n)/math.factorial(n-k)\n",
        "print(\"los casos son \", v)"
      ],
      "metadata": {
        "id": "MdQbdE_iHBpi",
        "colab": {
          "base_uri": "https://localhost:8080/"
        },
        "outputId": "c970a42c-2022-41b3-bb94-73b2afbede9b"
      },
      "execution_count": null,
      "outputs": [
        {
          "output_type": "stream",
          "name": "stdout",
          "text": [
            "los casos son  24.0\n"
          ]
        }
      ]
    },
    {
      "cell_type": "code",
      "source": [
        "lista = ['A', 'B', 'C', 'D']\n",
        "contador = 1\n",
        "for i in lista:\n",
        "    for j in lista:\n",
        "        for k in lista:\n",
        "                if i != j and i != k and j !=k:\n",
        "                    print(f\"{contador:2d} →  {i+j+k}\")\n",
        "                    contador += 1"
      ],
      "metadata": {
        "colab": {
          "base_uri": "https://localhost:8080/"
        },
        "id": "ZTu4CSfPAuqc",
        "outputId": "ee45218d-6efe-405d-de5a-dee03cf96a7f"
      },
      "execution_count": null,
      "outputs": [
        {
          "output_type": "stream",
          "name": "stdout",
          "text": [
            " 1 →  ABC\n",
            " 2 →  ABD\n",
            " 3 →  ACB\n",
            " 4 →  ACD\n",
            " 5 →  ADB\n",
            " 6 →  ADC\n",
            " 7 →  BAC\n",
            " 8 →  BAD\n",
            " 9 →  BCA\n",
            "10 →  BCD\n",
            "11 →  BDA\n",
            "12 →  BDC\n",
            "13 →  CAB\n",
            "14 →  CAD\n",
            "15 →  CBA\n",
            "16 →  CBD\n",
            "17 →  CDA\n",
            "18 →  CDB\n",
            "19 →  DAB\n",
            "20 →  DAC\n",
            "21 →  DBA\n",
            "22 →  DBC\n",
            "23 →  DCA\n",
            "24 →  DCB\n"
          ]
        }
      ]
    },
    {
      "cell_type": "markdown",
      "source": [
        "## Práctica 1.3\n",
        "Invente un caso de **variaciones sin repetición**.\n",
        "Se pide contestar a los mismos puntos que el caso anterior."
      ],
      "metadata": {
        "id": "D0S1DjF4MKmz"
      }
    },
    {
      "cell_type": "markdown",
      "source": [
        "Tiene lugar una competición de natación con 5 participantes. Hay dos premios, oro para el primero en terminar y plata para el segundo. Los tres concursantes restantes no obtendrán premio.\n",
        "Participantes:\n",
        "* María (A)\n",
        "* Juan (B)\n",
        "* Claudia (C)\n",
        "* Marta (D)\n",
        "* David (E)\n",
        "\n",
        "Premios\n",
        "* Oro (1)\n",
        "* Plata (2)\n",
        "\n",
        "Se pide:\n",
        "1. Escribiendo la solución en una celda de Markdown analice el caso indicando si se trata de variaciones, permutaciones o combinaciones, con o sin repetición o el caso que sea, y el motivo para clasificar el caso de esta forma.\n",
        "2. Utilizando fórmulas de $\\LaTeX$ calcule cuántos casos existen.\n",
        "3. Cree un programa en Python para calcule cuántos casos existen.\n",
        "4. Cree un programa en Python para imprimir todas las posibilidades y numérelas."
      ],
      "metadata": {
        "id": "-yWgMc1Hf-8B"
      }
    },
    {
      "cell_type": "markdown",
      "source": [],
      "metadata": {
        "id": "lArLcjsvBwuk"
      }
    },
    {
      "cell_type": "markdown",
      "source": [
        "### Solución 1.3"
      ],
      "metadata": {
        "id": "AfyuPIASj_20"
      }
    },
    {
      "cell_type": "markdown",
      "source": [
        "Es una variación sin repetición porque:\n",
        "* Importa el orden, el premio será diferente.\n",
        "* No todos los concursantes tienen premio.\n",
        "* No hay repetición, la misma persona no puede tener dos premios.\n",
        "$$V = n \\cdot (n-1) \\cdot (n-2) \\cdot\\cdot\\cdot (n-k-1) =  n!/(n-k)!$$"
      ],
      "metadata": {
        "id": "jrTEBcwjhde3"
      }
    },
    {
      "cell_type": "code",
      "source": [
        "import math\n",
        "n = 5\n",
        "k = 2\n",
        "v = math.factorial(n)/math.factorial(n-k)\n",
        "print(\"los casos son \", v)"
      ],
      "metadata": {
        "colab": {
          "base_uri": "https://localhost:8080/"
        },
        "id": "DzmbFNOIhckx",
        "outputId": "1c562a2c-84fc-42d0-dbda-6bc901e7d91b"
      },
      "execution_count": null,
      "outputs": [
        {
          "output_type": "stream",
          "name": "stdout",
          "text": [
            "los casos son  20.0\n"
          ]
        }
      ]
    },
    {
      "cell_type": "code",
      "source": [
        "lista = ['A', 'B', 'C', 'D', 'E']\n",
        "contador = 1\n",
        "\n",
        "for i in lista:\n",
        "    for j in lista:\n",
        "                if i != j:\n",
        "                    print(f\"{contador:2d} →  {i+j}\")\n",
        "                    contador += 1"
      ],
      "metadata": {
        "colab": {
          "base_uri": "https://localhost:8080/"
        },
        "id": "fkO-gkw8iatI",
        "outputId": "2eb19333-cd16-4895-fc18-3645017fb257"
      },
      "execution_count": null,
      "outputs": [
        {
          "output_type": "stream",
          "name": "stdout",
          "text": [
            " 1 →  AB\n",
            " 2 →  AC\n",
            " 3 →  AD\n",
            " 4 →  AE\n",
            " 5 →  BA\n",
            " 6 →  BC\n",
            " 7 →  BD\n",
            " 8 →  BE\n",
            " 9 →  CA\n",
            "10 →  CB\n",
            "11 →  CD\n",
            "12 →  CE\n",
            "13 →  DA\n",
            "14 →  DB\n",
            "15 →  DC\n",
            "16 →  DE\n",
            "17 →  EA\n",
            "18 →  EB\n",
            "19 →  EC\n",
            "20 →  ED\n"
          ]
        }
      ]
    },
    {
      "cell_type": "markdown",
      "source": [
        "## Práctica 1.4\n",
        "Invente un caso de **variaciones con repetición**.\n",
        "Se pide contestar a los mismos puntos que el caso anterior."
      ],
      "metadata": {
        "id": "gvlnqCaRMTua"
      }
    },
    {
      "cell_type": "markdown",
      "source": [
        "### Solución 1.4"
      ],
      "metadata": {
        "id": "hzvsgRDbkCy1"
      }
    },
    {
      "cell_type": "code",
      "source": [
        "import itertools\n",
        "def variaciones_con_repeticion (n,seq):\n",
        "  contador = 0\n",
        "  for p in itertools.product (seq,repeat = n):\n",
        "    contador += 1\n",
        "    print (contador,\"\".join(p))\n",
        "secuencia = 'ABCD'\n",
        "m = len (secuencia)\n",
        "n = 3\n",
        "variaciones_con_repeticion (n,secuencia)\n",
        "\n",
        "print(f\"El número de variaciones con repetición de {m} elementos tomados de {n} en {n} son {m**n}.\")"
      ],
      "metadata": {
        "colab": {
          "base_uri": "https://localhost:8080/"
        },
        "id": "_C7VEnTjfIVB",
        "outputId": "eaca2425-0238-4ef0-ff38-83b2a0a937a6"
      },
      "execution_count": null,
      "outputs": [
        {
          "output_type": "stream",
          "name": "stdout",
          "text": [
            "1 AAA\n",
            "2 AAB\n",
            "3 AAC\n",
            "4 AAD\n",
            "5 ABA\n",
            "6 ABB\n",
            "7 ABC\n",
            "8 ABD\n",
            "9 ACA\n",
            "10 ACB\n",
            "11 ACC\n",
            "12 ACD\n",
            "13 ADA\n",
            "14 ADB\n",
            "15 ADC\n",
            "16 ADD\n",
            "17 BAA\n",
            "18 BAB\n",
            "19 BAC\n",
            "20 BAD\n",
            "21 BBA\n",
            "22 BBB\n",
            "23 BBC\n",
            "24 BBD\n",
            "25 BCA\n",
            "26 BCB\n",
            "27 BCC\n",
            "28 BCD\n",
            "29 BDA\n",
            "30 BDB\n",
            "31 BDC\n",
            "32 BDD\n",
            "33 CAA\n",
            "34 CAB\n",
            "35 CAC\n",
            "36 CAD\n",
            "37 CBA\n",
            "38 CBB\n",
            "39 CBC\n",
            "40 CBD\n",
            "41 CCA\n",
            "42 CCB\n",
            "43 CCC\n",
            "44 CCD\n",
            "45 CDA\n",
            "46 CDB\n",
            "47 CDC\n",
            "48 CDD\n",
            "49 DAA\n",
            "50 DAB\n",
            "51 DAC\n",
            "52 DAD\n",
            "53 DBA\n",
            "54 DBB\n",
            "55 DBC\n",
            "56 DBD\n",
            "57 DCA\n",
            "58 DCB\n",
            "59 DCC\n",
            "60 DCD\n",
            "61 DDA\n",
            "62 DDB\n",
            "63 DDC\n",
            "64 DDD\n",
            "El número de variaciones con repetición de 4 elementos tomados de 3 en 3 son 64.\n"
          ]
        }
      ]
    },
    {
      "cell_type": "markdown",
      "source": [
        "## Práctica 1.5\n",
        "Invente un caso de **permutaciones sin repetición**.\n",
        "Se pide contestar a los mismos puntos que el caso anterior."
      ],
      "metadata": {
        "id": "0OCAC-I-G5F6"
      }
    },
    {
      "cell_type": "markdown",
      "source": [
        "Tiene lugar una competición de natación con 3 participantes. Hay tres premios, oro para el primero en terminar, plata para el segundo y bronce para el tercero. Participantes:\n",
        "\n",
        "* María (A)\n",
        "* Juan (B)\n",
        "* Claudia (C)\n",
        "\n",
        "Premios\n",
        "* Oro (1)\n",
        "* Plata (2)\n",
        "* Bronce (3)\n",
        "\n",
        "\n",
        "Se pide:\n",
        "\n",
        "* Escribiendo la solución en una celda de Markdown analice el caso indicando si se trata de variaciones, permutaciones o combinaciones, con o sin repetición o el caso que sea, y el motivo para clasificar el caso de esta forma.\n",
        "* Utilizando fórmulas de  LATEX  calcule cuántos casos existen.\n",
        "* Cree un programa en Python para calcule cuántos casos existen.\n",
        "* Cree un programa en Python para imprimir todas las posibilidades y numérelas."
      ],
      "metadata": {
        "id": "NkoasR5wpTH7"
      }
    },
    {
      "cell_type": "markdown",
      "source": [
        "### Solución 1.5"
      ],
      "metadata": {
        "id": "FvLcj6XXkFOV"
      }
    },
    {
      "cell_type": "markdown",
      "source": [
        "*Es* una **permutación sin repetición** porque:\n",
        "* Importa el orden, el premio será diferente.\n",
        "* Hay tres premios y tres concursantes n = k.\n",
        "* No hay repeticiones, un participante no puede obtener dos premios a la vez.\n",
        "Número de casos diferentes:\n",
        "$$P = n!$$"
      ],
      "metadata": {
        "id": "EfiSuDuEp1r1"
      }
    },
    {
      "cell_type": "code",
      "source": [
        "import math\n",
        "n = 3;\n",
        "p = math.factorial (n)\n",
        "print (\"El número de casos es: \",p)"
      ],
      "metadata": {
        "colab": {
          "base_uri": "https://localhost:8080/"
        },
        "id": "L05FhoBqpUAt",
        "outputId": "12b4801a-8545-4ba9-8c64-64c22669a90e"
      },
      "execution_count": null,
      "outputs": [
        {
          "output_type": "stream",
          "name": "stdout",
          "text": [
            "El número de casos es:  6\n"
          ]
        }
      ]
    },
    {
      "cell_type": "code",
      "source": [
        "lista = [\"A\",\"B\",\"C\"]  \n",
        "cont = 1  \n",
        "for i in lista:\n",
        "  for j in lista:\n",
        "    for k in lista:\n",
        "      if i is not j and i is not k and j is not k:\n",
        "        print(f\"{cont:2d} →  {i+j+k}\")\n",
        "        cont = cont + 1"
      ],
      "metadata": {
        "colab": {
          "base_uri": "https://localhost:8080/"
        },
        "id": "xbZ8J1EUrKGG",
        "outputId": "bff4ca47-970d-4134-936e-9f0864d9074a"
      },
      "execution_count": null,
      "outputs": [
        {
          "output_type": "stream",
          "name": "stdout",
          "text": [
            " 1 →  ABC\n",
            " 2 →  ACB\n",
            " 3 →  BAC\n",
            " 4 →  BCA\n",
            " 5 →  CAB\n",
            " 6 →  CBA\n"
          ]
        }
      ]
    },
    {
      "cell_type": "markdown",
      "source": [
        "## Práctica 1.6\n",
        "Invente un caso de **permutaciones con repetición**.\n",
        "Se pide contestar a los mismos puntos que el caso anterior."
      ],
      "metadata": {
        "id": "YWUXIczqLj3W"
      }
    },
    {
      "cell_type": "markdown",
      "source": [
        "¿Cuántas palabras pueden escribirse con las letras de la palabra MATEMATICAS?\n",
        "\n",
        "Estamos ante un caso de permutaciones con repetición\n",
        "* Importa el orden.\n",
        "* Intervienen todos las letras.\n",
        "* Las letras pueden repetirse.\n",
        "\n",
        "Número de casos:\n",
        "$$P = n!/ (k1! \\cdot k2!\\cdot... , kr!)$$\n",
        "\n",
        "\n"
      ],
      "metadata": {
        "id": "384r47_3MM60"
      }
    },
    {
      "cell_type": "markdown",
      "source": [
        "### Solución 1.6"
      ],
      "metadata": {
        "id": "siAxWVVekHs6"
      }
    },
    {
      "cell_type": "markdown",
      "source": [],
      "metadata": {
        "id": "Nt3w3C6_OwA7"
      }
    },
    {
      "cell_type": "code",
      "source": [
        "from itertools import permutations\n",
        "\n",
        "p = permutations(\"MATEMATICAS\")\n",
        "lista = [''.join(i) for i in p]\n",
        "conjunto = set(lista)\n",
        "ordenada = list(conjunto)\n",
        "ordenada.sort()\n",
        "print (ordenada)\n",
        "print (f\"El numero de casos obtenido es: {len(ordenada)}.\")"
      ],
      "metadata": {
        "colab": {
          "base_uri": "https://localhost:8080/"
        },
        "id": "jBz-HjD05mJw",
        "outputId": "44a3131e-418e-4650-c92c-abc663f21b00"
      },
      "execution_count": null,
      "outputs": [
        {
          "output_type": "stream",
          "name": "stderr",
          "text": [
            "IOPub data rate exceeded.\n",
            "The notebook server will temporarily stop sending output\n",
            "to the client in order to avoid crashing it.\n",
            "To change this limit, set the config variable\n",
            "`--NotebookApp.iopub_data_rate_limit`.\n",
            "\n",
            "Current values:\n",
            "NotebookApp.iopub_data_rate_limit=1000000.0 (bytes/sec)\n",
            "NotebookApp.rate_limit_window=3.0 (secs)\n",
            "\n"
          ]
        }
      ]
    },
    {
      "cell_type": "markdown",
      "source": [
        "## Práctica 1.7\n",
        "Invente un caso de **combinaciones sin repetición**.\n",
        "Se pide contestar a los mismos puntos que el caso anterior."
      ],
      "metadata": {
        "id": "opCrIDtJGg1R"
      }
    },
    {
      "cell_type": "markdown",
      "source": [
        "En una clase de 7 alumnos se quieren elegir dos delegados,ambos tendrán las mismas funciones.\n"
      ],
      "metadata": {
        "id": "djtlS5LDAkbB"
      }
    },
    {
      "cell_type": "markdown",
      "source": [
        "### Solución 1.7"
      ],
      "metadata": {
        "id": "Zs46BsRnkJcl"
      }
    },
    {
      "cell_type": "markdown",
      "source": [
        "Estamos ante un caso de **combinaciones sin repetición**:\n",
        "* No importa el orden de elección, ambos tienen las mismas funciones.\n",
        "* No intervienen los 7 alumnos, sólo 2.\n",
        "* No hay repetición, el mismo alumno no puede desempeñar ambos cargos."
      ],
      "metadata": {
        "id": "M5ZyhwpIBJEe"
      }
    },
    {
      "cell_type": "markdown",
      "source": [
        "Número de casos: $$C = n!/(k! ⋅ (n-k)!)$$"
      ],
      "metadata": {
        "id": "JQxaFIzPBQua"
      }
    },
    {
      "cell_type": "code",
      "source": [
        "import math\n",
        "n = 7\n",
        "k = 2\n",
        "c = math.factorial(n)/(math.factorial(k)*math.factorial(n-k))\n",
        "print (\"El número de casos es: \",c)"
      ],
      "metadata": {
        "colab": {
          "base_uri": "https://localhost:8080/"
        },
        "id": "D6Obvq8BCs1F",
        "outputId": "bee27e30-ed33-4c63-ef52-f81c06904e2b"
      },
      "execution_count": null,
      "outputs": [
        {
          "output_type": "stream",
          "name": "stdout",
          "text": [
            "El número de casos es:  21.0\n"
          ]
        }
      ]
    },
    {
      "cell_type": "code",
      "source": [
        "lista = ['A', 'B', 'C', 'D', 'E', 'F','G']\n",
        "n = 0\n",
        "contador = 1\n",
        "dele = []\n",
        "\n",
        "while n < 7:\n",
        "    for i in lista:\n",
        "        for j in lista:\n",
        "            if i != j and j + i not in dele:\n",
        "                k = i + j\n",
        "                dele.append(k)\n",
        "                print(f\"{contador:2d} →  {i+j}\")\n",
        "                contador += 1\n",
        "                n += 1\n",
        "\n"
      ],
      "metadata": {
        "colab": {
          "base_uri": "https://localhost:8080/"
        },
        "id": "7uHabhjaPcl-",
        "outputId": "233dc951-a8b6-4466-dda3-bd908e45399b"
      },
      "execution_count": null,
      "outputs": [
        {
          "output_type": "stream",
          "name": "stdout",
          "text": [
            " 1 →  AB\n",
            " 2 →  AC\n",
            " 3 →  AD\n",
            " 4 →  AE\n",
            " 5 →  AF\n",
            " 6 →  AG\n",
            " 7 →  BC\n",
            " 8 →  BD\n",
            " 9 →  BE\n",
            "10 →  BF\n",
            "11 →  BG\n",
            "12 →  CD\n",
            "13 →  CE\n",
            "14 →  CF\n",
            "15 →  CG\n",
            "16 →  DE\n",
            "17 →  DF\n",
            "18 →  DG\n",
            "19 →  EF\n",
            "20 →  EG\n",
            "21 →  FG\n"
          ]
        }
      ]
    },
    {
      "cell_type": "markdown",
      "source": [
        "## Práctica 1.8\n",
        "Invente un caso de **combinaciones con repetición**.\n",
        "Se pide contestar a los mismos puntos que el caso anterior."
      ],
      "metadata": {
        "id": "-7Y5WWlDGzAR"
      }
    },
    {
      "cell_type": "markdown",
      "source": [
        "Tenemos 4 canicas en una bolsa, 2 rojas y 2 azules. ¿Cuántas formas diderentes hay de elegir las bolas de 2 en 2?"
      ],
      "metadata": {
        "id": "sHWftBRyMZWv"
      }
    },
    {
      "cell_type": "markdown",
      "source": [
        "### Solución 1.8"
      ],
      "metadata": {
        "id": "ReRULqd8kL1F"
      }
    },
    {
      "cell_type": "markdown",
      "source": [
        "Estamos ante un caso de **combinaciones con repetición**\n",
        "* No importa el orden.\n",
        "* No intervienen las 4 canicas, sólo 2.\n",
        "* Hay repetición.\n",
        "Número de casos diferentes:\n",
        "$$v= n!/(n-r)!$$\n"
      ],
      "metadata": {
        "id": "g41vEzf_MtEu"
      }
    },
    {
      "cell_type": "code",
      "source": [
        "import math\n",
        "n = 4\n",
        "r = 2\n",
        "v = math.factorial(4)/math.factorial(4-2)\n",
        "print (\"El numero de casos es \" ,v)"
      ],
      "metadata": {
        "colab": {
          "base_uri": "https://localhost:8080/"
        },
        "id": "fOSf6A4INipK",
        "outputId": "c52f98bf-0418-4aac-d310-a66bfa2976bd"
      },
      "execution_count": null,
      "outputs": [
        {
          "output_type": "stream",
          "name": "stdout",
          "text": [
            "El numero de casos es  12.0\n"
          ]
        }
      ]
    },
    {
      "cell_type": "code",
      "source": [
        "import itertools\n",
        "it = itertools.permutations(['rojo','rojo','azul','azul'], 2)\n",
        "li = list(it)\n",
        "\n",
        "print()\n",
        "for i in range(len(li)):\n",
        "    print(f\"Variación {i+1:2d}: \", *li[i])"
      ],
      "metadata": {
        "colab": {
          "base_uri": "https://localhost:8080/"
        },
        "id": "qEBozQd_N3cU",
        "outputId": "0d480641-1f9b-40a1-e5d1-9b6a7df72367"
      },
      "execution_count": null,
      "outputs": [
        {
          "output_type": "stream",
          "name": "stdout",
          "text": [
            "\n",
            "Variación  1:  rojo rojo\n",
            "Variación  2:  rojo azul\n",
            "Variación  3:  rojo azul\n",
            "Variación  4:  rojo rojo\n",
            "Variación  5:  rojo azul\n",
            "Variación  6:  rojo azul\n",
            "Variación  7:  azul rojo\n",
            "Variación  8:  azul rojo\n",
            "Variación  9:  azul azul\n",
            "Variación 10:  azul rojo\n",
            "Variación 11:  azul rojo\n",
            "Variación 12:  azul azul\n"
          ]
        }
      ]
    },
    {
      "cell_type": "markdown",
      "source": [
        "## Práctica 1.9\n",
        "En el gobierno se crea una unidad de crisis formada por el presidente (P) y 4 ministros (A,B,C,D) que se reúnen sentados alrededor de una **mesa redonda**.\n",
        "\n",
        "Se pide:  \n",
        "1. Calcule de cuantas formas pueden llegar a sentarse si el ministro de defensa (D) siempre ha de estar al lado del presidente (P). Escriba la solución en una celda de Markdown utilizando fórmulas en $\\LaTeX$  explicando el caso.\n",
        "2. Cree un programa en Python para calcular el número de casos que se pueden dar al sentarse en la mesa.\n",
        "3. Cree un programa en Python para imprimir todas las posibilidades y numérelas. Por ejemplo:\n",
        "    - 1 PABCD\n",
        "    - 2 PDABC\n",
        "    - 3 PACBD\n",
        "    - ... ... ...\n"
      ],
      "metadata": {
        "id": "SOzxh_YgHnDG"
      }
    },
    {
      "cell_type": "markdown",
      "source": [
        "### Solución 1.9"
      ],
      "metadata": {
        "id": "F8kV034OkQZX"
      }
    },
    {
      "cell_type": "markdown",
      "source": [
        "* Es una permutación circular, los elementos se colocan en cículo, no hay principio ni fin y los elementos no pueden repetirse.\n",
        "Número de casos: \n",
        "$$P = (n-1)!$$\n",
        "$$P2 = 2!$$\n",
        "$$Pc=P \\cdot P2$$"
      ],
      "metadata": {
        "id": "H7UKY6zlJFcv"
      }
    },
    {
      "cell_type": "code",
      "source": [
        "import math\n",
        "n = 5\n",
        "p = math.factorial(n-1)\n",
        "p2 = math.factorial (2)\n",
        "pc = p * p2\n",
        "print (\"El numero de casos es \",pc)"
      ],
      "metadata": {
        "colab": {
          "base_uri": "https://localhost:8080/"
        },
        "id": "q1adQlPMJqve",
        "outputId": "2cbbfd2c-b2f2-4633-e25c-796dcf8d089b"
      },
      "execution_count": null,
      "outputs": [
        {
          "output_type": "stream",
          "name": "stdout",
          "text": [
            "El numero de casos es  48\n"
          ]
        }
      ]
    },
    {
      "cell_type": "code",
      "source": [
        "lista = ['PA', 'B', 'C', 'D']\n",
        "lista2 = ['AP', 'B', 'C', 'D']\n",
        "contador = 1\n",
        "for i in lista:\n",
        "    for j in lista:\n",
        "        for k in lista:\n",
        "          for l in lista:\n",
        "                if i != j and i != k and j !=k and i != l and j != l and k != l:\n",
        "                    print(f\"{contador:2d} →  {i+j+k+l}\")\n",
        "                    contador += 1\n",
        "    cont = 25\n",
        " \n",
        "for r in lista2:\n",
        "  for s in lista2:\n",
        "      for t in lista2:\n",
        "        for u in lista2:\n",
        "               if r != s and r != t and s !=t and r != u and s != u and t != u:\n",
        "                    print(f\"{cont:2d} →  {r+s+t+u}\")\n",
        "                    cont += 1        "
      ],
      "metadata": {
        "colab": {
          "base_uri": "https://localhost:8080/"
        },
        "id": "cb86Jq2gV3Vf",
        "outputId": "18ca5a70-083d-4ac7-ecb4-088dea8638b1"
      },
      "execution_count": null,
      "outputs": [
        {
          "output_type": "stream",
          "name": "stdout",
          "text": [
            " 1 →  PABCD\n",
            " 2 →  PABDC\n",
            " 3 →  PACBD\n",
            " 4 →  PACDB\n",
            " 5 →  PADBC\n",
            " 6 →  PADCB\n",
            " 7 →  BPACD\n",
            " 8 →  BPADC\n",
            " 9 →  BCPAD\n",
            "10 →  BCDPA\n",
            "11 →  BDPAC\n",
            "12 →  BDCPA\n",
            "13 →  CPABD\n",
            "14 →  CPADB\n",
            "15 →  CBPAD\n",
            "16 →  CBDPA\n",
            "17 →  CDPAB\n",
            "18 →  CDBPA\n",
            "19 →  DPABC\n",
            "20 →  DPACB\n",
            "21 →  DBPAC\n",
            "22 →  DBCPA\n",
            "23 →  DCPAB\n",
            "24 →  DCBPA\n",
            "25 →  APBCD\n",
            "26 →  APBDC\n",
            "27 →  APCBD\n",
            "28 →  APCDB\n",
            "29 →  APDBC\n",
            "30 →  APDCB\n",
            "31 →  BAPCD\n",
            "32 →  BAPDC\n",
            "33 →  BCAPD\n",
            "34 →  BCDAP\n",
            "35 →  BDAPC\n",
            "36 →  BDCAP\n",
            "37 →  CAPBD\n",
            "38 →  CAPDB\n",
            "39 →  CBAPD\n",
            "40 →  CBDAP\n",
            "41 →  CDAPB\n",
            "42 →  CDBAP\n",
            "43 →  DAPBC\n",
            "44 →  DAPCB\n",
            "45 →  DBAPC\n",
            "46 →  DBCAP\n",
            "47 →  DCAPB\n",
            "48 →  DCBAP\n"
          ]
        }
      ]
    },
    {
      "cell_type": "markdown",
      "source": [
        "## Práctica 10\n",
        "* Realice una breve explicación teórica del **triángulo de Pascal**, o también llamado triángulo de Tartaglia, y de las fórmulas de los números combinatorios.\n",
        "* Cree un programa en Python para hacer triángulo de Pascal."
      ],
      "metadata": {
        "id": "eiHdMOP-MkrZ"
      }
    },
    {
      "cell_type": "markdown",
      "source": [
        "### Solución 1.10"
      ],
      "metadata": {
        "id": "j0UT2579kTSM"
      }
    },
    {
      "cell_type": "markdown",
      "source": [
        "**Triángulo de Pascal**\n",
        "\n",
        "Fue creado para calcular las potencias de los binomios. Es un triángulo de números enteros, la primera fila comienza por un 1 y cada número es la  suma de los dos que tiene encima, es infinito."
      ],
      "metadata": {
        "id": "BobJ3hgCPYQM"
      }
    },
    {
      "cell_type": "code",
      "source": [
        "from math import factorial \n",
        "  \n",
        "n = 5\n",
        "for i in range(n): \n",
        "    for j in range(n-i+1): \n",
        "  \n",
        "        print(end=\" \") \n",
        "\n",
        "  \n",
        "    for j in range(i+1): \n",
        "  \n",
        "        \n",
        "        print(factorial(i)//(factorial(j)*factorial(i-j)), end=\" \") \n",
        "  \n",
        "    \n",
        "    print() "
      ],
      "metadata": {
        "colab": {
          "base_uri": "https://localhost:8080/"
        },
        "id": "yfv5lzKEQkHE",
        "outputId": "0b0c163b-1471-4d0d-b78a-18d89905bf85"
      },
      "execution_count": null,
      "outputs": [
        {
          "output_type": "stream",
          "name": "stdout",
          "text": [
            "      1 \n",
            "     1 1 \n",
            "    1 2 1 \n",
            "   1 3 3 1 \n",
            "  1 4 6 4 1 \n"
          ]
        }
      ]
    }
  ]
}